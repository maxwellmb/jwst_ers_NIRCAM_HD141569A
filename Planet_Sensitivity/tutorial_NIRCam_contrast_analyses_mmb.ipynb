{
 "cells": [
  {
   "cell_type": "markdown",
   "id": "e0dab164",
   "metadata": {},
   "source": [
    "# Tutorial for NIRCam post-pipeline contrast analyses using spaceKLIP\n",
    "\n",
    "In this notebook we will analyze the NIRCam coronagraphy data on HIP 65426 b \n",
    "from the JWST ERS program on Direct Observations of Exoplanetary Systems, program 1386. \n",
    "\n",
    "\n",
    "<!-- <div class=\"alert alert-block alert-warning\">\n",
    "<b>Prerequisite:</b> This notebook assumes you have already ran the \"Tutorial for NIRCam data reductions\" notebook. The output files  must be present from that reduction to be analyzed in this notebook.\n",
    "\n",
    "</div> -->"
   ]
  },
  {
   "cell_type": "markdown",
   "id": "7805e7a0",
   "metadata": {},
   "source": [
    "## Setup and imports"
   ]
  },
  {
   "cell_type": "markdown",
   "id": "f9d931cc",
   "metadata": {},
   "source": []
  },
  {
   "cell_type": "code",
   "execution_count": 1,
   "id": "c05898da",
   "metadata": {},
   "outputs": [
    {
     "name": "stderr",
     "output_type": "stream",
     "text": [
      "**WARNING**: LOCAL JWST PRD VERSION PRDOPSSOC-062 CANNOT BE CHECKED AGAINST ONLINE VERSION\n"
     ]
    }
   ],
   "source": [
    "import os\n",
    "import pdb\n",
    "import sys\n",
    "import glob\n",
    "\n",
    "import numpy as np\n",
    "import astropy.io.fits as fits\n",
    "import astropy.table\n",
    "\n",
    "import matplotlib.pyplot as plt\n",
    "import matplotlib\n",
    "\n",
    "import spaceKLIP"
   ]
  },
  {
   "cell_type": "markdown",
   "id": "809b02ab",
   "metadata": {},
   "source": [
    "Note that currently the import of `webbpsf_ext` has a side effect of configuring extra verbose logging. We're not interested in that logging text, so let's quiet it. "
   ]
  },
  {
   "cell_type": "code",
   "execution_count": 2,
   "id": "2af0d94a",
   "metadata": {},
   "outputs": [],
   "source": [
    "import webbpsf_ext\n",
    "webbpsf_ext.setup_logging('WARN', verbose=False)"
   ]
  },
  {
   "cell_type": "code",
   "execution_count": 3,
   "id": "ebe69055",
   "metadata": {},
   "outputs": [],
   "source": [
    "idir = '/home/maxmb/Library/jwst_hd141569a_lib/data/F360M/jk/231108/for_planet_sensitivity/'\n",
    "odir = idir+'spaceklip/'"
   ]
  },
  {
   "cell_type": "markdown",
   "id": "dc32bde4",
   "metadata": {},
   "source": [
    "## Re-read level 3 outputs into database \n",
    "Read in output files produced in the NIRCam coronagraph data reduction notebook. "
   ]
  },
  {
   "cell_type": "code",
   "execution_count": 4,
   "id": "005a5693",
   "metadata": {},
   "outputs": [
    {
     "name": "stdout",
     "output_type": "stream",
     "text": [
      "[spaceKLIP.database:INFO] --> Identified 1 concatenation(s)\n",
      "[spaceKLIP.database:INFO]   --> Concatenation 1: JWST_NIRCAM_NRCALONG_F360M_MASKRND_MASK335R_SUB320A335R\n",
      "TYPE  EXP_TYPE DATAMODL TELESCOP ... BUNIT       ROLL_REF      BLURFWHM\n",
      "---- --------- -------- -------- ... ------ ------------------ --------\n",
      " SCI NRC_CORON   STAGE2     JWST ... MJy/sr 284.81837368750297      nan\n",
      " SCI NRC_CORON   STAGE2     JWST ... MJy/sr 279.81907905732885      nan\n",
      " REF NRC_CORON   STAGE2     JWST ... MJy/sr 282.51312949954837      nan\n",
      " REF NRC_CORON   STAGE2     JWST ... MJy/sr 282.51313034376915      nan\n",
      " REF NRC_CORON   STAGE2     JWST ... MJy/sr 282.51313134434986      nan\n",
      " REF NRC_CORON   STAGE2     JWST ... MJy/sr 282.51313294761457      nan\n",
      " REF NRC_CORON   STAGE2     JWST ... MJy/sr 282.51313649738125      nan\n",
      " REF NRC_CORON   STAGE2     JWST ... MJy/sr  282.5131343376724      nan\n",
      " REF NRC_CORON   STAGE2     JWST ... MJy/sr 282.51312778918776      nan\n",
      " REF NRC_CORON   STAGE2     JWST ... MJy/sr  282.5131360458446      nan\n",
      " REF NRC_CORON   STAGE2     JWST ... MJy/sr  282.5131301869932      nan\n"
     ]
    }
   ],
   "source": [
    "fitsfiles = sorted([idir + f for f in os.listdir(idir)\n",
    "                if f.endswith('.fits')])\n",
    "\n",
    "\n",
    "# Initialize spaceKLIP database.\n",
    "database = spaceKLIP.database.Database(output_dir=odir)\n",
    "\n",
    "# Read FITS files.\n",
    "database.read_jwst_s012_data(datapaths=fitsfiles,\n",
    "                                bgpaths=None)"
   ]
  },
  {
   "cell_type": "code",
   "execution_count": 5,
   "id": "cc24f437",
   "metadata": {},
   "outputs": [
    {
     "name": "stdout",
     "output_type": "stream",
     "text": [
      "[spaceKLIP.imagetools:INFO] --> Concatenation JWST_NIRCAM_NRCALONG_F360M_MASKRND_MASK335R_SUB320A335R\n",
      "[spaceKLIP.imagetools:INFO]   --> Frame cropping: jw01386117001_03107_00001_nrcalong_calints_mstar_subtracted_disk_subtracted.fits\n",
      "[spaceKLIP.imagetools:INFO]   --> Frame cropping: old shape = (320, 320), new shape = (160, 160)\n",
      "[spaceKLIP.imagetools:INFO]   --> Frame cropping: jw01386118001_03107_00001_nrcalong_calints_mstar_subtracted_disk_subtracted.fits\n",
      "[spaceKLIP.imagetools:INFO]   --> Frame cropping: old shape = (320, 320), new shape = (160, 160)\n",
      "[spaceKLIP.imagetools:INFO]   --> Frame cropping: jw01386116001_03108_00001_nrcalong_calints.fits\n",
      "[spaceKLIP.imagetools:INFO]   --> Frame cropping: old shape = (320, 320), new shape = (160, 160)\n",
      "[spaceKLIP.imagetools:INFO]   --> Frame cropping: jw01386116001_03108_00002_nrcalong_calints.fits\n",
      "[spaceKLIP.imagetools:INFO]   --> Frame cropping: old shape = (320, 320), new shape = (160, 160)\n",
      "[spaceKLIP.imagetools:INFO]   --> Frame cropping: jw01386116001_03108_00003_nrcalong_calints.fits\n",
      "[spaceKLIP.imagetools:INFO]   --> Frame cropping: old shape = (320, 320), new shape = (160, 160)\n",
      "[spaceKLIP.imagetools:INFO]   --> Frame cropping: jw01386116001_03108_00004_nrcalong_calints.fits\n",
      "[spaceKLIP.imagetools:INFO]   --> Frame cropping: old shape = (320, 320), new shape = (160, 160)\n",
      "[spaceKLIP.imagetools:INFO]   --> Frame cropping: jw01386116001_03108_00005_nrcalong_calints.fits\n",
      "[spaceKLIP.imagetools:INFO]   --> Frame cropping: old shape = (320, 320), new shape = (160, 160)\n",
      "[spaceKLIP.imagetools:INFO]   --> Frame cropping: jw01386116001_03108_00006_nrcalong_calints.fits\n",
      "[spaceKLIP.imagetools:INFO]   --> Frame cropping: old shape = (320, 320), new shape = (160, 160)\n",
      "[spaceKLIP.imagetools:INFO]   --> Frame cropping: jw01386116001_03108_00007_nrcalong_calints.fits\n",
      "[spaceKLIP.imagetools:INFO]   --> Frame cropping: old shape = (320, 320), new shape = (160, 160)\n",
      "[spaceKLIP.imagetools:INFO]   --> Frame cropping: jw01386116001_03108_00008_nrcalong_calints.fits\n",
      "[spaceKLIP.imagetools:INFO]   --> Frame cropping: old shape = (320, 320), new shape = (160, 160)\n",
      "[spaceKLIP.imagetools:INFO]   --> Frame cropping: jw01386116001_03108_00009_nrcalong_calints.fits\n",
      "[spaceKLIP.imagetools:INFO]   --> Frame cropping: old shape = (320, 320), new shape = (160, 160)\n",
      "[spaceKLIP.imagetools:INFO] --> Concatenation JWST_NIRCAM_NRCALONG_F360M_MASKRND_MASK335R_SUB320A335R\n",
      "[spaceKLIP.imagetools:INFO]   --> Align frames: jw01386117001_03107_00001_nrcalong_calints_mstar_subtracted_disk_subtracted.fits\n",
      "[spaceKLIP.imagetools:INFO]   --> Align frames: median required shift = 0.19 mas\n",
      "[spaceKLIP.imagetools:INFO]   --> Align frames: jw01386118001_03107_00001_nrcalong_calints_mstar_subtracted_disk_subtracted.fits\n",
      "[spaceKLIP.imagetools:INFO]   --> Align frames: median required shift = 15.42 mas\n",
      "[spaceKLIP.imagetools:INFO]   --> Align frames: jw01386116001_03108_00001_nrcalong_calints.fits\n",
      "[spaceKLIP.imagetools:INFO]   --> Align frames: median required shift = 25.26 mas\n",
      "[spaceKLIP.imagetools:INFO]   --> Align frames: jw01386116001_03108_00002_nrcalong_calints.fits\n",
      "[spaceKLIP.imagetools:INFO]   --> Align frames: median required shift = 9.25 mas\n",
      "[spaceKLIP.imagetools:INFO]   --> Align frames: jw01386116001_03108_00003_nrcalong_calints.fits\n",
      "[spaceKLIP.imagetools:INFO]   --> Align frames: median required shift = 10.75 mas\n",
      "[spaceKLIP.imagetools:INFO]   --> Align frames: jw01386116001_03108_00004_nrcalong_calints.fits\n",
      "[spaceKLIP.imagetools:INFO]   --> Align frames: median required shift = 27.81 mas\n",
      "[spaceKLIP.imagetools:INFO]   --> Align frames: jw01386116001_03108_00005_nrcalong_calints.fits\n",
      "[spaceKLIP.imagetools:INFO]   --> Align frames: median required shift = 41.23 mas\n",
      "[spaceKLIP.imagetools:INFO]   --> Align frames: jw01386116001_03108_00006_nrcalong_calints.fits\n",
      "[spaceKLIP.imagetools:INFO]   --> Align frames: median required shift = 45.35 mas\n",
      "[spaceKLIP.imagetools:INFO]   --> Align frames: jw01386116001_03108_00007_nrcalong_calints.fits\n",
      "[spaceKLIP.imagetools:INFO]   --> Align frames: median required shift = 45.97 mas\n",
      "[spaceKLIP.imagetools:INFO]   --> Align frames: jw01386116001_03108_00008_nrcalong_calints.fits\n",
      "[spaceKLIP.imagetools:INFO]   --> Align frames: median required shift = 38.28 mas\n",
      "[spaceKLIP.imagetools:INFO]   --> Align frames: jw01386116001_03108_00009_nrcalong_calints.fits\n",
      "[spaceKLIP.imagetools:INFO]   --> Align frames: median required shift = 26.04 mas\n",
      "[spaceKLIP.imagetools:INFO]  Plot saved in /home/maxmb/Library/jwst_hd141569a_lib/data/F360M/jk/231108/for_planet_sensitivity/spaceklip/aligned/JWST_NIRCAM_NRCALONG_F360M_MASKRND_MASK335R_SUB320A335R_align_sci.pdf\n",
      "[spaceKLIP.imagetools:INFO]  Plot saved in /home/maxmb/Library/jwst_hd141569a_lib/data/F360M/jk/231108/for_planet_sensitivity/spaceklip/aligned/JWST_NIRCAM_NRCALONG_F360M_MASKRND_MASK335R_SUB320A335R_align_ref.pdf\n",
      "[spaceKLIP.imagetools:INFO] --> Concatenation JWST_NIRCAM_NRCALONG_F360M_MASKRND_MASK335R_SUB320A335R\n",
      "[spaceKLIP.imagetools:INFO]   --> Frame coadding: jw01386117001_03107_00001_nrcalong_calints_mstar_subtracted_disk_subtracted.fits\n",
      "[spaceKLIP.imagetools:INFO]   --> Frame coadding: 1 coadd(s) of 12 frame(s)\n",
      "[spaceKLIP.imagetools:INFO]   --> Frame coadding: jw01386118001_03107_00001_nrcalong_calints_mstar_subtracted_disk_subtracted.fits\n",
      "[spaceKLIP.imagetools:INFO]   --> Frame coadding: 1 coadd(s) of 12 frame(s)\n",
      "[spaceKLIP.imagetools:INFO]   --> Frame coadding: jw01386116001_03108_00001_nrcalong_calints.fits\n",
      "[spaceKLIP.imagetools:INFO]   --> Frame coadding: 1 coadd(s) of 24 frame(s)\n",
      "[spaceKLIP.imagetools:INFO]   --> Frame coadding: jw01386116001_03108_00002_nrcalong_calints.fits\n",
      "[spaceKLIP.imagetools:INFO]   --> Frame coadding: 1 coadd(s) of 24 frame(s)\n",
      "[spaceKLIP.imagetools:INFO]   --> Frame coadding: jw01386116001_03108_00003_nrcalong_calints.fits\n",
      "[spaceKLIP.imagetools:INFO]   --> Frame coadding: 1 coadd(s) of 24 frame(s)\n",
      "[spaceKLIP.imagetools:INFO]   --> Frame coadding: jw01386116001_03108_00004_nrcalong_calints.fits\n",
      "[spaceKLIP.imagetools:INFO]   --> Frame coadding: 1 coadd(s) of 24 frame(s)\n",
      "[spaceKLIP.imagetools:INFO]   --> Frame coadding: jw01386116001_03108_00005_nrcalong_calints.fits\n",
      "[spaceKLIP.imagetools:INFO]   --> Frame coadding: 1 coadd(s) of 24 frame(s)\n",
      "[spaceKLIP.imagetools:INFO]   --> Frame coadding: jw01386116001_03108_00006_nrcalong_calints.fits\n",
      "[spaceKLIP.imagetools:INFO]   --> Frame coadding: 1 coadd(s) of 24 frame(s)\n",
      "[spaceKLIP.imagetools:INFO]   --> Frame coadding: jw01386116001_03108_00007_nrcalong_calints.fits\n",
      "[spaceKLIP.imagetools:INFO]   --> Frame coadding: 1 coadd(s) of 24 frame(s)\n",
      "[spaceKLIP.imagetools:INFO]   --> Frame coadding: jw01386116001_03108_00008_nrcalong_calints.fits\n",
      "[spaceKLIP.imagetools:INFO]   --> Frame coadding: 1 coadd(s) of 24 frame(s)\n",
      "[spaceKLIP.imagetools:INFO]   --> Frame coadding: jw01386116001_03108_00009_nrcalong_calints.fits\n",
      "[spaceKLIP.imagetools:INFO]   --> Frame coadding: 1 coadd(s) of 24 frame(s)\n"
     ]
    }
   ],
   "source": [
    "ImageTools = spaceKLIP.imagetools.ImageTools(database=database)\n",
    "ImageTools.crop_frames(npix=80,\n",
    "                           types=['SCI', 'SCI_BG', 'REF', 'REF_BG'],\n",
    "                           subdir='cropped')\n",
    "\n",
    "ImageTools.align_frames(method='fourier',\n",
    "                        kwargs={},\n",
    "                        subdir='aligned')\n",
    "\n",
    "# Coadd frames.\n",
    "ImageTools.coadd_frames(nframes=None,\n",
    "                        types=['SCI', 'REF'],\n",
    "                        subdir='coadded')"
   ]
  },
  {
   "cell_type": "code",
   "execution_count": 6,
   "id": "e339da47",
   "metadata": {},
   "outputs": [
    {
     "name": "stdout",
     "output_type": "stream",
     "text": [
      "[spaceKLIP.pyklippipeline:INFO] --> Concatenation JWST_NIRCAM_NRCALONG_F360M_MASKRND_MASK335R_SUB320A335R\n",
      "--> Rejected 0 of 2 images due to too many bad pixels (threshold = 100%)\n",
      "--> Rejected 0 of 9 images due to too many bad pixels (threshold = 100%)\n",
      "--> Rejected 0 of 2 images due to too many bad pixels (threshold = 100%)\n",
      "--> Rejected 0 of 9 images due to too many bad pixels (threshold = 100%)\n",
      "[spaceKLIP.pyklippipeline:INFO]   --> pyKLIP: mode = RDI, annuli = 1, subsections = 1\n",
      "Begin align and scale images for each wavelength\n",
      "Wavelength 3.63 with index 0 has finished align and scale. Queuing for KLIP\n",
      "Total number of tasks for KLIP processing is 1\n",
      "Closing threadpool\n",
      "Derotating Images...\n",
      "Writing Images to directory /home/maxmb/Library/jwst_hd141569a_lib/data/F360M/jk/231108/for_planet_sensitivity/spaceklip/klipsub_final_240221\n",
      "wavelength collapsing reduced data of shape (b, N, wv, y, x):(4, 2, 1, 160, 160)\n",
      "--> Rejected 0 of 2 images due to too many bad pixels (threshold = 100%)\n",
      "--> Rejected 0 of 9 images due to too many bad pixels (threshold = 100%)\n",
      "[spaceKLIP.pyklippipeline:INFO]   --> pyKLIP: mode = RDI, annuli = 1, subsections = 4\n",
      "Begin align and scale images for each wavelength\n",
      "Wavelength 3.63 with index 0 has finished align and scale. Queuing for KLIP\n",
      "Total number of tasks for KLIP processing is 4\n",
      "Closing threadpool\n",
      "Derotating Images...\n",
      "Writing Images to directory /home/maxmb/Library/jwst_hd141569a_lib/data/F360M/jk/231108/for_planet_sensitivity/spaceklip/klipsub_final_240221\n",
      "wavelength collapsing reduced data of shape (b, N, wv, y, x):(4, 2, 1, 160, 160)\n",
      "--> Rejected 0 of 2 images due to too many bad pixels (threshold = 100%)\n",
      "--> Rejected 0 of 9 images due to too many bad pixels (threshold = 100%)\n",
      "[spaceKLIP.pyklippipeline:INFO]   --> pyKLIP: mode = RDI, annuli = 1, subsections = 6\n",
      "Begin align and scale images for each wavelength\n",
      "Wavelength 3.63 with index 0 has finished align and scale. Queuing for KLIP\n",
      "Total number of tasks for KLIP processing is 6\n",
      "Closing threadpool\n",
      "Derotating Images...\n",
      "Writing Images to directory /home/maxmb/Library/jwst_hd141569a_lib/data/F360M/jk/231108/for_planet_sensitivity/spaceklip/klipsub_final_240221\n",
      "wavelength collapsing reduced data of shape (b, N, wv, y, x):(4, 2, 1, 160, 160)\n",
      "--> Rejected 0 of 2 images due to too many bad pixels (threshold = 100%)\n",
      "--> Rejected 0 of 9 images due to too many bad pixels (threshold = 100%)\n",
      "[spaceKLIP.pyklippipeline:INFO]   --> pyKLIP: mode = RDI, annuli = 5, subsections = 1\n",
      "Begin align and scale images for each wavelength\n",
      "Wavelength 3.63 with index 0 has finished align and scale. Queuing for KLIP\n",
      "Total number of tasks for KLIP processing is 5\n",
      "Closing threadpool\n",
      "Derotating Images...\n",
      "Writing Images to directory /home/maxmb/Library/jwst_hd141569a_lib/data/F360M/jk/231108/for_planet_sensitivity/spaceklip/klipsub_final_240221\n",
      "wavelength collapsing reduced data of shape (b, N, wv, y, x):(4, 2, 1, 160, 160)\n",
      "--> Rejected 0 of 2 images due to too many bad pixels (threshold = 100%)\n",
      "--> Rejected 0 of 9 images due to too many bad pixels (threshold = 100%)\n",
      "[spaceKLIP.pyklippipeline:INFO]   --> pyKLIP: mode = RDI, annuli = 5, subsections = 4\n",
      "Begin align and scale images for each wavelength\n",
      "Wavelength 3.63 with index 0 has finished align and scale. Queuing for KLIP\n",
      "Total number of tasks for KLIP processing is 20\n",
      "50.0% done (9/20 completed)\n",
      "100.0% done (19/20 completed)\n",
      "Closing threadpool\n",
      "Derotating Images...\n",
      "Writing Images to directory /home/maxmb/Library/jwst_hd141569a_lib/data/F360M/jk/231108/for_planet_sensitivity/spaceklip/klipsub_final_240221\n",
      "wavelength collapsing reduced data of shape (b, N, wv, y, x):(4, 2, 1, 160, 160)\n",
      "--> Rejected 0 of 2 images due to too many bad pixels (threshold = 100%)\n",
      "--> Rejected 0 of 9 images due to too many bad pixels (threshold = 100%)\n",
      "[spaceKLIP.pyklippipeline:INFO]   --> pyKLIP: mode = RDI, annuli = 5, subsections = 6\n",
      "Begin align and scale images for each wavelength\n",
      "Wavelength 3.63 with index 0 has finished align and scale. Queuing for KLIP\n",
      "Total number of tasks for KLIP processing is 30\n",
      "33.33% done (9/30 completed)\n",
      "66.67% done (19/30 completed)\n",
      "100.0% done (29/30 completed)\n",
      "Closing threadpool\n",
      "Derotating Images...\n",
      "Writing Images to directory /home/maxmb/Library/jwst_hd141569a_lib/data/F360M/jk/231108/for_planet_sensitivity/spaceklip/klipsub_final_240221\n",
      "wavelength collapsing reduced data of shape (b, N, wv, y, x):(4, 2, 1, 160, 160)\n",
      "--> Rejected 0 of 2 images due to too many bad pixels (threshold = 100%)\n",
      "--> Rejected 0 of 9 images due to too many bad pixels (threshold = 100%)\n",
      "[spaceKLIP.pyklippipeline:INFO]   --> pyKLIP: mode = RDI, annuli = 20, subsections = 1\n",
      "Begin align and scale images for each wavelength\n",
      "Wavelength 3.63 with index 0 has finished align and scale. Queuing for KLIP\n",
      "Total number of tasks for KLIP processing is 20\n",
      "50.0% done (9/20 completed)\n",
      "100.0% done (19/20 completed)\n",
      "Closing threadpool\n",
      "Derotating Images...\n",
      "Writing Images to directory /home/maxmb/Library/jwst_hd141569a_lib/data/F360M/jk/231108/for_planet_sensitivity/spaceklip/klipsub_final_240221\n",
      "wavelength collapsing reduced data of shape (b, N, wv, y, x):(4, 2, 1, 160, 160)\n",
      "--> Rejected 0 of 2 images due to too many bad pixels (threshold = 100%)\n",
      "--> Rejected 0 of 9 images due to too many bad pixels (threshold = 100%)\n",
      "[spaceKLIP.pyklippipeline:INFO]   --> pyKLIP: mode = RDI, annuli = 20, subsections = 4\n",
      "Begin align and scale images for each wavelength\n",
      "Wavelength 3.63 with index 0 has finished align and scale. Queuing for KLIP\n",
      "Total number of tasks for KLIP processing is 80\n",
      "12.5% done (9/80 completed)\n",
      "25.0% done (19/80 completed)\n",
      "37.5% done (29/80 completed)\n",
      "50.0% done (39/80 completed)\n",
      "62.5% done (49/80 completed)\n",
      "75.0% done (59/80 completed)\n",
      "87.5% done (69/80 completed)\n",
      "100.0% done (79/80 completed)\n",
      "Closing threadpool\n",
      "Derotating Images...\n",
      "Writing Images to directory /home/maxmb/Library/jwst_hd141569a_lib/data/F360M/jk/231108/for_planet_sensitivity/spaceklip/klipsub_final_240221\n",
      "wavelength collapsing reduced data of shape (b, N, wv, y, x):(4, 2, 1, 160, 160)\n",
      "--> Rejected 0 of 2 images due to too many bad pixels (threshold = 100%)\n",
      "--> Rejected 0 of 9 images due to too many bad pixels (threshold = 100%)\n",
      "[spaceKLIP.pyklippipeline:INFO]   --> pyKLIP: mode = RDI, annuli = 20, subsections = 6\n",
      "Begin align and scale images for each wavelength\n",
      "Wavelength 3.63 with index 0 has finished align and scale. Queuing for KLIP\n",
      "Total number of tasks for KLIP processing is 120\n",
      "8.333% done (9/120 completed)\n",
      "16.67% done (19/120 completed)\n",
      "25.0% done (29/120 completed)\n",
      "33.33% done (39/120 completed)\n",
      "41.67% done (49/120 completed)\n",
      "50.0% done (59/120 completed)\n",
      "58.33% done (69/120 completed)\n",
      "66.67% done (79/120 completed)\n",
      "75.0% done (89/120 completed)\n",
      "83.33% done (99/120 completed)\n",
      "91.67% done (109/120 completed)\n",
      "100.0% done (119/120 completed)\n",
      "Closing threadpool\n",
      "Derotating Images...\n",
      "Writing Images to directory /home/maxmb/Library/jwst_hd141569a_lib/data/F360M/jk/231108/for_planet_sensitivity/spaceklip/klipsub_final_240221\n",
      "wavelength collapsing reduced data of shape (b, N, wv, y, x):(4, 2, 1, 160, 160)\n",
      "--> Rejected 0 of 2 images due to too many bad pixels (threshold = 100%)\n",
      "--> Rejected 0 of 9 images due to too many bad pixels (threshold = 100%)\n",
      "[spaceKLIP.pyklippipeline:INFO]   --> pyKLIP: mode = ADI+RDI, annuli = 1, subsections = 1\n",
      "Begin align and scale images for each wavelength\n",
      "Wavelength 3.63 with index 0 has finished align and scale. Queuing for KLIP\n",
      "Total number of tasks for KLIP processing is 1\n",
      "Closing threadpool\n",
      "Derotating Images...\n",
      "Writing Images to directory /home/maxmb/Library/jwst_hd141569a_lib/data/F360M/jk/231108/for_planet_sensitivity/spaceklip/klipsub_final_240221\n",
      "wavelength collapsing reduced data of shape (b, N, wv, y, x):(4, 2, 1, 160, 160)\n",
      "--> Rejected 0 of 2 images due to too many bad pixels (threshold = 100%)\n",
      "--> Rejected 0 of 9 images due to too many bad pixels (threshold = 100%)\n",
      "[spaceKLIP.pyklippipeline:INFO]   --> pyKLIP: mode = ADI+RDI, annuli = 1, subsections = 4\n",
      "Begin align and scale images for each wavelength\n",
      "Wavelength 3.63 with index 0 has finished align and scale. Queuing for KLIP\n",
      "Total number of tasks for KLIP processing is 4\n",
      "Closing threadpool\n",
      "Derotating Images...\n",
      "Writing Images to directory /home/maxmb/Library/jwst_hd141569a_lib/data/F360M/jk/231108/for_planet_sensitivity/spaceklip/klipsub_final_240221\n",
      "wavelength collapsing reduced data of shape (b, N, wv, y, x):(4, 2, 1, 160, 160)\n",
      "--> Rejected 0 of 2 images due to too many bad pixels (threshold = 100%)\n",
      "--> Rejected 0 of 9 images due to too many bad pixels (threshold = 100%)\n",
      "[spaceKLIP.pyklippipeline:INFO]   --> pyKLIP: mode = ADI+RDI, annuli = 1, subsections = 6\n",
      "Begin align and scale images for each wavelength\n",
      "Wavelength 3.63 with index 0 has finished align and scale. Queuing for KLIP\n",
      "Total number of tasks for KLIP processing is 6\n",
      "Closing threadpool\n",
      "Derotating Images...\n",
      "Writing Images to directory /home/maxmb/Library/jwst_hd141569a_lib/data/F360M/jk/231108/for_planet_sensitivity/spaceklip/klipsub_final_240221\n",
      "wavelength collapsing reduced data of shape (b, N, wv, y, x):(4, 2, 1, 160, 160)\n",
      "--> Rejected 0 of 2 images due to too many bad pixels (threshold = 100%)\n",
      "--> Rejected 0 of 9 images due to too many bad pixels (threshold = 100%)\n",
      "[spaceKLIP.pyklippipeline:INFO]   --> pyKLIP: mode = ADI+RDI, annuli = 5, subsections = 1\n",
      "Begin align and scale images for each wavelength\n",
      "Wavelength 3.63 with index 0 has finished align and scale. Queuing for KLIP\n",
      "Total number of tasks for KLIP processing is 5\n",
      "Closing threadpool\n",
      "Derotating Images...\n",
      "Writing Images to directory /home/maxmb/Library/jwst_hd141569a_lib/data/F360M/jk/231108/for_planet_sensitivity/spaceklip/klipsub_final_240221\n",
      "wavelength collapsing reduced data of shape (b, N, wv, y, x):(4, 2, 1, 160, 160)\n",
      "--> Rejected 0 of 2 images due to too many bad pixels (threshold = 100%)\n",
      "--> Rejected 0 of 9 images due to too many bad pixels (threshold = 100%)\n",
      "[spaceKLIP.pyklippipeline:INFO]   --> pyKLIP: mode = ADI+RDI, annuli = 5, subsections = 4\n",
      "Begin align and scale images for each wavelength\n",
      "Wavelength 3.63 with index 0 has finished align and scale. Queuing for KLIP\n",
      "Total number of tasks for KLIP processing is 20\n",
      "50.0% done (9/20 completed)\n",
      "100.0% done (19/20 completed)\n",
      "Closing threadpool\n",
      "Derotating Images...\n",
      "Writing Images to directory /home/maxmb/Library/jwst_hd141569a_lib/data/F360M/jk/231108/for_planet_sensitivity/spaceklip/klipsub_final_240221\n",
      "wavelength collapsing reduced data of shape (b, N, wv, y, x):(4, 2, 1, 160, 160)\n",
      "--> Rejected 0 of 2 images due to too many bad pixels (threshold = 100%)\n",
      "--> Rejected 0 of 9 images due to too many bad pixels (threshold = 100%)\n",
      "[spaceKLIP.pyklippipeline:INFO]   --> pyKLIP: mode = ADI+RDI, annuli = 5, subsections = 6\n",
      "Begin align and scale images for each wavelength\n",
      "Wavelength 3.63 with index 0 has finished align and scale. Queuing for KLIP\n",
      "Total number of tasks for KLIP processing is 30\n",
      "33.33% done (9/30 completed)\n",
      "66.67% done (19/30 completed)\n",
      "100.0% done (29/30 completed)\n",
      "Closing threadpool\n",
      "Derotating Images...\n",
      "Writing Images to directory /home/maxmb/Library/jwst_hd141569a_lib/data/F360M/jk/231108/for_planet_sensitivity/spaceklip/klipsub_final_240221\n",
      "wavelength collapsing reduced data of shape (b, N, wv, y, x):(4, 2, 1, 160, 160)\n",
      "--> Rejected 0 of 2 images due to too many bad pixels (threshold = 100%)\n",
      "--> Rejected 0 of 9 images due to too many bad pixels (threshold = 100%)\n",
      "[spaceKLIP.pyklippipeline:INFO]   --> pyKLIP: mode = ADI+RDI, annuli = 20, subsections = 1\n",
      "Begin align and scale images for each wavelength\n",
      "Wavelength 3.63 with index 0 has finished align and scale. Queuing for KLIP\n",
      "Total number of tasks for KLIP processing is 20\n",
      "50.0% done (9/20 completed)\n",
      "100.0% done (19/20 completed)\n",
      "Closing threadpool\n",
      "Derotating Images...\n",
      "Writing Images to directory /home/maxmb/Library/jwst_hd141569a_lib/data/F360M/jk/231108/for_planet_sensitivity/spaceklip/klipsub_final_240221\n",
      "wavelength collapsing reduced data of shape (b, N, wv, y, x):(4, 2, 1, 160, 160)\n",
      "--> Rejected 0 of 2 images due to too many bad pixels (threshold = 100%)\n",
      "--> Rejected 0 of 9 images due to too many bad pixels (threshold = 100%)\n",
      "[spaceKLIP.pyklippipeline:INFO]   --> pyKLIP: mode = ADI+RDI, annuli = 20, subsections = 4\n",
      "Begin align and scale images for each wavelength\n",
      "Wavelength 3.63 with index 0 has finished align and scale. Queuing for KLIP\n",
      "Total number of tasks for KLIP processing is 80\n",
      "12.5% done (9/80 completed)\n",
      "25.0% done (19/80 completed)\n",
      "37.5% done (29/80 completed)\n",
      "50.0% done (39/80 completed)\n",
      "62.5% done (49/80 completed)\n",
      "75.0% done (59/80 completed)\n",
      "87.5% done (69/80 completed)\n",
      "100.0% done (79/80 completed)\n",
      "Closing threadpool\n",
      "Derotating Images...\n",
      "Writing Images to directory /home/maxmb/Library/jwst_hd141569a_lib/data/F360M/jk/231108/for_planet_sensitivity/spaceklip/klipsub_final_240221\n",
      "wavelength collapsing reduced data of shape (b, N, wv, y, x):(4, 2, 1, 160, 160)\n",
      "--> Rejected 0 of 2 images due to too many bad pixels (threshold = 100%)\n",
      "--> Rejected 0 of 9 images due to too many bad pixels (threshold = 100%)\n",
      "[spaceKLIP.pyklippipeline:INFO]   --> pyKLIP: mode = ADI+RDI, annuli = 20, subsections = 6\n",
      "Begin align and scale images for each wavelength\n",
      "Wavelength 3.63 with index 0 has finished align and scale. Queuing for KLIP\n",
      "Total number of tasks for KLIP processing is 120\n",
      "8.333% done (9/120 completed)\n",
      "16.67% done (19/120 completed)\n",
      "25.0% done (29/120 completed)\n",
      "33.33% done (39/120 completed)\n",
      "41.67% done (49/120 completed)\n",
      "50.0% done (59/120 completed)\n",
      "58.33% done (69/120 completed)\n",
      "66.67% done (79/120 completed)\n",
      "75.0% done (89/120 completed)\n",
      "83.33% done (99/120 completed)\n",
      "91.67% done (109/120 completed)\n",
      "100.0% done (119/120 completed)\n",
      "Closing threadpool\n",
      "Derotating Images...\n",
      "Writing Images to directory /home/maxmb/Library/jwst_hd141569a_lib/data/F360M/jk/231108/for_planet_sensitivity/spaceklip/klipsub_final_240221\n",
      "wavelength collapsing reduced data of shape (b, N, wv, y, x):(4, 2, 1, 160, 160)\n",
      "--> Rejected 0 of 2 images due to too many bad pixels (threshold = 100%)\n",
      "--> Rejected 0 of 9 images due to too many bad pixels (threshold = 100%)\n",
      "[spaceKLIP.pyklippipeline:INFO]   --> pyKLIP: mode = ADI, annuli = 1, subsections = 1\n",
      "Begin align and scale images for each wavelength\n",
      "Wavelength 3.63 with index 0 has finished align and scale. Queuing for KLIP\n",
      "Total number of tasks for KLIP processing is 1\n",
      "Closing threadpool\n",
      "Derotating Images...\n",
      "Writing Images to directory /home/maxmb/Library/jwst_hd141569a_lib/data/F360M/jk/231108/for_planet_sensitivity/spaceklip/klipsub_final_240221\n",
      "wavelength collapsing reduced data of shape (b, N, wv, y, x):(4, 2, 1, 160, 160)\n",
      "--> Rejected 0 of 2 images due to too many bad pixels (threshold = 100%)\n",
      "--> Rejected 0 of 9 images due to too many bad pixels (threshold = 100%)\n",
      "[spaceKLIP.pyklippipeline:INFO]   --> pyKLIP: mode = ADI, annuli = 1, subsections = 4\n",
      "Begin align and scale images for each wavelength\n",
      "Wavelength 3.63 with index 0 has finished align and scale. Queuing for KLIP\n",
      "Total number of tasks for KLIP processing is 4\n",
      "Closing threadpool\n",
      "Derotating Images...\n",
      "Writing Images to directory /home/maxmb/Library/jwst_hd141569a_lib/data/F360M/jk/231108/for_planet_sensitivity/spaceklip/klipsub_final_240221\n",
      "wavelength collapsing reduced data of shape (b, N, wv, y, x):(4, 2, 1, 160, 160)\n",
      "--> Rejected 0 of 2 images due to too many bad pixels (threshold = 100%)\n",
      "--> Rejected 0 of 9 images due to too many bad pixels (threshold = 100%)\n",
      "[spaceKLIP.pyklippipeline:INFO]   --> pyKLIP: mode = ADI, annuli = 1, subsections = 6\n",
      "Begin align and scale images for each wavelength\n",
      "Wavelength 3.63 with index 0 has finished align and scale. Queuing for KLIP\n",
      "Total number of tasks for KLIP processing is 6\n",
      "Closing threadpool\n",
      "Derotating Images...\n",
      "Writing Images to directory /home/maxmb/Library/jwst_hd141569a_lib/data/F360M/jk/231108/for_planet_sensitivity/spaceklip/klipsub_final_240221\n",
      "wavelength collapsing reduced data of shape (b, N, wv, y, x):(4, 2, 1, 160, 160)\n",
      "--> Rejected 0 of 2 images due to too many bad pixels (threshold = 100%)\n",
      "--> Rejected 0 of 9 images due to too many bad pixels (threshold = 100%)\n",
      "[spaceKLIP.pyklippipeline:INFO]   --> pyKLIP: mode = ADI, annuli = 5, subsections = 1\n",
      "less than 1 reference PSFs available for minmove=1.0, skipping...\n",
      "less than 1 reference PSFs available for minmove=1.0, skipping...\n",
      "Begin align and scale images for each wavelength\n",
      "Wavelength 3.63 with index 0 has finished align and scale. Queuing for KLIP\n",
      "Total number of tasks for KLIP processing is 5\n",
      "Closing threadpool\n",
      "Derotating Images...\n",
      "Writing Images to directory /home/maxmb/Library/jwst_hd141569a_lib/data/F360M/jk/231108/for_planet_sensitivity/spaceklip/klipsub_final_240221\n",
      "wavelength collapsing reduced data of shape (b, N, wv, y, x):(4, 2, 1, 160, 160)\n",
      "--> Rejected 0 of 2 images due to too many bad pixels (threshold = 100%)\n",
      "--> Rejected 0 of 9 images due to too many bad pixels (threshold = 100%)\n",
      "[spaceKLIP.pyklippipeline:INFO]   --> pyKLIP: mode = ADI, annuli = 5, subsections = 4\n",
      "less than 1 reference PSFs available for minmove=1.0, skipping...less than 1 reference PSFs available for minmove=1.0, skipping...\n",
      "\n",
      "less than 1 reference PSFs available for minmove=1.0, skipping...less than 1 reference PSFs available for minmove=1.0, skipping...\n",
      "less than 1 reference PSFs available for minmove=1.0, skipping...less than 1 reference PSFs available for minmove=1.0, skipping...\n",
      "\n",
      "\n",
      "less than 1 reference PSFs available for minmove=1.0, skipping...less than 1 reference PSFs available for minmove=1.0, skipping...\n",
      "\n",
      "Begin align and scale images for each wavelength\n",
      "Wavelength 3.63 with index 0 has finished align and scale. Queuing for KLIP\n",
      "Total number of tasks for KLIP processing is 20\n",
      "50.0% done (9/20 completed)\n",
      "100.0% done (19/20 completed)\n",
      "Closing threadpool\n",
      "Derotating Images...\n",
      "Writing Images to directory /home/maxmb/Library/jwst_hd141569a_lib/data/F360M/jk/231108/for_planet_sensitivity/spaceklip/klipsub_final_240221\n",
      "wavelength collapsing reduced data of shape (b, N, wv, y, x):(4, 2, 1, 160, 160)\n",
      "--> Rejected 0 of 2 images due to too many bad pixels (threshold = 100%)\n",
      "--> Rejected 0 of 9 images due to too many bad pixels (threshold = 100%)\n",
      "[spaceKLIP.pyklippipeline:INFO]   --> pyKLIP: mode = ADI, annuli = 5, subsections = 6\n",
      "less than 1 reference PSFs available for minmove=1.0, skipping...less than 1 reference PSFs available for minmove=1.0, skipping...\n",
      "\n",
      "less than 1 reference PSFs available for minmove=1.0, skipping...less than 1 reference PSFs available for minmove=1.0, skipping...\n",
      "less than 1 reference PSFs available for minmove=1.0, skipping...\n",
      "less than 1 reference PSFs available for minmove=1.0, skipping...\n",
      "less than 1 reference PSFs available for minmove=1.0, skipping...\n",
      "less than 1 reference PSFs available for minmove=1.0, skipping...\n",
      "\n",
      "less than 1 reference PSFs available for minmove=1.0, skipping...less than 1 reference PSFs available for minmove=1.0, skipping...\n",
      "less than 1 reference PSFs available for minmove=1.0, skipping...\n",
      "less than 1 reference PSFs available for minmove=1.0, skipping...\n",
      "\n",
      "Begin align and scale images for each wavelength\n",
      "Wavelength 3.63 with index 0 has finished align and scale. Queuing for KLIP\n",
      "Total number of tasks for KLIP processing is 30\n",
      "33.33% done (9/30 completed)\n",
      "66.67% done (19/30 completed)\n",
      "100.0% done (29/30 completed)\n",
      "Closing threadpool\n",
      "Derotating Images...\n",
      "Writing Images to directory /home/maxmb/Library/jwst_hd141569a_lib/data/F360M/jk/231108/for_planet_sensitivity/spaceklip/klipsub_final_240221\n",
      "wavelength collapsing reduced data of shape (b, N, wv, y, x):(4, 2, 1, 160, 160)\n",
      "--> Rejected 0 of 2 images due to too many bad pixels (threshold = 100%)\n",
      "--> Rejected 0 of 9 images due to too many bad pixels (threshold = 100%)\n",
      "[spaceKLIP.pyklippipeline:INFO]   --> pyKLIP: mode = ADI, annuli = 20, subsections = 1\n",
      "less than 1 reference PSFs available for minmove=1.0, skipping...less than 1 reference PSFs available for minmove=1.0, skipping...less than 1 reference PSFs available for minmove=1.0, skipping...\n",
      "\n",
      "\n",
      "less than 1 reference PSFs available for minmove=1.0, skipping...less than 1 reference PSFs available for minmove=1.0, skipping...less than 1 reference PSFs available for minmove=1.0, skipping...\n",
      "\n",
      "\n",
      "Begin align and scale images for each wavelength\n",
      "Wavelength 3.63 with index 0 has finished align and scale. Queuing for KLIP\n",
      "Total number of tasks for KLIP processing is 20\n",
      "50.0% done (9/20 completed)\n",
      "100.0% done (19/20 completed)\n",
      "Closing threadpool\n",
      "Derotating Images...\n",
      "Writing Images to directory /home/maxmb/Library/jwst_hd141569a_lib/data/F360M/jk/231108/for_planet_sensitivity/spaceklip/klipsub_final_240221\n",
      "wavelength collapsing reduced data of shape (b, N, wv, y, x):(4, 2, 1, 160, 160)\n",
      "--> Rejected 0 of 2 images due to too many bad pixels (threshold = 100%)\n",
      "--> Rejected 0 of 9 images due to too many bad pixels (threshold = 100%)\n",
      "[spaceKLIP.pyklippipeline:INFO]   --> pyKLIP: mode = ADI, annuli = 20, subsections = 4\n",
      "less than 1 reference PSFs available for minmove=1.0, skipping...less than 1 reference PSFs available for minmove=1.0, skipping...less than 1 reference PSFs available for minmove=1.0, skipping...less than 1 reference PSFs available for minmove=1.0, skipping...less than 1 reference PSFs available for minmove=1.0, skipping...less than 1 reference PSFs available for minmove=1.0, skipping...less than 1 reference PSFs available for minmove=1.0, skipping...less than 1 reference PSFs available for minmove=1.0, skipping...less than 1 reference PSFs available for minmove=1.0, skipping...less than 1 reference PSFs available for minmove=1.0, skipping...less than 1 reference PSFs available for minmove=1.0, skipping...less than 1 reference PSFs available for minmove=1.0, skipping...\n",
      "\n",
      "\n",
      "\n",
      "\n",
      "\n",
      "\n",
      "\n",
      "\n",
      "\n",
      "\n",
      "\n",
      "less than 1 reference PSFs available for minmove=1.0, skipping...less than 1 reference PSFs available for minmove=1.0, skipping...less than 1 reference PSFs available for minmove=1.0, skipping...less than 1 reference PSFs available for minmove=1.0, skipping...less than 1 reference PSFs available for minmove=1.0, skipping...less than 1 reference PSFs available for minmove=1.0, skipping...less than 1 reference PSFs available for minmove=1.0, skipping...less than 1 reference PSFs available for minmove=1.0, skipping...less than 1 reference PSFs available for minmove=1.0, skipping...less than 1 reference PSFs available for minmove=1.0, skipping...less than 1 reference PSFs available for minmove=1.0, skipping...\n",
      "\n",
      "less than 1 reference PSFs available for minmove=1.0, skipping...\n",
      "\n",
      "\n",
      "\n",
      "\n",
      "\n",
      "\n",
      "\n",
      "\n",
      "\n",
      "Begin align and scale images for each wavelength\n",
      "Wavelength 3.63 with index 0 has finished align and scale. Queuing for KLIP\n",
      "Total number of tasks for KLIP processing is 80\n",
      "12.5% done (9/80 completed)\n",
      "25.0% done (19/80 completed)\n",
      "37.5% done (29/80 completed)\n",
      "50.0% done (39/80 completed)\n",
      "62.5% done (49/80 completed)\n",
      "75.0% done (59/80 completed)\n",
      "87.5% done (69/80 completed)\n",
      "100.0% done (79/80 completed)\n",
      "Closing threadpool\n",
      "Derotating Images...\n",
      "Writing Images to directory /home/maxmb/Library/jwst_hd141569a_lib/data/F360M/jk/231108/for_planet_sensitivity/spaceklip/klipsub_final_240221\n",
      "wavelength collapsing reduced data of shape (b, N, wv, y, x):(4, 2, 1, 160, 160)\n",
      "--> Rejected 0 of 2 images due to too many bad pixels (threshold = 100%)\n",
      "--> Rejected 0 of 9 images due to too many bad pixels (threshold = 100%)\n",
      "[spaceKLIP.pyklippipeline:INFO]   --> pyKLIP: mode = ADI, annuli = 20, subsections = 6\n",
      "less than 1 reference PSFs available for minmove=1.0, skipping...less than 1 reference PSFs available for minmove=1.0, skipping...less than 1 reference PSFs available for minmove=1.0, skipping...\n",
      "\n",
      "less than 1 reference PSFs available for minmove=1.0, skipping...less than 1 reference PSFs available for minmove=1.0, skipping...\n",
      "\n",
      "less than 1 reference PSFs available for minmove=1.0, skipping...less than 1 reference PSFs available for minmove=1.0, skipping...\n",
      "\n",
      "less than 1 reference PSFs available for minmove=1.0, skipping...\n",
      "less than 1 reference PSFs available for minmove=1.0, skipping...less than 1 reference PSFs available for minmove=1.0, skipping...less than 1 reference PSFs available for minmove=1.0, skipping...less than 1 reference PSFs available for minmove=1.0, skipping...\n",
      "less than 1 reference PSFs available for minmove=1.0, skipping...\n",
      "\n",
      "\n",
      "\n",
      "less than 1 reference PSFs available for minmove=1.0, skipping...less than 1 reference PSFs available for minmove=1.0, skipping...\n",
      "less than 1 reference PSFs available for minmove=1.0, skipping...less than 1 reference PSFs available for minmove=1.0, skipping...less than 1 reference PSFs available for minmove=1.0, skipping...less than 1 reference PSFs available for minmove=1.0, skipping...\n",
      "\n",
      "\n",
      "less than 1 reference PSFs available for minmove=1.0, skipping...\n",
      "less than 1 reference PSFs available for minmove=1.0, skipping...\n",
      "less than 1 reference PSFs available for minmove=1.0, skipping...less than 1 reference PSFs available for minmove=1.0, skipping...less than 1 reference PSFs available for minmove=1.0, skipping...less than 1 reference PSFs available for minmove=1.0, skipping...\n",
      "\n",
      "\n",
      "\n",
      "less than 1 reference PSFs available for minmove=1.0, skipping...less than 1 reference PSFs available for minmove=1.0, skipping...less than 1 reference PSFs available for minmove=1.0, skipping...less than 1 reference PSFs available for minmove=1.0, skipping...less than 1 reference PSFs available for minmove=1.0, skipping...\n",
      "less than 1 reference PSFs available for minmove=1.0, skipping...\n",
      "\n",
      "\n",
      "\n",
      "\n",
      "\n",
      "less than 1 reference PSFs available for minmove=1.0, skipping...\n",
      "\n",
      "less than 1 reference PSFs available for minmove=1.0, skipping...\n",
      "less than 1 reference PSFs available for minmove=1.0, skipping...less than 1 reference PSFs available for minmove=1.0, skipping...less than 1 reference PSFs available for minmove=1.0, skipping...\n",
      "\n",
      "\n",
      "\n",
      "Begin align and scale images for each wavelength\n",
      "Wavelength 3.63 with index 0 has finished align and scale. Queuing for KLIP\n",
      "Total number of tasks for KLIP processing is 120\n",
      "8.333% done (9/120 completed)\n",
      "16.67% done (19/120 completed)\n",
      "25.0% done (29/120 completed)\n",
      "33.33% done (39/120 completed)\n",
      "41.67% done (49/120 completed)\n",
      "50.0% done (59/120 completed)\n",
      "58.33% done (69/120 completed)\n",
      "66.67% done (79/120 completed)\n",
      "75.0% done (89/120 completed)\n",
      "83.33% done (99/120 completed)\n",
      "91.67% done (109/120 completed)\n",
      "100.0% done (119/120 completed)\n",
      "Closing threadpool\n",
      "Derotating Images...\n",
      "Writing Images to directory /home/maxmb/Library/jwst_hd141569a_lib/data/F360M/jk/231108/for_planet_sensitivity/spaceklip/klipsub_final_240221\n",
      "wavelength collapsing reduced data of shape (b, N, wv, y, x):(4, 2, 1, 160, 160)\n",
      "[spaceKLIP.database:INFO] --> Identified 1 concatenation(s)\n",
      "[spaceKLIP.database:INFO]   --> Concatenation 1: JWST_NIRCAM_NRCALONG_F360M_MASKRND_MASK335R_SUB320A335R\n",
      " TYPE   EXP_TYPE DATAMODL TELESCOP ... SUBSECTS  KLMODES  BUNIT  BLURFWHM\n",
      "------ --------- -------- -------- ... -------- --------- ------ --------\n",
      "PYKLIP NRC_CORON   STAGE3     JWST ...        1 1,5,10,20 MJy/sr      nan\n",
      "PYKLIP NRC_CORON   STAGE3     JWST ...        4 1,5,10,20 MJy/sr      nan\n",
      "PYKLIP NRC_CORON   STAGE3     JWST ...        6 1,5,10,20 MJy/sr      nan\n",
      "PYKLIP NRC_CORON   STAGE3     JWST ...        1 1,5,10,20 MJy/sr      nan\n",
      "PYKLIP NRC_CORON   STAGE3     JWST ...        4 1,5,10,20 MJy/sr      nan\n",
      "PYKLIP NRC_CORON   STAGE3     JWST ...        6 1,5,10,20 MJy/sr      nan\n",
      "PYKLIP NRC_CORON   STAGE3     JWST ...        1 1,5,10,20 MJy/sr      nan\n",
      "PYKLIP NRC_CORON   STAGE3     JWST ...        4 1,5,10,20 MJy/sr      nan\n",
      "PYKLIP NRC_CORON   STAGE3     JWST ...        6 1,5,10,20 MJy/sr      nan\n",
      "PYKLIP NRC_CORON   STAGE3     JWST ...        1 1,5,10,20 MJy/sr      nan\n",
      "   ...       ...      ...      ... ...      ...       ...    ...      ...\n",
      "PYKLIP NRC_CORON   STAGE3     JWST ...        4 1,5,10,20 MJy/sr      nan\n",
      "PYKLIP NRC_CORON   STAGE3     JWST ...        6 1,5,10,20 MJy/sr      nan\n",
      "PYKLIP NRC_CORON   STAGE3     JWST ...        1 1,5,10,20 MJy/sr      nan\n",
      "PYKLIP NRC_CORON   STAGE3     JWST ...        4 1,5,10,20 MJy/sr      nan\n",
      "PYKLIP NRC_CORON   STAGE3     JWST ...        6 1,5,10,20 MJy/sr      nan\n",
      "PYKLIP NRC_CORON   STAGE3     JWST ...        1 1,5,10,20 MJy/sr      nan\n",
      "PYKLIP NRC_CORON   STAGE3     JWST ...        4 1,5,10,20 MJy/sr      nan\n",
      "PYKLIP NRC_CORON   STAGE3     JWST ...        6 1,5,10,20 MJy/sr      nan\n",
      "PYKLIP NRC_CORON   STAGE3     JWST ...        1 1,5,10,20 MJy/sr      nan\n",
      "PYKLIP NRC_CORON   STAGE3     JWST ...        4 1,5,10,20 MJy/sr      nan\n",
      "PYKLIP NRC_CORON   STAGE3     JWST ...        6 1,5,10,20 MJy/sr      nan\n",
      "Length = 27 rows\n"
     ]
    }
   ],
   "source": [
    "kwargs = {'mode': ['RDI','ADI+RDI','ADI'],\n",
    "              'annuli': [1,5,20],\n",
    "              'subsections': [1,4,6],\n",
    "              'numbasis': [1, 5, 10, 20],\n",
    "              'highpass': 3,\n",
    "              'OWA': 80,\n",
    "              'algo': 'klip',}\n",
    "klip_dir = 'klipsub_final_240221'\n",
    "spaceKLIP.pyklippipeline.run_obs(database=database,\n",
    "                        kwargs=kwargs,\n",
    "                        subdir=klip_dir,)"
   ]
  },
  {
   "cell_type": "markdown",
   "id": "406f3baf",
   "metadata": {},
   "source": [
    "## Contrast Calculations\n",
    "\n",
    "Here we use the analysistools module to measure contrast\n",
    "\n",
    "### Preparation: Stellar Photometry Model\n",
    "\n",
    "A model of the target star is needed to compute its flux in the observational filters, and thereby produce a reference point from which to determine our contrast performance. This requires an input that gives either **(a)** the host star photometry, formatted as a [Vizier](http://vizier.cds.unistra.fr) VOTable, or **(b)** a simple text file with two columns giving wavelenth in microns and flux in Jy.\n",
    "\n",
    "\n",
    "If you need to obtain you own version of option **(a)**, head to Vizier's [Photometry Viewer](http://vizier.cds.unistra.fr/vizier/sed/) and input your target of interest. However, exercise caution as this search can introduce spurious photometry measurements from nearby sources, which are realised as sharp variations in flux that do not agree with the expected profile of the targets spectral energy distribution. You may need to clean the obtained data by reducing the search radius, or manually removing individual points using the checkboxes in the table at the bottom. Once you are happy, click \\\"Download Data\\\" to obtain a VOTable that can be directly ingested into spaceKLIP. Option **(b)** could be instead be produced, for instance, from fitting a scaled version of a stellar atmosphere model to available photometry.\n",
    "\n",
    "We provide here examples of both kinds of file, provided by Aarynn Carter. _Only one is needed; we provide both purely as examples._"
   ]
  },
  {
   "cell_type": "code",
   "execution_count": 7,
   "id": "96007197",
   "metadata": {},
   "outputs": [
    {
     "name": "stdout",
     "output_type": "stream",
     "text": [
      "[spaceKLIP.database:INFO] --> Identified 1 concatenation(s)\n",
      "[spaceKLIP.database:INFO]   --> Concatenation 1: JWST_NIRCAM_NRCALONG_F360M_MASKRND_MASK335R_SUB320A335R\n",
      " TYPE   EXP_TYPE DATAMODL TELESCOP ... SUBSECTS  KLMODES  BUNIT  BLURFWHM\n",
      "------ --------- -------- -------- ... -------- --------- ------ --------\n",
      "PYKLIP NRC_CORON   STAGE3     JWST ...        1 1,5,10,20 MJy/sr      nan\n",
      "PYKLIP NRC_CORON   STAGE3     JWST ...        4 1,5,10,20 MJy/sr      nan\n",
      "PYKLIP NRC_CORON   STAGE3     JWST ...        6 1,5,10,20 MJy/sr      nan\n",
      "PYKLIP NRC_CORON   STAGE3     JWST ...        1 1,5,10,20 MJy/sr      nan\n",
      "PYKLIP NRC_CORON   STAGE3     JWST ...        4 1,5,10,20 MJy/sr      nan\n",
      "PYKLIP NRC_CORON   STAGE3     JWST ...        6 1,5,10,20 MJy/sr      nan\n",
      "PYKLIP NRC_CORON   STAGE3     JWST ...        1 1,5,10,20 MJy/sr      nan\n",
      "PYKLIP NRC_CORON   STAGE3     JWST ...        4 1,5,10,20 MJy/sr      nan\n",
      "PYKLIP NRC_CORON   STAGE3     JWST ...        6 1,5,10,20 MJy/sr      nan\n",
      "PYKLIP NRC_CORON   STAGE3     JWST ...        1 1,5,10,20 MJy/sr      nan\n",
      "   ...       ...      ...      ... ...      ...       ...    ...      ...\n",
      "PYKLIP NRC_CORON   STAGE3     JWST ...        4 1,5,10,20 MJy/sr      nan\n",
      "PYKLIP NRC_CORON   STAGE3     JWST ...        6 1,5,10,20 MJy/sr      nan\n",
      "PYKLIP NRC_CORON   STAGE3     JWST ...        1 1,5,10,20 MJy/sr      nan\n",
      "PYKLIP NRC_CORON   STAGE3     JWST ...        4 1,5,10,20 MJy/sr      nan\n",
      "PYKLIP NRC_CORON   STAGE3     JWST ...        6 1,5,10,20 MJy/sr      nan\n",
      "PYKLIP NRC_CORON   STAGE3     JWST ...        1 1,5,10,20 MJy/sr      nan\n",
      "PYKLIP NRC_CORON   STAGE3     JWST ...        4 1,5,10,20 MJy/sr      nan\n",
      "PYKLIP NRC_CORON   STAGE3     JWST ...        6 1,5,10,20 MJy/sr      nan\n",
      "PYKLIP NRC_CORON   STAGE3     JWST ...        1 1,5,10,20 MJy/sr      nan\n",
      "PYKLIP NRC_CORON   STAGE3     JWST ...        4 1,5,10,20 MJy/sr      nan\n",
      "PYKLIP NRC_CORON   STAGE3     JWST ...        6 1,5,10,20 MJy/sr      nan\n",
      "Length = 27 rows\n"
     ]
    }
   ],
   "source": [
    "fitsfiles = sorted(glob.glob(os.path.join(odir, klip_dir,\"*KLmodes-all.fits\")))\n",
    "\n",
    "Database = spaceKLIP.database.Database(output_dir=odir)\n",
    "Database.read_jwst_s3_data(fitsfiles)"
   ]
  },
  {
   "cell_type": "code",
   "execution_count": 8,
   "id": "cee7e84d",
   "metadata": {},
   "outputs": [],
   "source": [
    "star_photometry_vot = 'hd_141569.vot'"
   ]
  },
  {
   "cell_type": "code",
   "execution_count": 9,
   "id": "492dc30b",
   "metadata": {},
   "outputs": [],
   "source": [
    "import astropy\n",
    "\n",
    "# Read in VOT version\n",
    "vot_version = astropy.table.Table.read(star_photometry_vot)\n",
    "\n",
    "# convert from freq to wl, just for plotting below.\n",
    "vot_version['wavelength'] = (astropy.constants.c /  vot_version['sed_freq']).to(astropy.units.micron)"
   ]
  },
  {
   "cell_type": "code",
   "execution_count": 10,
   "id": "210a4ac1",
   "metadata": {},
   "outputs": [
    {
     "data": {
      "image/png": "[encoded data removed]",
      "text/plain": [
       "<Figure size 640x480 with 1 Axes>"
      ]
     },
     "metadata": {},
     "output_type": "display_data"
    }
   ],
   "source": [
    "# plot, to show the two models are consistent\n",
    "\n",
    "# plt.semilogx(txt_version['wavelength'], txt_version['flux'], label='HIP65426A_sdf_phoenix_m+modbb_disk_r.txt',)\n",
    "plt.scatter(vot_version['wavelength'], vot_version['sed_flux'], label='HIP65426.vot', color='C1')\n",
    "\n",
    "plt.xlabel(\"Wavelength [micron]\")\n",
    "plt.ylabel(\"Flux [Jansky]\")\n",
    "plt.legend(fontsize=9)\n",
    "plt.show()\n"
   ]
  },
  {
   "cell_type": "markdown",
   "id": "bfbb8181",
   "metadata": {},
   "source": [
    "## Set up Analysis Tools\n",
    "\n",
    "We initialize the AnalysisTools class and provide it the database of files to be analyzed. "
   ]
  },
  {
   "cell_type": "code",
   "execution_count": 11,
   "id": "d57f3a48",
   "metadata": {},
   "outputs": [],
   "source": [
    "# Initialize the spaceKLIP contrast estimation class.\n",
    "analysistools = spaceKLIP.analysistools.AnalysisTools(Database)\n"
   ]
  },
  {
   "cell_type": "markdown",
   "id": "b7213d6f",
   "metadata": {},
   "source": [
    "## Compute Raw Contrasts\n",
    "\n",
    "This iterates over all filters and datasets."
   ]
  },
  {
   "cell_type": "code",
   "execution_count": 12,
   "id": "56c46ea7",
   "metadata": {
    "scrolled": false
   },
   "outputs": [
    {
     "name": "stdout",
     "output_type": "stream",
     "text": [
      "[spaceKLIP.analysistools:INFO] Copying starfile hd_141569.vot to /home/maxmb/Library/jwst_hd141569a_lib/data/F360M/jk/231108/for_planet_sensitivity/spaceklip/contrast_curves/rawcon/hd_141569.vot\n",
      "[spaceKLIP.analysistools:INFO] --> Concatenation JWST_NIRCAM_NRCALONG_F360M_MASKRND_MASK335R_SUB320A335R\n",
      "[spaceKLIP.analysistools:INFO] Analyzing file /home/maxmb/Library/jwst_hd141569a_lib/data/F360M/jk/231108/for_planet_sensitivity/spaceklip/klipsub_final_240221/ADI+RDI_NANNU1_NSUBS1_JWST_NIRCAM_NRCALONG_F360M_MASKRND_MASK335R_SUB320A335R-KLmodes-all.fits\n"
     ]
    },
    {
     "name": "stderr",
     "output_type": "stream",
     "text": [
      "[spaceKLIP.analysistools:WARNING] No mask file provided; MASKFILE is None. This may cause problems!!\n"
     ]
    },
    {
     "name": "stdout",
     "output_type": "stream",
     "text": [
      "[spaceKLIP.psf:INFO]   --> Generating WebbPSF model\n",
      "[spaceKLIP.analysistools:INFO]   Measuring raw contrast in annuli\n",
      "Contrast results and plots saved to /home/maxmb/Library/jwst_hd141569a_lib/data/F360M/jk/231108/for_planet_sensitivity/spaceklip/contrast_curves/rawcon/ADI+RDI_NANNU1_NSUBS1_JWST_NIRCAM_NRCALONG_F360M_MASKRND_MASK335R_SUB320A335R-KLmodes-all_seps.npy, /home/maxmb/Library/jwst_hd141569a_lib/data/F360M/jk/231108/for_planet_sensitivity/spaceklip/contrast_curves/rawcon/ADI+RDI_NANNU1_NSUBS1_JWST_NIRCAM_NRCALONG_F360M_MASKRND_MASK335R_SUB320A335R-KLmodes-all_cons.npy\n",
      "[spaceKLIP.analysistools:INFO] Analyzing file /home/maxmb/Library/jwst_hd141569a_lib/data/F360M/jk/231108/for_planet_sensitivity/spaceklip/klipsub_final_240221/ADI+RDI_NANNU1_NSUBS4_JWST_NIRCAM_NRCALONG_F360M_MASKRND_MASK335R_SUB320A335R-KLmodes-all.fits\n"
     ]
    },
    {
     "name": "stderr",
     "output_type": "stream",
     "text": [
      "[spaceKLIP.analysistools:WARNING] No mask file provided; MASKFILE is None. This may cause problems!!\n"
     ]
    },
    {
     "name": "stdout",
     "output_type": "stream",
     "text": [
      "[spaceKLIP.psf:INFO]   --> Generating WebbPSF model\n",
      "[spaceKLIP.analysistools:INFO]   Measuring raw contrast in annuli\n",
      "Contrast results and plots saved to /home/maxmb/Library/jwst_hd141569a_lib/data/F360M/jk/231108/for_planet_sensitivity/spaceklip/contrast_curves/rawcon/ADI+RDI_NANNU1_NSUBS4_JWST_NIRCAM_NRCALONG_F360M_MASKRND_MASK335R_SUB320A335R-KLmodes-all_seps.npy, /home/maxmb/Library/jwst_hd141569a_lib/data/F360M/jk/231108/for_planet_sensitivity/spaceklip/contrast_curves/rawcon/ADI+RDI_NANNU1_NSUBS4_JWST_NIRCAM_NRCALONG_F360M_MASKRND_MASK335R_SUB320A335R-KLmodes-all_cons.npy\n",
      "[spaceKLIP.analysistools:INFO] Analyzing file /home/maxmb/Library/jwst_hd141569a_lib/data/F360M/jk/231108/for_planet_sensitivity/spaceklip/klipsub_final_240221/ADI+RDI_NANNU1_NSUBS6_JWST_NIRCAM_NRCALONG_F360M_MASKRND_MASK335R_SUB320A335R-KLmodes-all.fits\n"
     ]
    },
    {
     "name": "stderr",
     "output_type": "stream",
     "text": [
      "[spaceKLIP.analysistools:WARNING] No mask file provided; MASKFILE is None. This may cause problems!!\n"
     ]
    },
    {
     "name": "stdout",
     "output_type": "stream",
     "text": [
      "[spaceKLIP.psf:INFO]   --> Generating WebbPSF model\n",
      "[spaceKLIP.analysistools:INFO]   Measuring raw contrast in annuli\n",
      "Contrast results and plots saved to /home/maxmb/Library/jwst_hd141569a_lib/data/F360M/jk/231108/for_planet_sensitivity/spaceklip/contrast_curves/rawcon/ADI+RDI_NANNU1_NSUBS6_JWST_NIRCAM_NRCALONG_F360M_MASKRND_MASK335R_SUB320A335R-KLmodes-all_seps.npy, /home/maxmb/Library/jwst_hd141569a_lib/data/F360M/jk/231108/for_planet_sensitivity/spaceklip/contrast_curves/rawcon/ADI+RDI_NANNU1_NSUBS6_JWST_NIRCAM_NRCALONG_F360M_MASKRND_MASK335R_SUB320A335R-KLmodes-all_cons.npy\n",
      "[spaceKLIP.analysistools:INFO] Analyzing file /home/maxmb/Library/jwst_hd141569a_lib/data/F360M/jk/231108/for_planet_sensitivity/spaceklip/klipsub_final_240221/ADI+RDI_NANNU20_NSUBS1_JWST_NIRCAM_NRCALONG_F360M_MASKRND_MASK335R_SUB320A335R-KLmodes-all.fits\n"
     ]
    },
    {
     "name": "stderr",
     "output_type": "stream",
     "text": [
      "[spaceKLIP.analysistools:WARNING] No mask file provided; MASKFILE is None. This may cause problems!!\n"
     ]
    },
    {
     "name": "stdout",
     "output_type": "stream",
     "text": [
      "[spaceKLIP.psf:INFO]   --> Generating WebbPSF model\n",
      "[spaceKLIP.analysistools:INFO]   Measuring raw contrast in annuli\n",
      "Contrast results and plots saved to /home/maxmb/Library/jwst_hd141569a_lib/data/F360M/jk/231108/for_planet_sensitivity/spaceklip/contrast_curves/rawcon/ADI+RDI_NANNU20_NSUBS1_JWST_NIRCAM_NRCALONG_F360M_MASKRND_MASK335R_SUB320A335R-KLmodes-all_seps.npy, /home/maxmb/Library/jwst_hd141569a_lib/data/F360M/jk/231108/for_planet_sensitivity/spaceklip/contrast_curves/rawcon/ADI+RDI_NANNU20_NSUBS1_JWST_NIRCAM_NRCALONG_F360M_MASKRND_MASK335R_SUB320A335R-KLmodes-all_cons.npy\n",
      "[spaceKLIP.analysistools:INFO] Analyzing file /home/maxmb/Library/jwst_hd141569a_lib/data/F360M/jk/231108/for_planet_sensitivity/spaceklip/klipsub_final_240221/ADI+RDI_NANNU20_NSUBS4_JWST_NIRCAM_NRCALONG_F360M_MASKRND_MASK335R_SUB320A335R-KLmodes-all.fits\n"
     ]
    },
    {
     "name": "stderr",
     "output_type": "stream",
     "text": [
      "[spaceKLIP.analysistools:WARNING] No mask file provided; MASKFILE is None. This may cause problems!!\n"
     ]
    },
    {
     "name": "stdout",
     "output_type": "stream",
     "text": [
      "[spaceKLIP.psf:INFO]   --> Generating WebbPSF model\n",
      "[spaceKLIP.analysistools:INFO]   Measuring raw contrast in annuli\n",
      "Contrast results and plots saved to /home/maxmb/Library/jwst_hd141569a_lib/data/F360M/jk/231108/for_planet_sensitivity/spaceklip/contrast_curves/rawcon/ADI+RDI_NANNU20_NSUBS4_JWST_NIRCAM_NRCALONG_F360M_MASKRND_MASK335R_SUB320A335R-KLmodes-all_seps.npy, /home/maxmb/Library/jwst_hd141569a_lib/data/F360M/jk/231108/for_planet_sensitivity/spaceklip/contrast_curves/rawcon/ADI+RDI_NANNU20_NSUBS4_JWST_NIRCAM_NRCALONG_F360M_MASKRND_MASK335R_SUB320A335R-KLmodes-all_cons.npy\n",
      "[spaceKLIP.analysistools:INFO] Analyzing file /home/maxmb/Library/jwst_hd141569a_lib/data/F360M/jk/231108/for_planet_sensitivity/spaceklip/klipsub_final_240221/ADI+RDI_NANNU20_NSUBS6_JWST_NIRCAM_NRCALONG_F360M_MASKRND_MASK335R_SUB320A335R-KLmodes-all.fits\n"
     ]
    },
    {
     "name": "stderr",
     "output_type": "stream",
     "text": [
      "[spaceKLIP.analysistools:WARNING] No mask file provided; MASKFILE is None. This may cause problems!!\n"
     ]
    },
    {
     "name": "stdout",
     "output_type": "stream",
     "text": [
      "[spaceKLIP.psf:INFO]   --> Generating WebbPSF model\n",
      "[spaceKLIP.analysistools:INFO]   Measuring raw contrast in annuli\n",
      "Contrast results and plots saved to /home/maxmb/Library/jwst_hd141569a_lib/data/F360M/jk/231108/for_planet_sensitivity/spaceklip/contrast_curves/rawcon/ADI+RDI_NANNU20_NSUBS6_JWST_NIRCAM_NRCALONG_F360M_MASKRND_MASK335R_SUB320A335R-KLmodes-all_seps.npy, /home/maxmb/Library/jwst_hd141569a_lib/data/F360M/jk/231108/for_planet_sensitivity/spaceklip/contrast_curves/rawcon/ADI+RDI_NANNU20_NSUBS6_JWST_NIRCAM_NRCALONG_F360M_MASKRND_MASK335R_SUB320A335R-KLmodes-all_cons.npy\n",
      "[spaceKLIP.analysistools:INFO] Analyzing file /home/maxmb/Library/jwst_hd141569a_lib/data/F360M/jk/231108/for_planet_sensitivity/spaceklip/klipsub_final_240221/ADI+RDI_NANNU5_NSUBS1_JWST_NIRCAM_NRCALONG_F360M_MASKRND_MASK335R_SUB320A335R-KLmodes-all.fits\n"
     ]
    },
    {
     "name": "stderr",
     "output_type": "stream",
     "text": [
      "[spaceKLIP.analysistools:WARNING] No mask file provided; MASKFILE is None. This may cause problems!!\n"
     ]
    },
    {
     "name": "stdout",
     "output_type": "stream",
     "text": [
      "[spaceKLIP.psf:INFO]   --> Generating WebbPSF model\n",
      "[spaceKLIP.analysistools:INFO]   Measuring raw contrast in annuli\n",
      "Contrast results and plots saved to /home/maxmb/Library/jwst_hd141569a_lib/data/F360M/jk/231108/for_planet_sensitivity/spaceklip/contrast_curves/rawcon/ADI+RDI_NANNU5_NSUBS1_JWST_NIRCAM_NRCALONG_F360M_MASKRND_MASK335R_SUB320A335R-KLmodes-all_seps.npy, /home/maxmb/Library/jwst_hd141569a_lib/data/F360M/jk/231108/for_planet_sensitivity/spaceklip/contrast_curves/rawcon/ADI+RDI_NANNU5_NSUBS1_JWST_NIRCAM_NRCALONG_F360M_MASKRND_MASK335R_SUB320A335R-KLmodes-all_cons.npy\n",
      "[spaceKLIP.analysistools:INFO] Analyzing file /home/maxmb/Library/jwst_hd141569a_lib/data/F360M/jk/231108/for_planet_sensitivity/spaceklip/klipsub_final_240221/ADI+RDI_NANNU5_NSUBS4_JWST_NIRCAM_NRCALONG_F360M_MASKRND_MASK335R_SUB320A335R-KLmodes-all.fits\n"
     ]
    },
    {
     "name": "stderr",
     "output_type": "stream",
     "text": [
      "[spaceKLIP.analysistools:WARNING] No mask file provided; MASKFILE is None. This may cause problems!!\n"
     ]
    },
    {
     "name": "stdout",
     "output_type": "stream",
     "text": [
      "[spaceKLIP.psf:INFO]   --> Generating WebbPSF model\n",
      "[spaceKLIP.analysistools:INFO]   Measuring raw contrast in annuli\n",
      "Contrast results and plots saved to /home/maxmb/Library/jwst_hd141569a_lib/data/F360M/jk/231108/for_planet_sensitivity/spaceklip/contrast_curves/rawcon/ADI+RDI_NANNU5_NSUBS4_JWST_NIRCAM_NRCALONG_F360M_MASKRND_MASK335R_SUB320A335R-KLmodes-all_seps.npy, /home/maxmb/Library/jwst_hd141569a_lib/data/F360M/jk/231108/for_planet_sensitivity/spaceklip/contrast_curves/rawcon/ADI+RDI_NANNU5_NSUBS4_JWST_NIRCAM_NRCALONG_F360M_MASKRND_MASK335R_SUB320A335R-KLmodes-all_cons.npy\n",
      "[spaceKLIP.analysistools:INFO] Analyzing file /home/maxmb/Library/jwst_hd141569a_lib/data/F360M/jk/231108/for_planet_sensitivity/spaceklip/klipsub_final_240221/ADI+RDI_NANNU5_NSUBS6_JWST_NIRCAM_NRCALONG_F360M_MASKRND_MASK335R_SUB320A335R-KLmodes-all.fits\n"
     ]
    },
    {
     "name": "stderr",
     "output_type": "stream",
     "text": [
      "[spaceKLIP.analysistools:WARNING] No mask file provided; MASKFILE is None. This may cause problems!!\n"
     ]
    },
    {
     "name": "stdout",
     "output_type": "stream",
     "text": [
      "[spaceKLIP.psf:INFO]   --> Generating WebbPSF model\n",
      "[spaceKLIP.analysistools:INFO]   Measuring raw contrast in annuli\n",
      "Contrast results and plots saved to /home/maxmb/Library/jwst_hd141569a_lib/data/F360M/jk/231108/for_planet_sensitivity/spaceklip/contrast_curves/rawcon/ADI+RDI_NANNU5_NSUBS6_JWST_NIRCAM_NRCALONG_F360M_MASKRND_MASK335R_SUB320A335R-KLmodes-all_seps.npy, /home/maxmb/Library/jwst_hd141569a_lib/data/F360M/jk/231108/for_planet_sensitivity/spaceklip/contrast_curves/rawcon/ADI+RDI_NANNU5_NSUBS6_JWST_NIRCAM_NRCALONG_F360M_MASKRND_MASK335R_SUB320A335R-KLmodes-all_cons.npy\n",
      "[spaceKLIP.analysistools:INFO] Analyzing file /home/maxmb/Library/jwst_hd141569a_lib/data/F360M/jk/231108/for_planet_sensitivity/spaceklip/klipsub_final_240221/ADI_NANNU1_NSUBS1_JWST_NIRCAM_NRCALONG_F360M_MASKRND_MASK335R_SUB320A335R-KLmodes-all.fits\n"
     ]
    },
    {
     "name": "stderr",
     "output_type": "stream",
     "text": [
      "[spaceKLIP.analysistools:WARNING] No mask file provided; MASKFILE is None. This may cause problems!!\n"
     ]
    },
    {
     "name": "stdout",
     "output_type": "stream",
     "text": [
      "[spaceKLIP.psf:INFO]   --> Generating WebbPSF model\n",
      "[spaceKLIP.analysistools:INFO]   Measuring raw contrast in annuli\n",
      "Contrast results and plots saved to /home/maxmb/Library/jwst_hd141569a_lib/data/F360M/jk/231108/for_planet_sensitivity/spaceklip/contrast_curves/rawcon/ADI_NANNU1_NSUBS1_JWST_NIRCAM_NRCALONG_F360M_MASKRND_MASK335R_SUB320A335R-KLmodes-all_seps.npy, /home/maxmb/Library/jwst_hd141569a_lib/data/F360M/jk/231108/for_planet_sensitivity/spaceklip/contrast_curves/rawcon/ADI_NANNU1_NSUBS1_JWST_NIRCAM_NRCALONG_F360M_MASKRND_MASK335R_SUB320A335R-KLmodes-all_cons.npy\n",
      "[spaceKLIP.analysistools:INFO] Analyzing file /home/maxmb/Library/jwst_hd141569a_lib/data/F360M/jk/231108/for_planet_sensitivity/spaceklip/klipsub_final_240221/ADI_NANNU1_NSUBS4_JWST_NIRCAM_NRCALONG_F360M_MASKRND_MASK335R_SUB320A335R-KLmodes-all.fits\n"
     ]
    },
    {
     "name": "stderr",
     "output_type": "stream",
     "text": [
      "[spaceKLIP.analysistools:WARNING] No mask file provided; MASKFILE is None. This may cause problems!!\n"
     ]
    },
    {
     "name": "stdout",
     "output_type": "stream",
     "text": [
      "[spaceKLIP.psf:INFO]   --> Generating WebbPSF model\n",
      "[spaceKLIP.analysistools:INFO]   Measuring raw contrast in annuli\n",
      "Contrast results and plots saved to /home/maxmb/Library/jwst_hd141569a_lib/data/F360M/jk/231108/for_planet_sensitivity/spaceklip/contrast_curves/rawcon/ADI_NANNU1_NSUBS4_JWST_NIRCAM_NRCALONG_F360M_MASKRND_MASK335R_SUB320A335R-KLmodes-all_seps.npy, /home/maxmb/Library/jwst_hd141569a_lib/data/F360M/jk/231108/for_planet_sensitivity/spaceklip/contrast_curves/rawcon/ADI_NANNU1_NSUBS4_JWST_NIRCAM_NRCALONG_F360M_MASKRND_MASK335R_SUB320A335R-KLmodes-all_cons.npy\n",
      "[spaceKLIP.analysistools:INFO] Analyzing file /home/maxmb/Library/jwst_hd141569a_lib/data/F360M/jk/231108/for_planet_sensitivity/spaceklip/klipsub_final_240221/ADI_NANNU1_NSUBS6_JWST_NIRCAM_NRCALONG_F360M_MASKRND_MASK335R_SUB320A335R-KLmodes-all.fits\n"
     ]
    },
    {
     "name": "stderr",
     "output_type": "stream",
     "text": [
      "[spaceKLIP.analysistools:WARNING] No mask file provided; MASKFILE is None. This may cause problems!!\n"
     ]
    },
    {
     "name": "stdout",
     "output_type": "stream",
     "text": [
      "[spaceKLIP.psf:INFO]   --> Generating WebbPSF model\n",
      "[spaceKLIP.analysistools:INFO]   Measuring raw contrast in annuli\n",
      "Contrast results and plots saved to /home/maxmb/Library/jwst_hd141569a_lib/data/F360M/jk/231108/for_planet_sensitivity/spaceklip/contrast_curves/rawcon/ADI_NANNU1_NSUBS6_JWST_NIRCAM_NRCALONG_F360M_MASKRND_MASK335R_SUB320A335R-KLmodes-all_seps.npy, /home/maxmb/Library/jwst_hd141569a_lib/data/F360M/jk/231108/for_planet_sensitivity/spaceklip/contrast_curves/rawcon/ADI_NANNU1_NSUBS6_JWST_NIRCAM_NRCALONG_F360M_MASKRND_MASK335R_SUB320A335R-KLmodes-all_cons.npy\n",
      "[spaceKLIP.analysistools:INFO] Analyzing file /home/maxmb/Library/jwst_hd141569a_lib/data/F360M/jk/231108/for_planet_sensitivity/spaceklip/klipsub_final_240221/ADI_NANNU20_NSUBS1_JWST_NIRCAM_NRCALONG_F360M_MASKRND_MASK335R_SUB320A335R-KLmodes-all.fits\n"
     ]
    },
    {
     "name": "stderr",
     "output_type": "stream",
     "text": [
      "[spaceKLIP.analysistools:WARNING] No mask file provided; MASKFILE is None. This may cause problems!!\n"
     ]
    },
    {
     "name": "stdout",
     "output_type": "stream",
     "text": [
      "[spaceKLIP.psf:INFO]   --> Generating WebbPSF model\n",
      "[spaceKLIP.analysistools:INFO]   Measuring raw contrast in annuli\n",
      "Contrast results and plots saved to /home/maxmb/Library/jwst_hd141569a_lib/data/F360M/jk/231108/for_planet_sensitivity/spaceklip/contrast_curves/rawcon/ADI_NANNU20_NSUBS1_JWST_NIRCAM_NRCALONG_F360M_MASKRND_MASK335R_SUB320A335R-KLmodes-all_seps.npy, /home/maxmb/Library/jwst_hd141569a_lib/data/F360M/jk/231108/for_planet_sensitivity/spaceklip/contrast_curves/rawcon/ADI_NANNU20_NSUBS1_JWST_NIRCAM_NRCALONG_F360M_MASKRND_MASK335R_SUB320A335R-KLmodes-all_cons.npy\n",
      "[spaceKLIP.analysistools:INFO] Analyzing file /home/maxmb/Library/jwst_hd141569a_lib/data/F360M/jk/231108/for_planet_sensitivity/spaceklip/klipsub_final_240221/ADI_NANNU20_NSUBS4_JWST_NIRCAM_NRCALONG_F360M_MASKRND_MASK335R_SUB320A335R-KLmodes-all.fits\n"
     ]
    },
    {
     "name": "stderr",
     "output_type": "stream",
     "text": [
      "[spaceKLIP.analysistools:WARNING] No mask file provided; MASKFILE is None. This may cause problems!!\n"
     ]
    },
    {
     "name": "stdout",
     "output_type": "stream",
     "text": [
      "[spaceKLIP.psf:INFO]   --> Generating WebbPSF model\n",
      "[spaceKLIP.analysistools:INFO]   Measuring raw contrast in annuli\n",
      "Contrast results and plots saved to /home/maxmb/Library/jwst_hd141569a_lib/data/F360M/jk/231108/for_planet_sensitivity/spaceklip/contrast_curves/rawcon/ADI_NANNU20_NSUBS4_JWST_NIRCAM_NRCALONG_F360M_MASKRND_MASK335R_SUB320A335R-KLmodes-all_seps.npy, /home/maxmb/Library/jwst_hd141569a_lib/data/F360M/jk/231108/for_planet_sensitivity/spaceklip/contrast_curves/rawcon/ADI_NANNU20_NSUBS4_JWST_NIRCAM_NRCALONG_F360M_MASKRND_MASK335R_SUB320A335R-KLmodes-all_cons.npy\n",
      "[spaceKLIP.analysistools:INFO] Analyzing file /home/maxmb/Library/jwst_hd141569a_lib/data/F360M/jk/231108/for_planet_sensitivity/spaceklip/klipsub_final_240221/ADI_NANNU20_NSUBS6_JWST_NIRCAM_NRCALONG_F360M_MASKRND_MASK335R_SUB320A335R-KLmodes-all.fits\n"
     ]
    },
    {
     "name": "stderr",
     "output_type": "stream",
     "text": [
      "[spaceKLIP.analysistools:WARNING] No mask file provided; MASKFILE is None. This may cause problems!!\n"
     ]
    },
    {
     "name": "stdout",
     "output_type": "stream",
     "text": [
      "[spaceKLIP.psf:INFO]   --> Generating WebbPSF model\n",
      "[spaceKLIP.analysistools:INFO]   Measuring raw contrast in annuli\n",
      "Contrast results and plots saved to /home/maxmb/Library/jwst_hd141569a_lib/data/F360M/jk/231108/for_planet_sensitivity/spaceklip/contrast_curves/rawcon/ADI_NANNU20_NSUBS6_JWST_NIRCAM_NRCALONG_F360M_MASKRND_MASK335R_SUB320A335R-KLmodes-all_seps.npy, /home/maxmb/Library/jwst_hd141569a_lib/data/F360M/jk/231108/for_planet_sensitivity/spaceklip/contrast_curves/rawcon/ADI_NANNU20_NSUBS6_JWST_NIRCAM_NRCALONG_F360M_MASKRND_MASK335R_SUB320A335R-KLmodes-all_cons.npy\n",
      "[spaceKLIP.analysistools:INFO] Analyzing file /home/maxmb/Library/jwst_hd141569a_lib/data/F360M/jk/231108/for_planet_sensitivity/spaceklip/klipsub_final_240221/ADI_NANNU5_NSUBS1_JWST_NIRCAM_NRCALONG_F360M_MASKRND_MASK335R_SUB320A335R-KLmodes-all.fits\n"
     ]
    },
    {
     "name": "stderr",
     "output_type": "stream",
     "text": [
      "[spaceKLIP.analysistools:WARNING] No mask file provided; MASKFILE is None. This may cause problems!!\n"
     ]
    },
    {
     "name": "stdout",
     "output_type": "stream",
     "text": [
      "[spaceKLIP.psf:INFO]   --> Generating WebbPSF model\n",
      "[spaceKLIP.analysistools:INFO]   Measuring raw contrast in annuli\n",
      "Contrast results and plots saved to /home/maxmb/Library/jwst_hd141569a_lib/data/F360M/jk/231108/for_planet_sensitivity/spaceklip/contrast_curves/rawcon/ADI_NANNU5_NSUBS1_JWST_NIRCAM_NRCALONG_F360M_MASKRND_MASK335R_SUB320A335R-KLmodes-all_seps.npy, /home/maxmb/Library/jwst_hd141569a_lib/data/F360M/jk/231108/for_planet_sensitivity/spaceklip/contrast_curves/rawcon/ADI_NANNU5_NSUBS1_JWST_NIRCAM_NRCALONG_F360M_MASKRND_MASK335R_SUB320A335R-KLmodes-all_cons.npy\n",
      "[spaceKLIP.analysistools:INFO] Analyzing file /home/maxmb/Library/jwst_hd141569a_lib/data/F360M/jk/231108/for_planet_sensitivity/spaceklip/klipsub_final_240221/ADI_NANNU5_NSUBS4_JWST_NIRCAM_NRCALONG_F360M_MASKRND_MASK335R_SUB320A335R-KLmodes-all.fits\n"
     ]
    },
    {
     "name": "stderr",
     "output_type": "stream",
     "text": [
      "[spaceKLIP.analysistools:WARNING] No mask file provided; MASKFILE is None. This may cause problems!!\n"
     ]
    },
    {
     "name": "stdout",
     "output_type": "stream",
     "text": [
      "[spaceKLIP.psf:INFO]   --> Generating WebbPSF model\n",
      "[spaceKLIP.analysistools:INFO]   Measuring raw contrast in annuli\n",
      "Contrast results and plots saved to /home/maxmb/Library/jwst_hd141569a_lib/data/F360M/jk/231108/for_planet_sensitivity/spaceklip/contrast_curves/rawcon/ADI_NANNU5_NSUBS4_JWST_NIRCAM_NRCALONG_F360M_MASKRND_MASK335R_SUB320A335R-KLmodes-all_seps.npy, /home/maxmb/Library/jwst_hd141569a_lib/data/F360M/jk/231108/for_planet_sensitivity/spaceklip/contrast_curves/rawcon/ADI_NANNU5_NSUBS4_JWST_NIRCAM_NRCALONG_F360M_MASKRND_MASK335R_SUB320A335R-KLmodes-all_cons.npy\n",
      "[spaceKLIP.analysistools:INFO] Analyzing file /home/maxmb/Library/jwst_hd141569a_lib/data/F360M/jk/231108/for_planet_sensitivity/spaceklip/klipsub_final_240221/ADI_NANNU5_NSUBS6_JWST_NIRCAM_NRCALONG_F360M_MASKRND_MASK335R_SUB320A335R-KLmodes-all.fits\n"
     ]
    },
    {
     "name": "stderr",
     "output_type": "stream",
     "text": [
      "[spaceKLIP.analysistools:WARNING] No mask file provided; MASKFILE is None. This may cause problems!!\n"
     ]
    },
    {
     "name": "stdout",
     "output_type": "stream",
     "text": [
      "[spaceKLIP.psf:INFO]   --> Generating WebbPSF model\n",
      "[spaceKLIP.analysistools:INFO]   Measuring raw contrast in annuli\n",
      "Contrast results and plots saved to /home/maxmb/Library/jwst_hd141569a_lib/data/F360M/jk/231108/for_planet_sensitivity/spaceklip/contrast_curves/rawcon/ADI_NANNU5_NSUBS6_JWST_NIRCAM_NRCALONG_F360M_MASKRND_MASK335R_SUB320A335R-KLmodes-all_seps.npy, /home/maxmb/Library/jwst_hd141569a_lib/data/F360M/jk/231108/for_planet_sensitivity/spaceklip/contrast_curves/rawcon/ADI_NANNU5_NSUBS6_JWST_NIRCAM_NRCALONG_F360M_MASKRND_MASK335R_SUB320A335R-KLmodes-all_cons.npy\n",
      "[spaceKLIP.analysistools:INFO] Analyzing file /home/maxmb/Library/jwst_hd141569a_lib/data/F360M/jk/231108/for_planet_sensitivity/spaceklip/klipsub_final_240221/RDI_NANNU1_NSUBS1_JWST_NIRCAM_NRCALONG_F360M_MASKRND_MASK335R_SUB320A335R-KLmodes-all.fits\n"
     ]
    },
    {
     "name": "stderr",
     "output_type": "stream",
     "text": [
      "[spaceKLIP.analysistools:WARNING] No mask file provided; MASKFILE is None. This may cause problems!!\n"
     ]
    },
    {
     "name": "stdout",
     "output_type": "stream",
     "text": [
      "[spaceKLIP.psf:INFO]   --> Generating WebbPSF model\n",
      "[spaceKLIP.analysistools:INFO]   Measuring raw contrast in annuli\n",
      "Contrast results and plots saved to /home/maxmb/Library/jwst_hd141569a_lib/data/F360M/jk/231108/for_planet_sensitivity/spaceklip/contrast_curves/rawcon/RDI_NANNU1_NSUBS1_JWST_NIRCAM_NRCALONG_F360M_MASKRND_MASK335R_SUB320A335R-KLmodes-all_seps.npy, /home/maxmb/Library/jwst_hd141569a_lib/data/F360M/jk/231108/for_planet_sensitivity/spaceklip/contrast_curves/rawcon/RDI_NANNU1_NSUBS1_JWST_NIRCAM_NRCALONG_F360M_MASKRND_MASK335R_SUB320A335R-KLmodes-all_cons.npy\n",
      "[spaceKLIP.analysistools:INFO] Analyzing file /home/maxmb/Library/jwst_hd141569a_lib/data/F360M/jk/231108/for_planet_sensitivity/spaceklip/klipsub_final_240221/RDI_NANNU1_NSUBS4_JWST_NIRCAM_NRCALONG_F360M_MASKRND_MASK335R_SUB320A335R-KLmodes-all.fits\n"
     ]
    },
    {
     "name": "stderr",
     "output_type": "stream",
     "text": [
      "[spaceKLIP.analysistools:WARNING] No mask file provided; MASKFILE is None. This may cause problems!!\n"
     ]
    },
    {
     "name": "stdout",
     "output_type": "stream",
     "text": [
      "[spaceKLIP.psf:INFO]   --> Generating WebbPSF model\n",
      "[spaceKLIP.analysistools:INFO]   Measuring raw contrast in annuli\n",
      "Contrast results and plots saved to /home/maxmb/Library/jwst_hd141569a_lib/data/F360M/jk/231108/for_planet_sensitivity/spaceklip/contrast_curves/rawcon/RDI_NANNU1_NSUBS4_JWST_NIRCAM_NRCALONG_F360M_MASKRND_MASK335R_SUB320A335R-KLmodes-all_seps.npy, /home/maxmb/Library/jwst_hd141569a_lib/data/F360M/jk/231108/for_planet_sensitivity/spaceklip/contrast_curves/rawcon/RDI_NANNU1_NSUBS4_JWST_NIRCAM_NRCALONG_F360M_MASKRND_MASK335R_SUB320A335R-KLmodes-all_cons.npy\n",
      "[spaceKLIP.analysistools:INFO] Analyzing file /home/maxmb/Library/jwst_hd141569a_lib/data/F360M/jk/231108/for_planet_sensitivity/spaceklip/klipsub_final_240221/RDI_NANNU1_NSUBS6_JWST_NIRCAM_NRCALONG_F360M_MASKRND_MASK335R_SUB320A335R-KLmodes-all.fits\n"
     ]
    },
    {
     "name": "stderr",
     "output_type": "stream",
     "text": [
      "[spaceKLIP.analysistools:WARNING] No mask file provided; MASKFILE is None. This may cause problems!!\n"
     ]
    },
    {
     "name": "stdout",
     "output_type": "stream",
     "text": [
      "[spaceKLIP.psf:INFO]   --> Generating WebbPSF model\n",
      "[spaceKLIP.analysistools:INFO]   Measuring raw contrast in annuli\n",
      "Contrast results and plots saved to /home/maxmb/Library/jwst_hd141569a_lib/data/F360M/jk/231108/for_planet_sensitivity/spaceklip/contrast_curves/rawcon/RDI_NANNU1_NSUBS6_JWST_NIRCAM_NRCALONG_F360M_MASKRND_MASK335R_SUB320A335R-KLmodes-all_seps.npy, /home/maxmb/Library/jwst_hd141569a_lib/data/F360M/jk/231108/for_planet_sensitivity/spaceklip/contrast_curves/rawcon/RDI_NANNU1_NSUBS6_JWST_NIRCAM_NRCALONG_F360M_MASKRND_MASK335R_SUB320A335R-KLmodes-all_cons.npy\n",
      "[spaceKLIP.analysistools:INFO] Analyzing file /home/maxmb/Library/jwst_hd141569a_lib/data/F360M/jk/231108/for_planet_sensitivity/spaceklip/klipsub_final_240221/RDI_NANNU20_NSUBS1_JWST_NIRCAM_NRCALONG_F360M_MASKRND_MASK335R_SUB320A335R-KLmodes-all.fits\n"
     ]
    },
    {
     "name": "stderr",
     "output_type": "stream",
     "text": [
      "[spaceKLIP.analysistools:WARNING] No mask file provided; MASKFILE is None. This may cause problems!!\n"
     ]
    },
    {
     "name": "stdout",
     "output_type": "stream",
     "text": [
      "[spaceKLIP.psf:INFO]   --> Generating WebbPSF model\n",
      "[spaceKLIP.analysistools:INFO]   Measuring raw contrast in annuli\n",
      "Contrast results and plots saved to /home/maxmb/Library/jwst_hd141569a_lib/data/F360M/jk/231108/for_planet_sensitivity/spaceklip/contrast_curves/rawcon/RDI_NANNU20_NSUBS1_JWST_NIRCAM_NRCALONG_F360M_MASKRND_MASK335R_SUB320A335R-KLmodes-all_seps.npy, /home/maxmb/Library/jwst_hd141569a_lib/data/F360M/jk/231108/for_planet_sensitivity/spaceklip/contrast_curves/rawcon/RDI_NANNU20_NSUBS1_JWST_NIRCAM_NRCALONG_F360M_MASKRND_MASK335R_SUB320A335R-KLmodes-all_cons.npy\n",
      "[spaceKLIP.analysistools:INFO] Analyzing file /home/maxmb/Library/jwst_hd141569a_lib/data/F360M/jk/231108/for_planet_sensitivity/spaceklip/klipsub_final_240221/RDI_NANNU20_NSUBS4_JWST_NIRCAM_NRCALONG_F360M_MASKRND_MASK335R_SUB320A335R-KLmodes-all.fits\n"
     ]
    },
    {
     "name": "stderr",
     "output_type": "stream",
     "text": [
      "[spaceKLIP.analysistools:WARNING] No mask file provided; MASKFILE is None. This may cause problems!!\n"
     ]
    },
    {
     "name": "stdout",
     "output_type": "stream",
     "text": [
      "[spaceKLIP.psf:INFO]   --> Generating WebbPSF model\n",
      "[spaceKLIP.analysistools:INFO]   Measuring raw contrast in annuli\n",
      "Contrast results and plots saved to /home/maxmb/Library/jwst_hd141569a_lib/data/F360M/jk/231108/for_planet_sensitivity/spaceklip/contrast_curves/rawcon/RDI_NANNU20_NSUBS4_JWST_NIRCAM_NRCALONG_F360M_MASKRND_MASK335R_SUB320A335R-KLmodes-all_seps.npy, /home/maxmb/Library/jwst_hd141569a_lib/data/F360M/jk/231108/for_planet_sensitivity/spaceklip/contrast_curves/rawcon/RDI_NANNU20_NSUBS4_JWST_NIRCAM_NRCALONG_F360M_MASKRND_MASK335R_SUB320A335R-KLmodes-all_cons.npy\n",
      "[spaceKLIP.analysistools:INFO] Analyzing file /home/maxmb/Library/jwst_hd141569a_lib/data/F360M/jk/231108/for_planet_sensitivity/spaceklip/klipsub_final_240221/RDI_NANNU20_NSUBS6_JWST_NIRCAM_NRCALONG_F360M_MASKRND_MASK335R_SUB320A335R-KLmodes-all.fits\n"
     ]
    },
    {
     "name": "stderr",
     "output_type": "stream",
     "text": [
      "[spaceKLIP.analysistools:WARNING] No mask file provided; MASKFILE is None. This may cause problems!!\n"
     ]
    },
    {
     "name": "stdout",
     "output_type": "stream",
     "text": [
      "[spaceKLIP.psf:INFO]   --> Generating WebbPSF model\n",
      "[spaceKLIP.analysistools:INFO]   Measuring raw contrast in annuli\n",
      "Contrast results and plots saved to /home/maxmb/Library/jwst_hd141569a_lib/data/F360M/jk/231108/for_planet_sensitivity/spaceklip/contrast_curves/rawcon/RDI_NANNU20_NSUBS6_JWST_NIRCAM_NRCALONG_F360M_MASKRND_MASK335R_SUB320A335R-KLmodes-all_seps.npy, /home/maxmb/Library/jwst_hd141569a_lib/data/F360M/jk/231108/for_planet_sensitivity/spaceklip/contrast_curves/rawcon/RDI_NANNU20_NSUBS6_JWST_NIRCAM_NRCALONG_F360M_MASKRND_MASK335R_SUB320A335R-KLmodes-all_cons.npy\n",
      "[spaceKLIP.analysistools:INFO] Analyzing file /home/maxmb/Library/jwst_hd141569a_lib/data/F360M/jk/231108/for_planet_sensitivity/spaceklip/klipsub_final_240221/RDI_NANNU5_NSUBS1_JWST_NIRCAM_NRCALONG_F360M_MASKRND_MASK335R_SUB320A335R-KLmodes-all.fits\n"
     ]
    },
    {
     "name": "stderr",
     "output_type": "stream",
     "text": [
      "[spaceKLIP.analysistools:WARNING] No mask file provided; MASKFILE is None. This may cause problems!!\n"
     ]
    },
    {
     "name": "stdout",
     "output_type": "stream",
     "text": [
      "[spaceKLIP.psf:INFO]   --> Generating WebbPSF model\n",
      "[spaceKLIP.analysistools:INFO]   Measuring raw contrast in annuli\n",
      "Contrast results and plots saved to /home/maxmb/Library/jwst_hd141569a_lib/data/F360M/jk/231108/for_planet_sensitivity/spaceklip/contrast_curves/rawcon/RDI_NANNU5_NSUBS1_JWST_NIRCAM_NRCALONG_F360M_MASKRND_MASK335R_SUB320A335R-KLmodes-all_seps.npy, /home/maxmb/Library/jwst_hd141569a_lib/data/F360M/jk/231108/for_planet_sensitivity/spaceklip/contrast_curves/rawcon/RDI_NANNU5_NSUBS1_JWST_NIRCAM_NRCALONG_F360M_MASKRND_MASK335R_SUB320A335R-KLmodes-all_cons.npy\n",
      "[spaceKLIP.analysistools:INFO] Analyzing file /home/maxmb/Library/jwst_hd141569a_lib/data/F360M/jk/231108/for_planet_sensitivity/spaceklip/klipsub_final_240221/RDI_NANNU5_NSUBS4_JWST_NIRCAM_NRCALONG_F360M_MASKRND_MASK335R_SUB320A335R-KLmodes-all.fits\n"
     ]
    },
    {
     "name": "stderr",
     "output_type": "stream",
     "text": [
      "[spaceKLIP.analysistools:WARNING] No mask file provided; MASKFILE is None. This may cause problems!!\n"
     ]
    },
    {
     "name": "stdout",
     "output_type": "stream",
     "text": [
      "[spaceKLIP.psf:INFO]   --> Generating WebbPSF model\n",
      "[spaceKLIP.analysistools:INFO]   Measuring raw contrast in annuli\n",
      "Contrast results and plots saved to /home/maxmb/Library/jwst_hd141569a_lib/data/F360M/jk/231108/for_planet_sensitivity/spaceklip/contrast_curves/rawcon/RDI_NANNU5_NSUBS4_JWST_NIRCAM_NRCALONG_F360M_MASKRND_MASK335R_SUB320A335R-KLmodes-all_seps.npy, /home/maxmb/Library/jwst_hd141569a_lib/data/F360M/jk/231108/for_planet_sensitivity/spaceklip/contrast_curves/rawcon/RDI_NANNU5_NSUBS4_JWST_NIRCAM_NRCALONG_F360M_MASKRND_MASK335R_SUB320A335R-KLmodes-all_cons.npy\n",
      "[spaceKLIP.analysistools:INFO] Analyzing file /home/maxmb/Library/jwst_hd141569a_lib/data/F360M/jk/231108/for_planet_sensitivity/spaceklip/klipsub_final_240221/RDI_NANNU5_NSUBS6_JWST_NIRCAM_NRCALONG_F360M_MASKRND_MASK335R_SUB320A335R-KLmodes-all.fits\n"
     ]
    },
    {
     "name": "stderr",
     "output_type": "stream",
     "text": [
      "[spaceKLIP.analysistools:WARNING] No mask file provided; MASKFILE is None. This may cause problems!!\n"
     ]
    },
    {
     "name": "stdout",
     "output_type": "stream",
     "text": [
      "[spaceKLIP.psf:INFO]   --> Generating WebbPSF model\n",
      "[spaceKLIP.analysistools:INFO]   Measuring raw contrast in annuli\n",
      "Contrast results and plots saved to /home/maxmb/Library/jwst_hd141569a_lib/data/F360M/jk/231108/for_planet_sensitivity/spaceklip/contrast_curves/rawcon/RDI_NANNU5_NSUBS6_JWST_NIRCAM_NRCALONG_F360M_MASKRND_MASK335R_SUB320A335R-KLmodes-all_seps.npy, /home/maxmb/Library/jwst_hd141569a_lib/data/F360M/jk/231108/for_planet_sensitivity/spaceklip/contrast_curves/rawcon/RDI_NANNU5_NSUBS6_JWST_NIRCAM_NRCALONG_F360M_MASKRND_MASK335R_SUB320A335R-KLmodes-all_cons.npy\n"
     ]
    }
   ],
   "source": [
    "# Compute raw contrast.\n",
    "contrast_subdir = os.path.join(\"contrast_curves\",\"rawcon\")\n",
    "analysistools.raw_contrast(starfile='hd_141569.vot',\n",
    "                               spectral_type='A2V',\n",
    "                               subdir = contrast_subdir)\n"
   ]
  },
  {
   "cell_type": "markdown",
   "id": "7aeb7190",
   "metadata": {},
   "source": [
    "The output of these is a large set of files within the `rawcon` subdir of the data directory. This includes PDFs showing the reduced images, and plots of contrast, and also saved contrast curves. \n",
    "\n",
    "Previously, raw contrast curves were saved as `.npy` numpy data dump files; now they are saved as astropy ECSV format text files, for easy use with astropy.table. "
   ]
  },
  {
   "cell_type": "code",
   "execution_count": 13,
   "id": "d2f274c1",
   "metadata": {},
   "outputs": [],
   "source": [
    "# astropy.table.Table.read(input_dir+'/contrast_curves/rawcon/ADI+RDI_NANNU20_NSUBS6_JWST_NIRCAM_NRCALONG_F360M_MASKRND_MASK335R_SUB320A335R-KLmodes-all_contrast.ecsv')"
   ]
  },
  {
   "cell_type": "code",
   "execution_count": 14,
   "id": "f152ccdb",
   "metadata": {},
   "outputs": [
    {
     "name": "stdout",
     "output_type": "stream",
     "text": [
      "[spaceKLIP.database:INFO] --> Identified 1 concatenation(s)\n",
      "[spaceKLIP.database:INFO]   --> Concatenation 1: JWST_NIRCAM_NRCALONG_F360M_MASKRND_MASK335R_SUB320A335R\n",
      " TYPE   EXP_TYPE DATAMODL TELESCOP ... SUBSECTS  KLMODES  BUNIT  BLURFWHM\n",
      "------ --------- -------- -------- ... -------- --------- ------ --------\n",
      "PYKLIP NRC_CORON   STAGE3     JWST ...        1 1,5,10,20 MJy/sr      nan\n",
      "PYKLIP NRC_CORON   STAGE3     JWST ...        4 1,5,10,20 MJy/sr      nan\n",
      "PYKLIP NRC_CORON   STAGE3     JWST ...        6 1,5,10,20 MJy/sr      nan\n",
      "PYKLIP NRC_CORON   STAGE3     JWST ...        1 1,5,10,20 MJy/sr      nan\n",
      "PYKLIP NRC_CORON   STAGE3     JWST ...        4 1,5,10,20 MJy/sr      nan\n",
      "PYKLIP NRC_CORON   STAGE3     JWST ...        6 1,5,10,20 MJy/sr      nan\n",
      "PYKLIP NRC_CORON   STAGE3     JWST ...        1 1,5,10,20 MJy/sr      nan\n",
      "PYKLIP NRC_CORON   STAGE3     JWST ...        4 1,5,10,20 MJy/sr      nan\n",
      "PYKLIP NRC_CORON   STAGE3     JWST ...        6 1,5,10,20 MJy/sr      nan\n",
      "PYKLIP NRC_CORON   STAGE3     JWST ...        1 1,5,10,20 MJy/sr      nan\n",
      "   ...       ...      ...      ... ...      ...       ...    ...      ...\n",
      "PYKLIP NRC_CORON   STAGE3     JWST ...        4 1,5,10,20 MJy/sr      nan\n",
      "PYKLIP NRC_CORON   STAGE3     JWST ...        6 1,5,10,20 MJy/sr      nan\n",
      "PYKLIP NRC_CORON   STAGE3     JWST ...        1 1,5,10,20 MJy/sr      nan\n",
      "PYKLIP NRC_CORON   STAGE3     JWST ...        4 1,5,10,20 MJy/sr      nan\n",
      "PYKLIP NRC_CORON   STAGE3     JWST ...        6 1,5,10,20 MJy/sr      nan\n",
      "PYKLIP NRC_CORON   STAGE3     JWST ...        1 1,5,10,20 MJy/sr      nan\n",
      "PYKLIP NRC_CORON   STAGE3     JWST ...        4 1,5,10,20 MJy/sr      nan\n",
      "PYKLIP NRC_CORON   STAGE3     JWST ...        6 1,5,10,20 MJy/sr      nan\n",
      "PYKLIP NRC_CORON   STAGE3     JWST ...        1 1,5,10,20 MJy/sr      nan\n",
      "PYKLIP NRC_CORON   STAGE3     JWST ...        4 1,5,10,20 MJy/sr      nan\n",
      "PYKLIP NRC_CORON   STAGE3     JWST ...        6 1,5,10,20 MJy/sr      nan\n",
      "Length = 27 rows\n",
      "[spaceKLIP.analysistools:INFO] --> Concatenation JWST_NIRCAM_NRCALONG_F360M_MASKRND_MASK335R_SUB320A335R\n"
     ]
    },
    {
     "name": "stdout",
     "output_type": "stream",
     "text": [
      "[spaceKLIP.psf:INFO]   --> Generating WebbPSF model\n",
      "[spaceKLIP.analysistools:INFO] Analyzing file /home/maxmb/Library/jwst_hd141569a_lib/data/F360M/jk/231108/for_planet_sensitivity/spaceklip/klipsub_final_240221/ADI+RDI_NANNU1_NSUBS1_JWST_NIRCAM_NRCALONG_F360M_MASKRND_MASK335R_SUB320A335R-KLmodes-all.fits\n",
      "--> Rejected 0 of 2 images due to too many bad pixels (threshold = 100%)\n",
      "--> Rejected 0 of 9 images due to too many bad pixels (threshold = 100%)\n",
      "[spaceKLIP.analysistools:INFO] Injecting and recovering synthetic companions. This may take a while...\n",
      "[spaceKLIP.analysistools:INFO] --> All 4 source positions suitable for injection.\n"
     ]
    },
    {
     "data": {
      "application/vnd.jupyter.widget-view+json": {
       "model_id": "eea0786bed234387a77b191ee6cd903a",
       "version_major": 2,
       "version_minor": 0
      },
      "text/plain": [
       "  0%|          | 0/4 [00:00<?, ?it/s]"
      ]
     },
     "metadata": {},
     "output_type": "display_data"
    },
    {
     "name": "stdout",
     "output_type": "stream",
     "text": [
      "[spaceKLIP.analysistools:INFO] Analyzing file /home/maxmb/Library/jwst_hd141569a_lib/data/F360M/jk/231108/for_planet_sensitivity/spaceklip/klipsub_final_240221/ADI+RDI_NANNU1_NSUBS4_JWST_NIRCAM_NRCALONG_F360M_MASKRND_MASK335R_SUB320A335R-KLmodes-all.fits\n",
      "--> Rejected 0 of 2 images due to too many bad pixels (threshold = 100%)\n",
      "--> Rejected 0 of 9 images due to too many bad pixels (threshold = 100%)\n",
      "[spaceKLIP.analysistools:INFO] Injecting and recovering synthetic companions. This may take a while...\n",
      "[spaceKLIP.analysistools:INFO] --> All 4 source positions suitable for injection.\n"
     ]
    },
    {
     "data": {
      "application/vnd.jupyter.widget-view+json": {
       "model_id": "277b21c619ce47e391ba4ec3ec3abf3c",
       "version_major": 2,
       "version_minor": 0
      },
      "text/plain": [
       "  0%|          | 0/4 [00:00<?, ?it/s]"
      ]
     },
     "metadata": {},
     "output_type": "display_data"
    },
    {
     "name": "stdout",
     "output_type": "stream",
     "text": [
      "[spaceKLIP.analysistools:INFO] Analyzing file /home/maxmb/Library/jwst_hd141569a_lib/data/F360M/jk/231108/for_planet_sensitivity/spaceklip/klipsub_final_240221/ADI+RDI_NANNU1_NSUBS6_JWST_NIRCAM_NRCALONG_F360M_MASKRND_MASK335R_SUB320A335R-KLmodes-all.fits\n",
      "--> Rejected 0 of 2 images due to too many bad pixels (threshold = 100%)\n",
      "--> Rejected 0 of 9 images due to too many bad pixels (threshold = 100%)\n",
      "[spaceKLIP.analysistools:INFO] Injecting and recovering synthetic companions. This may take a while...\n",
      "[spaceKLIP.analysistools:INFO] --> All 4 source positions suitable for injection.\n"
     ]
    },
    {
     "data": {
      "application/vnd.jupyter.widget-view+json": {
       "model_id": "d705133b37ea49b28f48e108883c3d53",
       "version_major": 2,
       "version_minor": 0
      },
      "text/plain": [
       "  0%|          | 0/4 [00:00<?, ?it/s]"
      ]
     },
     "metadata": {},
     "output_type": "display_data"
    },
    {
     "name": "stdout",
     "output_type": "stream",
     "text": [
      "[spaceKLIP.analysistools:INFO] Analyzing file /home/maxmb/Library/jwst_hd141569a_lib/data/F360M/jk/231108/for_planet_sensitivity/spaceklip/klipsub_final_240221/ADI+RDI_NANNU20_NSUBS1_JWST_NIRCAM_NRCALONG_F360M_MASKRND_MASK335R_SUB320A335R-KLmodes-all.fits\n",
      "--> Rejected 0 of 2 images due to too many bad pixels (threshold = 100%)\n",
      "--> Rejected 0 of 9 images due to too many bad pixels (threshold = 100%)\n",
      "[spaceKLIP.analysistools:INFO] Injecting and recovering synthetic companions. This may take a while...\n",
      "[spaceKLIP.analysistools:INFO] --> All 4 source positions suitable for injection.\n"
     ]
    },
    {
     "data": {
      "application/vnd.jupyter.widget-view+json": {
       "model_id": "c7c53455306d447584b72a236ce91c68",
       "version_major": 2,
       "version_minor": 0
      },
      "text/plain": [
       "  0%|          | 0/4 [00:00<?, ?it/s]"
      ]
     },
     "metadata": {},
     "output_type": "display_data"
    },
    {
     "name": "stdout",
     "output_type": "stream",
     "text": [
      "[spaceKLIP.analysistools:INFO] Analyzing file /home/maxmb/Library/jwst_hd141569a_lib/data/F360M/jk/231108/for_planet_sensitivity/spaceklip/klipsub_final_240221/ADI+RDI_NANNU20_NSUBS4_JWST_NIRCAM_NRCALONG_F360M_MASKRND_MASK335R_SUB320A335R-KLmodes-all.fits\n",
      "--> Rejected 0 of 2 images due to too many bad pixels (threshold = 100%)\n",
      "--> Rejected 0 of 9 images due to too many bad pixels (threshold = 100%)\n",
      "[spaceKLIP.analysistools:INFO] Injecting and recovering synthetic companions. This may take a while...\n",
      "[spaceKLIP.analysistools:INFO] --> All 4 source positions suitable for injection.\n"
     ]
    },
    {
     "data": {
      "application/vnd.jupyter.widget-view+json": {
       "model_id": "45a302706b1d497fa1b07e872671a236",
       "version_major": 2,
       "version_minor": 0
      },
      "text/plain": [
       "  0%|          | 0/4 [00:00<?, ?it/s]"
      ]
     },
     "metadata": {},
     "output_type": "display_data"
    },
    {
     "name": "stdout",
     "output_type": "stream",
     "text": [
      "[spaceKLIP.analysistools:INFO] Analyzing file /home/maxmb/Library/jwst_hd141569a_lib/data/F360M/jk/231108/for_planet_sensitivity/spaceklip/klipsub_final_240221/ADI+RDI_NANNU20_NSUBS6_JWST_NIRCAM_NRCALONG_F360M_MASKRND_MASK335R_SUB320A335R-KLmodes-all.fits\n",
      "--> Rejected 0 of 2 images due to too many bad pixels (threshold = 100%)\n",
      "--> Rejected 0 of 9 images due to too many bad pixels (threshold = 100%)\n",
      "[spaceKLIP.analysistools:INFO] Injecting and recovering synthetic companions. This may take a while...\n",
      "[spaceKLIP.analysistools:INFO] --> All 4 source positions suitable for injection.\n"
     ]
    },
    {
     "data": {
      "application/vnd.jupyter.widget-view+json": {
       "model_id": "d314dd7d2e7245a68f9a0dde3e52dc24",
       "version_major": 2,
       "version_minor": 0
      },
      "text/plain": [
       "  0%|          | 0/4 [00:00<?, ?it/s]"
      ]
     },
     "metadata": {},
     "output_type": "display_data"
    },
    {
     "name": "stdout",
     "output_type": "stream",
     "text": [
      "[spaceKLIP.analysistools:INFO] Analyzing file /home/maxmb/Library/jwst_hd141569a_lib/data/F360M/jk/231108/for_planet_sensitivity/spaceklip/klipsub_final_240221/ADI+RDI_NANNU5_NSUBS1_JWST_NIRCAM_NRCALONG_F360M_MASKRND_MASK335R_SUB320A335R-KLmodes-all.fits\n",
      "--> Rejected 0 of 2 images due to too many bad pixels (threshold = 100%)\n",
      "--> Rejected 0 of 9 images due to too many bad pixels (threshold = 100%)\n",
      "[spaceKLIP.analysistools:INFO] Injecting and recovering synthetic companions. This may take a while...\n",
      "[spaceKLIP.analysistools:INFO] --> All 4 source positions suitable for injection.\n"
     ]
    },
    {
     "data": {
      "application/vnd.jupyter.widget-view+json": {
       "model_id": "24804ac0a11747d5bd57e5a182eb16ca",
       "version_major": 2,
       "version_minor": 0
      },
      "text/plain": [
       "  0%|          | 0/4 [00:00<?, ?it/s]"
      ]
     },
     "metadata": {},
     "output_type": "display_data"
    },
    {
     "name": "stdout",
     "output_type": "stream",
     "text": [
      "[spaceKLIP.analysistools:INFO] Analyzing file /home/maxmb/Library/jwst_hd141569a_lib/data/F360M/jk/231108/for_planet_sensitivity/spaceklip/klipsub_final_240221/ADI+RDI_NANNU5_NSUBS4_JWST_NIRCAM_NRCALONG_F360M_MASKRND_MASK335R_SUB320A335R-KLmodes-all.fits\n",
      "--> Rejected 0 of 2 images due to too many bad pixels (threshold = 100%)\n",
      "--> Rejected 0 of 9 images due to too many bad pixels (threshold = 100%)\n",
      "[spaceKLIP.analysistools:INFO] Injecting and recovering synthetic companions. This may take a while...\n",
      "[spaceKLIP.analysistools:INFO] --> All 4 source positions suitable for injection.\n"
     ]
    },
    {
     "data": {
      "application/vnd.jupyter.widget-view+json": {
       "model_id": "dfbe7b0c467c425c9b92bef8f471888d",
       "version_major": 2,
       "version_minor": 0
      },
      "text/plain": [
       "  0%|          | 0/4 [00:00<?, ?it/s]"
      ]
     },
     "metadata": {},
     "output_type": "display_data"
    },
    {
     "name": "stdout",
     "output_type": "stream",
     "text": [
      "[spaceKLIP.analysistools:INFO] Analyzing file /home/maxmb/Library/jwst_hd141569a_lib/data/F360M/jk/231108/for_planet_sensitivity/spaceklip/klipsub_final_240221/ADI+RDI_NANNU5_NSUBS6_JWST_NIRCAM_NRCALONG_F360M_MASKRND_MASK335R_SUB320A335R-KLmodes-all.fits\n",
      "--> Rejected 0 of 2 images due to too many bad pixels (threshold = 100%)\n",
      "--> Rejected 0 of 9 images due to too many bad pixels (threshold = 100%)\n",
      "[spaceKLIP.analysistools:INFO] Injecting and recovering synthetic companions. This may take a while...\n",
      "[spaceKLIP.analysistools:INFO] --> All 4 source positions suitable for injection.\n"
     ]
    },
    {
     "data": {
      "application/vnd.jupyter.widget-view+json": {
       "model_id": "d25507aa933a4b7fb123a788e5c56e2c",
       "version_major": 2,
       "version_minor": 0
      },
      "text/plain": [
       "  0%|          | 0/4 [00:00<?, ?it/s]"
      ]
     },
     "metadata": {},
     "output_type": "display_data"
    },
    {
     "name": "stdout",
     "output_type": "stream",
     "text": [
      "[spaceKLIP.analysistools:INFO] Analyzing file /home/maxmb/Library/jwst_hd141569a_lib/data/F360M/jk/231108/for_planet_sensitivity/spaceklip/klipsub_final_240221/ADI_NANNU1_NSUBS1_JWST_NIRCAM_NRCALONG_F360M_MASKRND_MASK335R_SUB320A335R-KLmodes-all.fits\n",
      "--> Rejected 0 of 2 images due to too many bad pixels (threshold = 100%)\n",
      "--> Rejected 0 of 9 images due to too many bad pixels (threshold = 100%)\n",
      "[spaceKLIP.analysistools:INFO] Injecting and recovering synthetic companions. This may take a while...\n",
      "[spaceKLIP.analysistools:INFO] --> All 4 source positions suitable for injection.\n"
     ]
    },
    {
     "data": {
      "application/vnd.jupyter.widget-view+json": {
       "model_id": "9a534948ce8049aabe25c1bcd6e6e693",
       "version_major": 2,
       "version_minor": 0
      },
      "text/plain": [
       "  0%|          | 0/4 [00:00<?, ?it/s]"
      ]
     },
     "metadata": {},
     "output_type": "display_data"
    },
    {
     "name": "stdout",
     "output_type": "stream",
     "text": [
      "[spaceKLIP.analysistools:INFO] Analyzing file /home/maxmb/Library/jwst_hd141569a_lib/data/F360M/jk/231108/for_planet_sensitivity/spaceklip/klipsub_final_240221/ADI_NANNU1_NSUBS4_JWST_NIRCAM_NRCALONG_F360M_MASKRND_MASK335R_SUB320A335R-KLmodes-all.fits\n",
      "--> Rejected 0 of 2 images due to too many bad pixels (threshold = 100%)\n",
      "--> Rejected 0 of 9 images due to too many bad pixels (threshold = 100%)\n",
      "[spaceKLIP.analysistools:INFO] Injecting and recovering synthetic companions. This may take a while...\n",
      "[spaceKLIP.analysistools:INFO] --> All 4 source positions suitable for injection.\n"
     ]
    },
    {
     "data": {
      "application/vnd.jupyter.widget-view+json": {
       "model_id": "782e93e9397646b9b313d9e2ed333b94",
       "version_major": 2,
       "version_minor": 0
      },
      "text/plain": [
       "  0%|          | 0/4 [00:00<?, ?it/s]"
      ]
     },
     "metadata": {},
     "output_type": "display_data"
    },
    {
     "name": "stdout",
     "output_type": "stream",
     "text": [
      "[spaceKLIP.analysistools:INFO] Analyzing file /home/maxmb/Library/jwst_hd141569a_lib/data/F360M/jk/231108/for_planet_sensitivity/spaceklip/klipsub_final_240221/ADI_NANNU1_NSUBS6_JWST_NIRCAM_NRCALONG_F360M_MASKRND_MASK335R_SUB320A335R-KLmodes-all.fits\n",
      "--> Rejected 0 of 2 images due to too many bad pixels (threshold = 100%)\n",
      "--> Rejected 0 of 9 images due to too many bad pixels (threshold = 100%)\n",
      "[spaceKLIP.analysistools:INFO] Injecting and recovering synthetic companions. This may take a while...\n",
      "[spaceKLIP.analysistools:INFO] --> All 4 source positions suitable for injection.\n"
     ]
    },
    {
     "data": {
      "application/vnd.jupyter.widget-view+json": {
       "model_id": "3a27567ff3854a7cbe668034ac2809c1",
       "version_major": 2,
       "version_minor": 0
      },
      "text/plain": [
       "  0%|          | 0/4 [00:00<?, ?it/s]"
      ]
     },
     "metadata": {},
     "output_type": "display_data"
    },
    {
     "name": "stdout",
     "output_type": "stream",
     "text": [
      "[spaceKLIP.analysistools:INFO] Analyzing file /home/maxmb/Library/jwst_hd141569a_lib/data/F360M/jk/231108/for_planet_sensitivity/spaceklip/klipsub_final_240221/ADI_NANNU20_NSUBS1_JWST_NIRCAM_NRCALONG_F360M_MASKRND_MASK335R_SUB320A335R-KLmodes-all.fits\n",
      "--> Rejected 0 of 2 images due to too many bad pixels (threshold = 100%)\n",
      "--> Rejected 0 of 9 images due to too many bad pixels (threshold = 100%)\n",
      "[spaceKLIP.analysistools:INFO] Injecting and recovering synthetic companions. This may take a while...\n",
      "[spaceKLIP.analysistools:INFO] --> All 4 source positions suitable for injection.\n"
     ]
    },
    {
     "data": {
      "application/vnd.jupyter.widget-view+json": {
       "model_id": "bb77d6e99c3142029d2dc766f4bf6235",
       "version_major": 2,
       "version_minor": 0
      },
      "text/plain": [
       "  0%|          | 0/4 [00:00<?, ?it/s]"
      ]
     },
     "metadata": {},
     "output_type": "display_data"
    },
    {
     "name": "stdout",
     "output_type": "stream",
     "text": [
      "[spaceKLIP.analysistools:INFO] Analyzing file /home/maxmb/Library/jwst_hd141569a_lib/data/F360M/jk/231108/for_planet_sensitivity/spaceklip/klipsub_final_240221/ADI_NANNU20_NSUBS4_JWST_NIRCAM_NRCALONG_F360M_MASKRND_MASK335R_SUB320A335R-KLmodes-all.fits\n",
      "--> Rejected 0 of 2 images due to too many bad pixels (threshold = 100%)\n",
      "--> Rejected 0 of 9 images due to too many bad pixels (threshold = 100%)\n",
      "[spaceKLIP.analysistools:INFO] Injecting and recovering synthetic companions. This may take a while...\n",
      "[spaceKLIP.analysistools:INFO] --> All 4 source positions suitable for injection.\n"
     ]
    },
    {
     "data": {
      "application/vnd.jupyter.widget-view+json": {
       "model_id": "313c9df8364f460aa864976f0904aef1",
       "version_major": 2,
       "version_minor": 0
      },
      "text/plain": [
       "  0%|          | 0/4 [00:00<?, ?it/s]"
      ]
     },
     "metadata": {},
     "output_type": "display_data"
    },
    {
     "name": "stdout",
     "output_type": "stream",
     "text": [
      "[spaceKLIP.analysistools:INFO] Analyzing file /home/maxmb/Library/jwst_hd141569a_lib/data/F360M/jk/231108/for_planet_sensitivity/spaceklip/klipsub_final_240221/ADI_NANNU20_NSUBS6_JWST_NIRCAM_NRCALONG_F360M_MASKRND_MASK335R_SUB320A335R-KLmodes-all.fits\n",
      "--> Rejected 0 of 2 images due to too many bad pixels (threshold = 100%)\n",
      "--> Rejected 0 of 9 images due to too many bad pixels (threshold = 100%)\n",
      "[spaceKLIP.analysistools:INFO] Injecting and recovering synthetic companions. This may take a while...\n",
      "[spaceKLIP.analysistools:INFO] --> All 4 source positions suitable for injection.\n"
     ]
    },
    {
     "data": {
      "application/vnd.jupyter.widget-view+json": {
       "model_id": "39a972e52f2a4ed3bc667efebb2e4e33",
       "version_major": 2,
       "version_minor": 0
      },
      "text/plain": [
       "  0%|          | 0/4 [00:00<?, ?it/s]"
      ]
     },
     "metadata": {},
     "output_type": "display_data"
    },
    {
     "name": "stdout",
     "output_type": "stream",
     "text": [
      "[spaceKLIP.analysistools:INFO] Analyzing file /home/maxmb/Library/jwst_hd141569a_lib/data/F360M/jk/231108/for_planet_sensitivity/spaceklip/klipsub_final_240221/ADI_NANNU5_NSUBS1_JWST_NIRCAM_NRCALONG_F360M_MASKRND_MASK335R_SUB320A335R-KLmodes-all.fits\n",
      "--> Rejected 0 of 2 images due to too many bad pixels (threshold = 100%)\n",
      "--> Rejected 0 of 9 images due to too many bad pixels (threshold = 100%)\n",
      "[spaceKLIP.analysistools:INFO] Injecting and recovering synthetic companions. This may take a while...\n",
      "[spaceKLIP.analysistools:INFO] --> All 4 source positions suitable for injection.\n"
     ]
    },
    {
     "data": {
      "application/vnd.jupyter.widget-view+json": {
       "model_id": "739556f76aea462a9e8ebcff11f35312",
       "version_major": 2,
       "version_minor": 0
      },
      "text/plain": [
       "  0%|          | 0/4 [00:00<?, ?it/s]"
      ]
     },
     "metadata": {},
     "output_type": "display_data"
    },
    {
     "name": "stdout",
     "output_type": "stream",
     "text": [
      "[spaceKLIP.analysistools:INFO] Analyzing file /home/maxmb/Library/jwst_hd141569a_lib/data/F360M/jk/231108/for_planet_sensitivity/spaceklip/klipsub_final_240221/ADI_NANNU5_NSUBS4_JWST_NIRCAM_NRCALONG_F360M_MASKRND_MASK335R_SUB320A335R-KLmodes-all.fits\n",
      "--> Rejected 0 of 2 images due to too many bad pixels (threshold = 100%)\n",
      "--> Rejected 0 of 9 images due to too many bad pixels (threshold = 100%)\n",
      "[spaceKLIP.analysistools:INFO] Injecting and recovering synthetic companions. This may take a while...\n",
      "[spaceKLIP.analysistools:INFO] --> All 4 source positions suitable for injection.\n"
     ]
    },
    {
     "data": {
      "application/vnd.jupyter.widget-view+json": {
       "model_id": "f7233db0e6e348dd9a43efb1bfea9669",
       "version_major": 2,
       "version_minor": 0
      },
      "text/plain": [
       "  0%|          | 0/4 [00:00<?, ?it/s]"
      ]
     },
     "metadata": {},
     "output_type": "display_data"
    },
    {
     "name": "stdout",
     "output_type": "stream",
     "text": [
      "[spaceKLIP.analysistools:INFO] Analyzing file /home/maxmb/Library/jwst_hd141569a_lib/data/F360M/jk/231108/for_planet_sensitivity/spaceklip/klipsub_final_240221/ADI_NANNU5_NSUBS6_JWST_NIRCAM_NRCALONG_F360M_MASKRND_MASK335R_SUB320A335R-KLmodes-all.fits\n",
      "--> Rejected 0 of 2 images due to too many bad pixels (threshold = 100%)\n",
      "--> Rejected 0 of 9 images due to too many bad pixels (threshold = 100%)\n",
      "[spaceKLIP.analysistools:INFO] Injecting and recovering synthetic companions. This may take a while...\n",
      "[spaceKLIP.analysistools:INFO] --> All 4 source positions suitable for injection.\n"
     ]
    },
    {
     "data": {
      "application/vnd.jupyter.widget-view+json": {
       "model_id": "08f7bd711ecf4a9f8823f2ead0155843",
       "version_major": 2,
       "version_minor": 0
      },
      "text/plain": [
       "  0%|          | 0/4 [00:00<?, ?it/s]"
      ]
     },
     "metadata": {},
     "output_type": "display_data"
    },
    {
     "name": "stdout",
     "output_type": "stream",
     "text": [
      "[spaceKLIP.analysistools:INFO] Analyzing file /home/maxmb/Library/jwst_hd141569a_lib/data/F360M/jk/231108/for_planet_sensitivity/spaceklip/klipsub_final_240221/RDI_NANNU1_NSUBS1_JWST_NIRCAM_NRCALONG_F360M_MASKRND_MASK335R_SUB320A335R-KLmodes-all.fits\n",
      "--> Rejected 0 of 2 images due to too many bad pixels (threshold = 100%)\n",
      "--> Rejected 0 of 9 images due to too many bad pixels (threshold = 100%)\n",
      "[spaceKLIP.analysistools:INFO] Injecting and recovering synthetic companions. This may take a while...\n",
      "[spaceKLIP.analysistools:INFO] --> All 4 source positions suitable for injection.\n"
     ]
    },
    {
     "data": {
      "application/vnd.jupyter.widget-view+json": {
       "model_id": "69b45dfe5e29447a9f730f5f8bc7256d",
       "version_major": 2,
       "version_minor": 0
      },
      "text/plain": [
       "  0%|          | 0/4 [00:00<?, ?it/s]"
      ]
     },
     "metadata": {},
     "output_type": "display_data"
    },
    {
     "name": "stdout",
     "output_type": "stream",
     "text": [
      "[spaceKLIP.analysistools:INFO] Analyzing file /home/maxmb/Library/jwst_hd141569a_lib/data/F360M/jk/231108/for_planet_sensitivity/spaceklip/klipsub_final_240221/RDI_NANNU1_NSUBS4_JWST_NIRCAM_NRCALONG_F360M_MASKRND_MASK335R_SUB320A335R-KLmodes-all.fits\n",
      "--> Rejected 0 of 2 images due to too many bad pixels (threshold = 100%)\n",
      "--> Rejected 0 of 9 images due to too many bad pixels (threshold = 100%)\n",
      "[spaceKLIP.analysistools:INFO] Injecting and recovering synthetic companions. This may take a while...\n",
      "[spaceKLIP.analysistools:INFO] --> All 4 source positions suitable for injection.\n"
     ]
    },
    {
     "data": {
      "application/vnd.jupyter.widget-view+json": {
       "model_id": "f372c792de3848d9bdb9bebebfc0dc80",
       "version_major": 2,
       "version_minor": 0
      },
      "text/plain": [
       "  0%|          | 0/4 [00:00<?, ?it/s]"
      ]
     },
     "metadata": {},
     "output_type": "display_data"
    },
    {
     "name": "stdout",
     "output_type": "stream",
     "text": [
      "[spaceKLIP.analysistools:INFO] Analyzing file /home/maxmb/Library/jwst_hd141569a_lib/data/F360M/jk/231108/for_planet_sensitivity/spaceklip/klipsub_final_240221/RDI_NANNU1_NSUBS6_JWST_NIRCAM_NRCALONG_F360M_MASKRND_MASK335R_SUB320A335R-KLmodes-all.fits\n",
      "--> Rejected 0 of 2 images due to too many bad pixels (threshold = 100%)\n",
      "--> Rejected 0 of 9 images due to too many bad pixels (threshold = 100%)\n",
      "[spaceKLIP.analysistools:INFO] Injecting and recovering synthetic companions. This may take a while...\n",
      "[spaceKLIP.analysistools:INFO] --> All 4 source positions suitable for injection.\n"
     ]
    },
    {
     "data": {
      "application/vnd.jupyter.widget-view+json": {
       "model_id": "61df9a8a1d06402aa61fe2382cd5baad",
       "version_major": 2,
       "version_minor": 0
      },
      "text/plain": [
       "  0%|          | 0/4 [00:00<?, ?it/s]"
      ]
     },
     "metadata": {},
     "output_type": "display_data"
    },
    {
     "name": "stdout",
     "output_type": "stream",
     "text": [
      "[spaceKLIP.analysistools:INFO] Analyzing file /home/maxmb/Library/jwst_hd141569a_lib/data/F360M/jk/231108/for_planet_sensitivity/spaceklip/klipsub_final_240221/RDI_NANNU20_NSUBS1_JWST_NIRCAM_NRCALONG_F360M_MASKRND_MASK335R_SUB320A335R-KLmodes-all.fits\n",
      "--> Rejected 0 of 2 images due to too many bad pixels (threshold = 100%)\n",
      "--> Rejected 0 of 9 images due to too many bad pixels (threshold = 100%)\n",
      "[spaceKLIP.analysistools:INFO] Injecting and recovering synthetic companions. This may take a while...\n",
      "[spaceKLIP.analysistools:INFO] --> All 4 source positions suitable for injection.\n"
     ]
    },
    {
     "data": {
      "application/vnd.jupyter.widget-view+json": {
       "model_id": "fbfc319fbaa44a6786bd4d1bd0f87247",
       "version_major": 2,
       "version_minor": 0
      },
      "text/plain": [
       "  0%|          | 0/4 [00:00<?, ?it/s]"
      ]
     },
     "metadata": {},
     "output_type": "display_data"
    },
    {
     "name": "stdout",
     "output_type": "stream",
     "text": [
      "[spaceKLIP.analysistools:INFO] Analyzing file /home/maxmb/Library/jwst_hd141569a_lib/data/F360M/jk/231108/for_planet_sensitivity/spaceklip/klipsub_final_240221/RDI_NANNU20_NSUBS4_JWST_NIRCAM_NRCALONG_F360M_MASKRND_MASK335R_SUB320A335R-KLmodes-all.fits\n",
      "--> Rejected 0 of 2 images due to too many bad pixels (threshold = 100%)\n",
      "--> Rejected 0 of 9 images due to too many bad pixels (threshold = 100%)\n",
      "[spaceKLIP.analysistools:INFO] Injecting and recovering synthetic companions. This may take a while...\n",
      "[spaceKLIP.analysistools:INFO] --> All 4 source positions suitable for injection.\n"
     ]
    },
    {
     "data": {
      "application/vnd.jupyter.widget-view+json": {
       "model_id": "e64c145bebc943ecacac978a32c39537",
       "version_major": 2,
       "version_minor": 0
      },
      "text/plain": [
       "  0%|          | 0/4 [00:00<?, ?it/s]"
      ]
     },
     "metadata": {},
     "output_type": "display_data"
    },
    {
     "name": "stdout",
     "output_type": "stream",
     "text": [
      "[spaceKLIP.analysistools:INFO] Analyzing file /home/maxmb/Library/jwst_hd141569a_lib/data/F360M/jk/231108/for_planet_sensitivity/spaceklip/klipsub_final_240221/RDI_NANNU20_NSUBS6_JWST_NIRCAM_NRCALONG_F360M_MASKRND_MASK335R_SUB320A335R-KLmodes-all.fits\n",
      "--> Rejected 0 of 2 images due to too many bad pixels (threshold = 100%)\n",
      "--> Rejected 0 of 9 images due to too many bad pixels (threshold = 100%)\n",
      "[spaceKLIP.analysistools:INFO] Injecting and recovering synthetic companions. This may take a while...\n",
      "[spaceKLIP.analysistools:INFO] --> All 4 source positions suitable for injection.\n"
     ]
    },
    {
     "data": {
      "application/vnd.jupyter.widget-view+json": {
       "model_id": "e54a5b258b334dd094d67f068383e0be",
       "version_major": 2,
       "version_minor": 0
      },
      "text/plain": [
       "  0%|          | 0/4 [00:00<?, ?it/s]"
      ]
     },
     "metadata": {},
     "output_type": "display_data"
    },
    {
     "name": "stdout",
     "output_type": "stream",
     "text": [
      "[spaceKLIP.analysistools:INFO] Analyzing file /home/maxmb/Library/jwst_hd141569a_lib/data/F360M/jk/231108/for_planet_sensitivity/spaceklip/klipsub_final_240221/RDI_NANNU5_NSUBS1_JWST_NIRCAM_NRCALONG_F360M_MASKRND_MASK335R_SUB320A335R-KLmodes-all.fits\n",
      "--> Rejected 0 of 2 images due to too many bad pixels (threshold = 100%)\n",
      "--> Rejected 0 of 9 images due to too many bad pixels (threshold = 100%)\n",
      "[spaceKLIP.analysistools:INFO] Injecting and recovering synthetic companions. This may take a while...\n",
      "[spaceKLIP.analysistools:INFO] --> All 4 source positions suitable for injection.\n"
     ]
    },
    {
     "data": {
      "application/vnd.jupyter.widget-view+json": {
       "model_id": "c7b2a97a7e69430ba9c8db566023430c",
       "version_major": 2,
       "version_minor": 0
      },
      "text/plain": [
       "  0%|          | 0/4 [00:00<?, ?it/s]"
      ]
     },
     "metadata": {},
     "output_type": "display_data"
    },
    {
     "name": "stdout",
     "output_type": "stream",
     "text": [
      "[spaceKLIP.analysistools:INFO] Analyzing file /home/maxmb/Library/jwst_hd141569a_lib/data/F360M/jk/231108/for_planet_sensitivity/spaceklip/klipsub_final_240221/RDI_NANNU5_NSUBS4_JWST_NIRCAM_NRCALONG_F360M_MASKRND_MASK335R_SUB320A335R-KLmodes-all.fits\n",
      "--> Rejected 0 of 2 images due to too many bad pixels (threshold = 100%)\n",
      "--> Rejected 0 of 9 images due to too many bad pixels (threshold = 100%)\n",
      "[spaceKLIP.analysistools:INFO] Injecting and recovering synthetic companions. This may take a while...\n",
      "[spaceKLIP.analysistools:INFO] --> All 4 source positions suitable for injection.\n"
     ]
    },
    {
     "data": {
      "application/vnd.jupyter.widget-view+json": {
       "model_id": "6f9a52ce0d854b4b8559518c005bce67",
       "version_major": 2,
       "version_minor": 0
      },
      "text/plain": [
       "  0%|          | 0/4 [00:00<?, ?it/s]"
      ]
     },
     "metadata": {},
     "output_type": "display_data"
    },
    {
     "name": "stdout",
     "output_type": "stream",
     "text": [
      "[spaceKLIP.analysistools:INFO] Analyzing file /home/maxmb/Library/jwst_hd141569a_lib/data/F360M/jk/231108/for_planet_sensitivity/spaceklip/klipsub_final_240221/RDI_NANNU5_NSUBS6_JWST_NIRCAM_NRCALONG_F360M_MASKRND_MASK335R_SUB320A335R-KLmodes-all.fits\n",
      "--> Rejected 0 of 2 images due to too many bad pixels (threshold = 100%)\n",
      "--> Rejected 0 of 9 images due to too many bad pixels (threshold = 100%)\n",
      "[spaceKLIP.analysistools:INFO] Injecting and recovering synthetic companions. This may take a while...\n",
      "[spaceKLIP.analysistools:INFO] --> All 4 source positions suitable for injection.\n"
     ]
    },
    {
     "data": {
      "application/vnd.jupyter.widget-view+json": {
       "model_id": "caaaf23e8a654564b5b1e50a1712c948",
       "version_major": 2,
       "version_minor": 0
      },
      "text/plain": [
       "  0%|          | 0/4 [00:00<?, ?it/s]"
      ]
     },
     "metadata": {},
     "output_type": "display_data"
    }
   ],
   "source": [
    "fitsfiles = sorted(glob.glob(os.path.join(odir, klip_dir,\"*KLmodes-all.fits\")))\n",
    "\n",
    "database = spaceKLIP.database.Database(output_dir=odir)\n",
    "database.read_jwst_s3_data(fitsfiles)\n",
    "analysistools = spaceKLIP.analysistools.AnalysisTools(database)\n",
    "\n",
    "#Compute calibrated contrast.\n",
    "analysistools.calibrate_contrast(rawcon_subdir=os.path.join(odir+contrast_subdir), #Directory raw contrast was saved to\n",
    "                                #  companions=[[comp_dra, comp_ddec, 2.]],  #[RA offset (arcsec), Dec offset (arcsec), mask radius (lambda/D)] for companions to avoid injecting too close\n",
    "                                 injection_seps=[0.5, 1, 2, 3], # Separations to inject and recover companions (arcsec), can also be 'default'\n",
    "                                 injection_pas=[45], # PAs to inject and recover companions (degrees), can also be 'default'\n",
    "                                 injection_flux_sigma=20, #N sigma flux of injected companion relative to contrast of median KL mode subtraction (default 20)\n",
    "                                 multi_injection_spacing=None, #Spacing between injected companion, None = 1 companion per injection+recovery.\n",
    "                                 use_saved=False,\n",
    "                                 highpass=kwargs['highpass']) # whether to run the companion injection, or load saved files.\n"
   ]
  },
  {
   "cell_type": "code",
   "execution_count": 15,
   "id": "4f3ffb2b",
   "metadata": {},
   "outputs": [
    {
     "data": {
      "text/plain": [
       "3"
      ]
     },
     "execution_count": 15,
     "metadata": {},
     "output_type": "execute_result"
    }
   ],
   "source": [
    "kwargs['highpass']"
   ]
  },
  {
   "cell_type": "code",
   "execution_count": null,
   "id": "63f4365b",
   "metadata": {},
   "outputs": [],
   "source": []
  },
  {
   "cell_type": "code",
   "execution_count": null,
   "id": "620f7de2",
   "metadata": {},
   "outputs": [],
   "source": []
  }
 ],
 "metadata": {
  "kernelspec": {
   "display_name": "Python 3 (ipykernel)",
   "language": "python",
   "name": "python3"
  },
  "language_info": {
   "codemirror_mode": {
    "name": "ipython",
    "version": 3
   },
   "file_extension": ".py",
   "mimetype": "text/x-python",
   "name": "python",
   "nbconvert_exporter": "python",
   "pygments_lexer": "ipython3",
   "version": "3.11.4"
  }
 },
 "nbformat": 4,
 "nbformat_minor": 5
}
