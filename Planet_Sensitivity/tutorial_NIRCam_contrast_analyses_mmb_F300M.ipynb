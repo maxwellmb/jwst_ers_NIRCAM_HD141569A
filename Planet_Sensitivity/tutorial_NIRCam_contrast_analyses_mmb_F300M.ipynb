{
 "cells": [
  {
   "cell_type": "markdown",
   "id": "e0dab164",
   "metadata": {},
   "source": [
    "# Tutorial for NIRCam post-pipeline contrast analyses using spaceKLIP\n",
    "\n",
    "In this notebook we will analyze the NIRCam coronagraphy data on HIP 65426 b \n",
    "from the JWST ERS program on Direct Observations of Exoplanetary Systems, program 1386. \n",
    "\n",
    "\n",
    "<div class=\"alert alert-block alert-warning\">\n",
    "This notebook has been modified to work on HD 141569A ERS data\n",
    "</div>"
   ]
  },
  {
   "cell_type": "markdown",
   "id": "7805e7a0",
   "metadata": {},
   "source": [
    "## Setup and imports"
   ]
  },
  {
   "cell_type": "markdown",
   "id": "f9d931cc",
   "metadata": {},
   "source": []
  },
  {
   "cell_type": "code",
   "execution_count": 1,
   "id": "c05898da",
   "metadata": {},
   "outputs": [
    {
     "name": "stderr",
     "output_type": "stream",
     "text": [
      "**WARNING**: LOCAL JWST PRD VERSION PRDOPSSOC-062 CANNOT BE CHECKED AGAINST ONLINE VERSION\n"
     ]
    }
   ],
   "source": [
    "import os\n",
    "import pdb\n",
    "import sys\n",
    "import glob\n",
    "\n",
    "import numpy as np\n",
    "import astropy.io.fits as fits\n",
    "import astropy.table\n",
    "\n",
    "import matplotlib.pyplot as plt\n",
    "import matplotlib\n",
    "\n",
    "import spaceKLIP"
   ]
  },
  {
   "cell_type": "markdown",
   "id": "809b02ab",
   "metadata": {},
   "source": [
    "Note that currently the import of `webbpsf_ext` has a side effect of configuring extra verbose logging. We're not interested in that logging text, so let's quiet it. "
   ]
  },
  {
   "cell_type": "code",
   "execution_count": 2,
   "id": "2af0d94a",
   "metadata": {},
   "outputs": [],
   "source": [
    "import webbpsf_ext\n",
    "webbpsf_ext.setup_logging('WARN', verbose=False)"
   ]
  },
  {
   "cell_type": "code",
   "execution_count": 3,
   "id": "ebe69055",
   "metadata": {},
   "outputs": [],
   "source": [
    "idir = '/home/maxmb/Library/jwst_hd141569a_lib/data/F300M/jk/231108/for_planet_sensitivity/'\n",
    "odir = idir+'spaceklip/'"
   ]
  },
  {
   "cell_type": "markdown",
   "id": "dc32bde4",
   "metadata": {},
   "source": [
    "## Re-read level 3 outputs into database \n",
    "Read in output files produced in the NIRCam coronagraph data reduction notebook. "
   ]
  },
  {
   "cell_type": "code",
   "execution_count": 4,
   "id": "005a5693",
   "metadata": {},
   "outputs": [
    {
     "name": "stdout",
     "output_type": "stream",
     "text": [
      "[spaceKLIP.database:INFO] --> Identified 1 concatenation(s)\n",
      "[spaceKLIP.database:INFO]   --> Concatenation 1: JWST_NIRCAM_NRCALONG_F300M_MASKRND_MASK335R_SUB320A335R\n",
      "TYPE  EXP_TYPE DATAMODL TELESCOP ... BUNIT       ROLL_REF      BLURFWHM\n",
      "---- --------- -------- -------- ... ------ ------------------ --------\n",
      " SCI NRC_CORON   STAGE2     JWST ... MJy/sr 284.81837365356836      nan\n",
      " SCI NRC_CORON   STAGE2     JWST ... MJy/sr 279.81907801898586      nan\n",
      " REF NRC_CORON   STAGE2     JWST ... MJy/sr 282.51312727233596      nan\n",
      " REF NRC_CORON   STAGE2     JWST ... MJy/sr  282.5131275595942      nan\n",
      " REF NRC_CORON   STAGE2     JWST ... MJy/sr   282.513138623121      nan\n",
      " REF NRC_CORON   STAGE2     JWST ... MJy/sr 282.51313035059627      nan\n",
      " REF NRC_CORON   STAGE2     JWST ... MJy/sr  282.5131338259995      nan\n",
      " REF NRC_CORON   STAGE2     JWST ... MJy/sr  282.5131356262706      nan\n",
      " REF NRC_CORON   STAGE2     JWST ... MJy/sr  282.5131323843138      nan\n",
      " REF NRC_CORON   STAGE2     JWST ... MJy/sr 282.51313528159426      nan\n",
      " REF NRC_CORON   STAGE2     JWST ... MJy/sr 282.51313028916616      nan\n"
     ]
    }
   ],
   "source": [
    "fitsfiles = sorted([idir + f for f in os.listdir(idir)\n",
    "                if f.endswith('.fits')])\n",
    "\n",
    "\n",
    "# Initialize spaceKLIP database.\n",
    "database = spaceKLIP.database.Database(output_dir=odir)\n",
    "\n",
    "# Read FITS files.\n",
    "database.read_jwst_s012_data(datapaths=fitsfiles,\n",
    "                                bgpaths=None)"
   ]
  },
  {
   "cell_type": "code",
   "execution_count": 5,
   "id": "cc24f437",
   "metadata": {},
   "outputs": [
    {
     "name": "stdout",
     "output_type": "stream",
     "text": [
      "[spaceKLIP.imagetools:INFO] --> Concatenation JWST_NIRCAM_NRCALONG_F300M_MASKRND_MASK335R_SUB320A335R\n",
      "[spaceKLIP.imagetools:INFO]   --> Frame cropping: jw01386117001_03106_00001_nrcalong_calints_mstar_subtracted_disk_subtracted.fits\n",
      "[spaceKLIP.imagetools:INFO]   --> Frame cropping: old shape = (320, 320), new shape = (160, 160)\n",
      "[spaceKLIP.imagetools:INFO]   --> Frame cropping: jw01386118001_03106_00001_nrcalong_calints_mstar_subtracted_disk_subtracted.fits\n",
      "[spaceKLIP.imagetools:INFO]   --> Frame cropping: old shape = (320, 320), new shape = (160, 160)\n",
      "[spaceKLIP.imagetools:INFO]   --> Frame cropping: jw01386116001_03106_00001_nrcalong_calints.fits\n",
      "[spaceKLIP.imagetools:INFO]   --> Frame cropping: old shape = (320, 320), new shape = (160, 160)\n",
      "[spaceKLIP.imagetools:INFO]   --> Frame cropping: jw01386116001_03106_00002_nrcalong_calints.fits\n",
      "[spaceKLIP.imagetools:INFO]   --> Frame cropping: old shape = (320, 320), new shape = (160, 160)\n",
      "[spaceKLIP.imagetools:INFO]   --> Frame cropping: jw01386116001_03106_00003_nrcalong_calints.fits\n",
      "[spaceKLIP.imagetools:INFO]   --> Frame cropping: old shape = (320, 320), new shape = (160, 160)\n",
      "[spaceKLIP.imagetools:INFO]   --> Frame cropping: jw01386116001_03106_00004_nrcalong_calints.fits\n",
      "[spaceKLIP.imagetools:INFO]   --> Frame cropping: old shape = (320, 320), new shape = (160, 160)\n",
      "[spaceKLIP.imagetools:INFO]   --> Frame cropping: jw01386116001_03106_00005_nrcalong_calints.fits\n",
      "[spaceKLIP.imagetools:INFO]   --> Frame cropping: old shape = (320, 320), new shape = (160, 160)\n",
      "[spaceKLIP.imagetools:INFO]   --> Frame cropping: jw01386116001_03106_00006_nrcalong_calints.fits\n",
      "[spaceKLIP.imagetools:INFO]   --> Frame cropping: old shape = (320, 320), new shape = (160, 160)\n",
      "[spaceKLIP.imagetools:INFO]   --> Frame cropping: jw01386116001_03106_00007_nrcalong_calints.fits\n",
      "[spaceKLIP.imagetools:INFO]   --> Frame cropping: old shape = (320, 320), new shape = (160, 160)\n",
      "[spaceKLIP.imagetools:INFO]   --> Frame cropping: jw01386116001_03106_00008_nrcalong_calints.fits\n",
      "[spaceKLIP.imagetools:INFO]   --> Frame cropping: old shape = (320, 320), new shape = (160, 160)\n",
      "[spaceKLIP.imagetools:INFO]   --> Frame cropping: jw01386116001_03106_00009_nrcalong_calints.fits\n",
      "[spaceKLIP.imagetools:INFO]   --> Frame cropping: old shape = (320, 320), new shape = (160, 160)\n",
      "[spaceKLIP.imagetools:INFO] --> Concatenation JWST_NIRCAM_NRCALONG_F300M_MASKRND_MASK335R_SUB320A335R\n",
      "[spaceKLIP.imagetools:INFO]   --> Align frames: jw01386117001_03106_00001_nrcalong_calints_mstar_subtracted_disk_subtracted.fits\n",
      "[spaceKLIP.imagetools:INFO]   --> Align frames: median required shift = 0.26 mas\n",
      "[spaceKLIP.imagetools:INFO]   --> Align frames: jw01386118001_03106_00001_nrcalong_calints_mstar_subtracted_disk_subtracted.fits\n",
      "[spaceKLIP.imagetools:INFO]   --> Align frames: median required shift = 13.82 mas\n",
      "[spaceKLIP.imagetools:INFO]   --> Align frames: jw01386116001_03106_00001_nrcalong_calints.fits\n",
      "[spaceKLIP.imagetools:INFO]   --> Align frames: median required shift = 25.08 mas\n",
      "[spaceKLIP.imagetools:INFO]   --> Align frames: jw01386116001_03106_00002_nrcalong_calints.fits\n",
      "[spaceKLIP.imagetools:INFO]   --> Align frames: median required shift = 9.35 mas\n",
      "[spaceKLIP.imagetools:INFO]   --> Align frames: jw01386116001_03106_00003_nrcalong_calints.fits\n",
      "[spaceKLIP.imagetools:INFO]   --> Align frames: median required shift = 8.83 mas\n",
      "[spaceKLIP.imagetools:INFO]   --> Align frames: jw01386116001_03106_00004_nrcalong_calints.fits\n",
      "[spaceKLIP.imagetools:INFO]   --> Align frames: median required shift = 24.67 mas\n",
      "[spaceKLIP.imagetools:INFO]   --> Align frames: jw01386116001_03106_00005_nrcalong_calints.fits\n",
      "[spaceKLIP.imagetools:INFO]   --> Align frames: median required shift = 37.97 mas\n",
      "[spaceKLIP.imagetools:INFO]   --> Align frames: jw01386116001_03106_00006_nrcalong_calints.fits\n",
      "[spaceKLIP.imagetools:INFO]   --> Align frames: median required shift = 43.89 mas\n",
      "[spaceKLIP.imagetools:INFO]   --> Align frames: jw01386116001_03106_00007_nrcalong_calints.fits\n",
      "[spaceKLIP.imagetools:INFO]   --> Align frames: median required shift = 46.74 mas\n",
      "[spaceKLIP.imagetools:INFO]   --> Align frames: jw01386116001_03106_00008_nrcalong_calints.fits\n",
      "[spaceKLIP.imagetools:INFO]   --> Align frames: median required shift = 39.52 mas\n",
      "[spaceKLIP.imagetools:INFO]   --> Align frames: jw01386116001_03106_00009_nrcalong_calints.fits\n",
      "[spaceKLIP.imagetools:INFO]   --> Align frames: median required shift = 26.98 mas\n",
      "[spaceKLIP.imagetools:INFO]  Plot saved in /home/maxmb/Library/jwst_hd141569a_lib/data/F300M/jk/231108/for_planet_sensitivity/spaceklip/aligned/JWST_NIRCAM_NRCALONG_F300M_MASKRND_MASK335R_SUB320A335R_align_sci.pdf\n",
      "[spaceKLIP.imagetools:INFO]  Plot saved in /home/maxmb/Library/jwst_hd141569a_lib/data/F300M/jk/231108/for_planet_sensitivity/spaceklip/aligned/JWST_NIRCAM_NRCALONG_F300M_MASKRND_MASK335R_SUB320A335R_align_ref.pdf\n",
      "[spaceKLIP.imagetools:INFO] --> Concatenation JWST_NIRCAM_NRCALONG_F300M_MASKRND_MASK335R_SUB320A335R\n",
      "[spaceKLIP.imagetools:INFO]   --> Frame coadding: jw01386117001_03106_00001_nrcalong_calints_mstar_subtracted_disk_subtracted.fits\n",
      "[spaceKLIP.imagetools:INFO]   --> Frame coadding: 1 coadd(s) of 20 frame(s)\n",
      "[spaceKLIP.imagetools:INFO]   --> Frame coadding: jw01386118001_03106_00001_nrcalong_calints_mstar_subtracted_disk_subtracted.fits\n",
      "[spaceKLIP.imagetools:INFO]   --> Frame coadding: 1 coadd(s) of 20 frame(s)\n",
      "[spaceKLIP.imagetools:INFO]   --> Frame coadding: jw01386116001_03106_00001_nrcalong_calints.fits\n",
      "[spaceKLIP.imagetools:INFO]   --> Frame coadding: 1 coadd(s) of 40 frame(s)\n",
      "[spaceKLIP.imagetools:INFO]   --> Frame coadding: jw01386116001_03106_00002_nrcalong_calints.fits\n",
      "[spaceKLIP.imagetools:INFO]   --> Frame coadding: 1 coadd(s) of 40 frame(s)\n",
      "[spaceKLIP.imagetools:INFO]   --> Frame coadding: jw01386116001_03106_00003_nrcalong_calints.fits\n",
      "[spaceKLIP.imagetools:INFO]   --> Frame coadding: 1 coadd(s) of 40 frame(s)\n",
      "[spaceKLIP.imagetools:INFO]   --> Frame coadding: jw01386116001_03106_00004_nrcalong_calints.fits\n",
      "[spaceKLIP.imagetools:INFO]   --> Frame coadding: 1 coadd(s) of 40 frame(s)\n",
      "[spaceKLIP.imagetools:INFO]   --> Frame coadding: jw01386116001_03106_00005_nrcalong_calints.fits\n",
      "[spaceKLIP.imagetools:INFO]   --> Frame coadding: 1 coadd(s) of 40 frame(s)\n",
      "[spaceKLIP.imagetools:INFO]   --> Frame coadding: jw01386116001_03106_00006_nrcalong_calints.fits\n",
      "[spaceKLIP.imagetools:INFO]   --> Frame coadding: 1 coadd(s) of 40 frame(s)\n",
      "[spaceKLIP.imagetools:INFO]   --> Frame coadding: jw01386116001_03106_00007_nrcalong_calints.fits\n",
      "[spaceKLIP.imagetools:INFO]   --> Frame coadding: 1 coadd(s) of 40 frame(s)\n",
      "[spaceKLIP.imagetools:INFO]   --> Frame coadding: jw01386116001_03106_00008_nrcalong_calints.fits\n",
      "[spaceKLIP.imagetools:INFO]   --> Frame coadding: 1 coadd(s) of 40 frame(s)\n",
      "[spaceKLIP.imagetools:INFO]   --> Frame coadding: jw01386116001_03106_00009_nrcalong_calints.fits\n",
      "[spaceKLIP.imagetools:INFO]   --> Frame coadding: 1 coadd(s) of 40 frame(s)\n"
     ]
    }
   ],
   "source": [
    "ImageTools = spaceKLIP.imagetools.ImageTools(database=database)\n",
    "ImageTools.crop_frames(npix=80,\n",
    "                           types=['SCI', 'SCI_BG', 'REF', 'REF_BG'],\n",
    "                           subdir='cropped')\n",
    "\n",
    "ImageTools.align_frames(method='fourier',\n",
    "                        kwargs={},\n",
    "                        subdir='aligned')\n",
    "\n",
    "# Coadd frames.\n",
    "ImageTools.coadd_frames(nframes=None,\n",
    "                        types=['SCI', 'REF'],\n",
    "                        subdir='coadded')"
   ]
  },
  {
   "cell_type": "code",
   "execution_count": 6,
   "id": "e339da47",
   "metadata": {},
   "outputs": [
    {
     "ename": "SyntaxError",
     "evalue": "':' expected after dictionary key (36875380.py, line 6)",
     "output_type": "error",
     "traceback": [
      "\u001b[0;31m---------------------------------------------------------------------------\u001b[0m",
      "\u001b[0;31mSyntaxError\u001b[0m                               Traceback (most recent call last)",
      "File \u001b[0;32m~/anaconda3/envs/spaceklip/lib/python3.11/site-packages/IPython/core/compilerop.py:86\u001b[0m, in \u001b[0;36mCachingCompiler.ast_parse\u001b[0;34m(self, source, filename, symbol)\u001b[0m\n\u001b[1;32m     81\u001b[0m \u001b[38;5;28;01mdef\u001b[39;00m \u001b[38;5;21mast_parse\u001b[39m(\u001b[38;5;28mself\u001b[39m, source, filename\u001b[38;5;241m=\u001b[39m\u001b[38;5;124m'\u001b[39m\u001b[38;5;124m<unknown>\u001b[39m\u001b[38;5;124m'\u001b[39m, symbol\u001b[38;5;241m=\u001b[39m\u001b[38;5;124m'\u001b[39m\u001b[38;5;124mexec\u001b[39m\u001b[38;5;124m'\u001b[39m):\n\u001b[1;32m     82\u001b[0m \u001b[38;5;250m    \u001b[39m\u001b[38;5;124;03m\"\"\"Parse code to an AST with the current compiler flags active.\u001b[39;00m\n\u001b[1;32m     83\u001b[0m \n\u001b[1;32m     84\u001b[0m \u001b[38;5;124;03m    Arguments are exactly the same as ast.parse (in the standard library),\u001b[39;00m\n\u001b[1;32m     85\u001b[0m \u001b[38;5;124;03m    and are passed to the built-in compile function.\"\"\"\u001b[39;00m\n\u001b[0;32m---> 86\u001b[0m     \u001b[38;5;28;01mreturn\u001b[39;00m \u001b[38;5;28mcompile\u001b[39m(source, filename, symbol, \u001b[38;5;28mself\u001b[39m\u001b[38;5;241m.\u001b[39mflags \u001b[38;5;241m|\u001b[39m PyCF_ONLY_AST, \u001b[38;5;241m1\u001b[39m)\n",
      "\u001b[0;31mSyntaxError\u001b[0m: ':' expected after dictionary key (36875380.py, line 6)"
     ]
    }
   ],
   "source": [
    "kwargs = {'mode': ['RDI','ADI+RDI','ADI'],\n",
    "              'annuli': [1,5,20],\n",
    "              'subsections': [1,4,6],\n",
    "              'numbasis': [1, 5, 10, 20],\n",
    "              'highpass': 3,\n",
    "              'OWA': 80,1\n",
    "              'algo': 'klip',}\n",
    "klip_dir = 'klipsub_final_240221'\n",
    "spaceKLIP.pyklippipeline.run_obs(database=database,\n",
    "                        kwargs=kwargs,\n",
    "                        subdir=klip_dir,)"
   ]
  },
  {
   "cell_type": "markdown",
   "id": "406f3baf",
   "metadata": {},
   "source": [
    "## Contrast Calculations\n",
    "\n",
    "Here we use the analysistools module to measure contrast\n",
    "\n",
    "### Preparation: Stellar Photometry Model\n",
    "\n",
    "A model of the target star is needed to compute its flux in the observational filters, and thereby produce a reference point from which to determine our contrast performance. This requires an input that gives either **(a)** the host star photometry, formatted as a [Vizier](http://vizier.cds.unistra.fr) VOTable, or **(b)** a simple text file with two columns giving wavelenth in microns and flux in Jy.\n",
    "\n",
    "\n",
    "If you need to obtain you own version of option **(a)**, head to Vizier's [Photometry Viewer](http://vizier.cds.unistra.fr/vizier/sed/) and input your target of interest. However, exercise caution as this search can introduce spurious photometry measurements from nearby sources, which are realised as sharp variations in flux that do not agree with the expected profile of the targets spectral energy distribution. You may need to clean the obtained data by reducing the search radius, or manually removing individual points using the checkboxes in the table at the bottom. Once you are happy, click \\\"Download Data\\\" to obtain a VOTable that can be directly ingested into spaceKLIP. Option **(b)** could be instead be produced, for instance, from fitting a scaled version of a stellar atmosphere model to available photometry.\n",
    "\n",
    "We provide here examples of both kinds of file, provided by Aarynn Carter. _Only one is needed; we provide both purely as examples._"
   ]
  },
  {
   "cell_type": "code",
   "execution_count": null,
   "id": "96007197",
   "metadata": {},
   "outputs": [
    {
     "name": "stdout",
     "output_type": "stream",
     "text": [
      "[spaceKLIP.database:INFO] --> Identified 1 concatenation(s)\n",
      "[spaceKLIP.database:INFO]   --> Concatenation 1: JWST_NIRCAM_NRCALONG_F300M_MASKRND_MASK335R_SUB320A335R\n",
      " TYPE   EXP_TYPE DATAMODL TELESCOP ... SUBSECTS  KLMODES  BUNIT  BLURFWHM\n",
      "------ --------- -------- -------- ... -------- --------- ------ --------\n",
      "PYKLIP NRC_CORON   STAGE3     JWST ...        1 1,5,10,20 MJy/sr      nan\n",
      "PYKLIP NRC_CORON   STAGE3     JWST ...        4 1,5,10,20 MJy/sr      nan\n",
      "PYKLIP NRC_CORON   STAGE3     JWST ...        6 1,5,10,20 MJy/sr      nan\n",
      "PYKLIP NRC_CORON   STAGE3     JWST ...        1 1,5,10,20 MJy/sr      nan\n",
      "PYKLIP NRC_CORON   STAGE3     JWST ...        4 1,5,10,20 MJy/sr      nan\n",
      "PYKLIP NRC_CORON   STAGE3     JWST ...        6 1,5,10,20 MJy/sr      nan\n",
      "PYKLIP NRC_CORON   STAGE3     JWST ...        1 1,5,10,20 MJy/sr      nan\n",
      "PYKLIP NRC_CORON   STAGE3     JWST ...        4 1,5,10,20 MJy/sr      nan\n",
      "PYKLIP NRC_CORON   STAGE3     JWST ...        6 1,5,10,20 MJy/sr      nan\n",
      "PYKLIP NRC_CORON   STAGE3     JWST ...        1 1,5,10,20 MJy/sr      nan\n",
      "   ...       ...      ...      ... ...      ...       ...    ...      ...\n",
      "PYKLIP NRC_CORON   STAGE3     JWST ...        4 1,5,10,20 MJy/sr      nan\n",
      "PYKLIP NRC_CORON   STAGE3     JWST ...        6 1,5,10,20 MJy/sr      nan\n",
      "PYKLIP NRC_CORON   STAGE3     JWST ...        1 1,5,10,20 MJy/sr      nan\n",
      "PYKLIP NRC_CORON   STAGE3     JWST ...        4 1,5,10,20 MJy/sr      nan\n",
      "PYKLIP NRC_CORON   STAGE3     JWST ...        6 1,5,10,20 MJy/sr      nan\n",
      "PYKLIP NRC_CORON   STAGE3     JWST ...        1 1,5,10,20 MJy/sr      nan\n",
      "PYKLIP NRC_CORON   STAGE3     JWST ...        4 1,5,10,20 MJy/sr      nan\n",
      "PYKLIP NRC_CORON   STAGE3     JWST ...        6 1,5,10,20 MJy/sr      nan\n",
      "PYKLIP NRC_CORON   STAGE3     JWST ...        1 1,5,10,20 MJy/sr      nan\n",
      "PYKLIP NRC_CORON   STAGE3     JWST ...        4 1,5,10,20 MJy/sr      nan\n",
      "PYKLIP NRC_CORON   STAGE3     JWST ...        6 1,5,10,20 MJy/sr      nan\n",
      "Length = 27 rows\n"
     ]
    }
   ],
   "source": [
    "fitsfiles = sorted(glob.glob(os.path.join(odir, klip_dir,\"*KLmodes-all.fits\")))\n",
    "\n",
    "Database = spaceKLIP.database.Database(output_dir=odir)\n",
    "Database.read_jwst_s3_data(fitsfiles)"
   ]
  },
  {
   "cell_type": "code",
   "execution_count": null,
   "id": "cee7e84d",
   "metadata": {},
   "outputs": [],
   "source": [
    "star_photometry_vot = 'hd_141569.vot'"
   ]
  },
  {
   "cell_type": "code",
   "execution_count": null,
   "id": "492dc30b",
   "metadata": {},
   "outputs": [],
   "source": [
    "import astropy\n",
    "\n",
    "# Read in VOT version\n",
    "vot_version = astropy.table.Table.read(star_photometry_vot)\n",
    "\n",
    "# convert from freq to wl, just for plotting below.\n",
    "vot_version['wavelength'] = (astropy.constants.c /  vot_version['sed_freq']).to(astropy.units.micron)"
   ]
  },
  {
   "cell_type": "code",
   "execution_count": null,
   "id": "210a4ac1",
   "metadata": {},
   "outputs": [
    {
     "data": {
      "image/png": "[encoded data removed]",
      "text/plain": [
       "<Figure size 640x480 with 1 Axes>"
      ]
     },
     "metadata": {},
     "output_type": "display_data"
    }
   ],
   "source": [
    "# plot, to show the two models are consistent\n",
    "\n",
    "# plt.semilogx(txt_version['wavelength'], txt_version['flux'], label='HIP65426A_sdf_phoenix_m+modbb_disk_r.txt',)\n",
    "plt.scatter(vot_version['wavelength'], vot_version['sed_flux'], label='HIP65426.vot', color='C1')\n",
    "\n",
    "plt.xlabel(\"Wavelength [micron]\")\n",
    "plt.ylabel(\"Flux [Jansky]\")\n",
    "plt.legend(fontsize=9)\n",
    "plt.show()\n"
   ]
  },
  {
   "cell_type": "markdown",
   "id": "bfbb8181",
   "metadata": {},
   "source": [
    "## Set up Analysis Tools\n",
    "\n",
    "We initialize the AnalysisTools class and provide it the database of files to be analyzed. "
   ]
  },
  {
   "cell_type": "code",
   "execution_count": null,
   "id": "d57f3a48",
   "metadata": {},
   "outputs": [],
   "source": [
    "# Initialize the spaceKLIP contrast estimation class.\n",
    "analysistools = spaceKLIP.analysistools.AnalysisTools(Database)\n"
   ]
  },
  {
   "cell_type": "markdown",
   "id": "b7213d6f",
   "metadata": {},
   "source": [
    "## Compute Raw Contrasts\n",
    "\n",
    "This iterates over all filters and datasets."
   ]
  },
  {
   "cell_type": "code",
   "execution_count": null,
   "id": "56c46ea7",
   "metadata": {
    "scrolled": false
   },
   "outputs": [
    {
     "name": "stdout",
     "output_type": "stream",
     "text": [
      "[spaceKLIP.analysistools:INFO] Copying starfile hd_141569.vot to /home/maxmb/Library/jwst_hd141569a_lib/data/F300M/jk/231108/for_planet_sensitivity/spaceklip/contrast_curves/rawcon/hd_141569.vot\n",
      "[spaceKLIP.analysistools:INFO] --> Concatenation JWST_NIRCAM_NRCALONG_F300M_MASKRND_MASK335R_SUB320A335R\n",
      "[spaceKLIP.analysistools:INFO] Analyzing file /home/maxmb/Library/jwst_hd141569a_lib/data/F300M/jk/231108/for_planet_sensitivity/spaceklip/klipsub_final_240221/ADI+RDI_NANNU1_NSUBS1_JWST_NIRCAM_NRCALONG_F300M_MASKRND_MASK335R_SUB320A335R-KLmodes-all.fits\n"
     ]
    },
    {
     "name": "stdout",
     "output_type": "stream",
     "text": [
      "[spaceKLIP.psf:INFO]   --> Generating WebbPSF model\n",
      "[spaceKLIP.analysistools:INFO]   Measuring raw contrast in annuli\n",
      "[spaceKLIP.analysistools:INFO]   Measuring raw contrast for masked data\n",
      "Contrast results and plots saved to /home/maxmb/Library/jwst_hd141569a_lib/data/F300M/jk/231108/for_planet_sensitivity/spaceklip/contrast_curves/rawcon/ADI+RDI_NANNU1_NSUBS1_JWST_NIRCAM_NRCALONG_F300M_MASKRND_MASK335R_SUB320A335R-KLmodes-all_seps.npy, /home/maxmb/Library/jwst_hd141569a_lib/data/F300M/jk/231108/for_planet_sensitivity/spaceklip/contrast_curves/rawcon/ADI+RDI_NANNU1_NSUBS1_JWST_NIRCAM_NRCALONG_F300M_MASKRND_MASK335R_SUB320A335R-KLmodes-all_cons.npy\n",
      "[spaceKLIP.analysistools:INFO] Analyzing file /home/maxmb/Library/jwst_hd141569a_lib/data/F300M/jk/231108/for_planet_sensitivity/spaceklip/klipsub_final_240221/ADI+RDI_NANNU1_NSUBS4_JWST_NIRCAM_NRCALONG_F300M_MASKRND_MASK335R_SUB320A335R-KLmodes-all.fits\n",
      "[spaceKLIP.psf:INFO]   --> Generating WebbPSF model\n",
      "[spaceKLIP.analysistools:INFO]   Measuring raw contrast in annuli\n",
      "[spaceKLIP.analysistools:INFO]   Measuring raw contrast for masked data\n",
      "Contrast results and plots saved to /home/maxmb/Library/jwst_hd141569a_lib/data/F300M/jk/231108/for_planet_sensitivity/spaceklip/contrast_curves/rawcon/ADI+RDI_NANNU1_NSUBS4_JWST_NIRCAM_NRCALONG_F300M_MASKRND_MASK335R_SUB320A335R-KLmodes-all_seps.npy, /home/maxmb/Library/jwst_hd141569a_lib/data/F300M/jk/231108/for_planet_sensitivity/spaceklip/contrast_curves/rawcon/ADI+RDI_NANNU1_NSUBS4_JWST_NIRCAM_NRCALONG_F300M_MASKRND_MASK335R_SUB320A335R-KLmodes-all_cons.npy\n",
      "[spaceKLIP.analysistools:INFO] Analyzing file /home/maxmb/Library/jwst_hd141569a_lib/data/F300M/jk/231108/for_planet_sensitivity/spaceklip/klipsub_final_240221/ADI+RDI_NANNU1_NSUBS6_JWST_NIRCAM_NRCALONG_F300M_MASKRND_MASK335R_SUB320A335R-KLmodes-all.fits\n",
      "[spaceKLIP.psf:INFO]   --> Generating WebbPSF model\n",
      "[spaceKLIP.analysistools:INFO]   Measuring raw contrast in annuli\n",
      "[spaceKLIP.analysistools:INFO]   Measuring raw contrast for masked data\n",
      "Contrast results and plots saved to /home/maxmb/Library/jwst_hd141569a_lib/data/F300M/jk/231108/for_planet_sensitivity/spaceklip/contrast_curves/rawcon/ADI+RDI_NANNU1_NSUBS6_JWST_NIRCAM_NRCALONG_F300M_MASKRND_MASK335R_SUB320A335R-KLmodes-all_seps.npy, /home/maxmb/Library/jwst_hd141569a_lib/data/F300M/jk/231108/for_planet_sensitivity/spaceklip/contrast_curves/rawcon/ADI+RDI_NANNU1_NSUBS6_JWST_NIRCAM_NRCALONG_F300M_MASKRND_MASK335R_SUB320A335R-KLmodes-all_cons.npy\n",
      "[spaceKLIP.analysistools:INFO] Analyzing file /home/maxmb/Library/jwst_hd141569a_lib/data/F300M/jk/231108/for_planet_sensitivity/spaceklip/klipsub_final_240221/ADI+RDI_NANNU20_NSUBS1_JWST_NIRCAM_NRCALONG_F300M_MASKRND_MASK335R_SUB320A335R-KLmodes-all.fits\n",
      "[spaceKLIP.psf:INFO]   --> Generating WebbPSF model\n",
      "[spaceKLIP.analysistools:INFO]   Measuring raw contrast in annuli\n",
      "[spaceKLIP.analysistools:INFO]   Measuring raw contrast for masked data\n",
      "Contrast results and plots saved to /home/maxmb/Library/jwst_hd141569a_lib/data/F300M/jk/231108/for_planet_sensitivity/spaceklip/contrast_curves/rawcon/ADI+RDI_NANNU20_NSUBS1_JWST_NIRCAM_NRCALONG_F300M_MASKRND_MASK335R_SUB320A335R-KLmodes-all_seps.npy, /home/maxmb/Library/jwst_hd141569a_lib/data/F300M/jk/231108/for_planet_sensitivity/spaceklip/contrast_curves/rawcon/ADI+RDI_NANNU20_NSUBS1_JWST_NIRCAM_NRCALONG_F300M_MASKRND_MASK335R_SUB320A335R-KLmodes-all_cons.npy\n",
      "[spaceKLIP.analysistools:INFO] Analyzing file /home/maxmb/Library/jwst_hd141569a_lib/data/F300M/jk/231108/for_planet_sensitivity/spaceklip/klipsub_final_240221/ADI+RDI_NANNU20_NSUBS4_JWST_NIRCAM_NRCALONG_F300M_MASKRND_MASK335R_SUB320A335R-KLmodes-all.fits\n",
      "[spaceKLIP.psf:INFO]   --> Generating WebbPSF model\n",
      "[spaceKLIP.analysistools:INFO]   Measuring raw contrast in annuli\n",
      "[spaceKLIP.analysistools:INFO]   Measuring raw contrast for masked data\n",
      "Contrast results and plots saved to /home/maxmb/Library/jwst_hd141569a_lib/data/F300M/jk/231108/for_planet_sensitivity/spaceklip/contrast_curves/rawcon/ADI+RDI_NANNU20_NSUBS4_JWST_NIRCAM_NRCALONG_F300M_MASKRND_MASK335R_SUB320A335R-KLmodes-all_seps.npy, /home/maxmb/Library/jwst_hd141569a_lib/data/F300M/jk/231108/for_planet_sensitivity/spaceklip/contrast_curves/rawcon/ADI+RDI_NANNU20_NSUBS4_JWST_NIRCAM_NRCALONG_F300M_MASKRND_MASK335R_SUB320A335R-KLmodes-all_cons.npy\n",
      "[spaceKLIP.analysistools:INFO] Analyzing file /home/maxmb/Library/jwst_hd141569a_lib/data/F300M/jk/231108/for_planet_sensitivity/spaceklip/klipsub_final_240221/ADI+RDI_NANNU20_NSUBS6_JWST_NIRCAM_NRCALONG_F300M_MASKRND_MASK335R_SUB320A335R-KLmodes-all.fits\n",
      "[spaceKLIP.psf:INFO]   --> Generating WebbPSF model\n",
      "[spaceKLIP.analysistools:INFO]   Measuring raw contrast in annuli\n",
      "[spaceKLIP.analysistools:INFO]   Measuring raw contrast for masked data\n",
      "Contrast results and plots saved to /home/maxmb/Library/jwst_hd141569a_lib/data/F300M/jk/231108/for_planet_sensitivity/spaceklip/contrast_curves/rawcon/ADI+RDI_NANNU20_NSUBS6_JWST_NIRCAM_NRCALONG_F300M_MASKRND_MASK335R_SUB320A335R-KLmodes-all_seps.npy, /home/maxmb/Library/jwst_hd141569a_lib/data/F300M/jk/231108/for_planet_sensitivity/spaceklip/contrast_curves/rawcon/ADI+RDI_NANNU20_NSUBS6_JWST_NIRCAM_NRCALONG_F300M_MASKRND_MASK335R_SUB320A335R-KLmodes-all_cons.npy\n",
      "[spaceKLIP.analysistools:INFO] Analyzing file /home/maxmb/Library/jwst_hd141569a_lib/data/F300M/jk/231108/for_planet_sensitivity/spaceklip/klipsub_final_240221/ADI+RDI_NANNU5_NSUBS1_JWST_NIRCAM_NRCALONG_F300M_MASKRND_MASK335R_SUB320A335R-KLmodes-all.fits\n",
      "[spaceKLIP.psf:INFO]   --> Generating WebbPSF model\n",
      "[spaceKLIP.analysistools:INFO]   Measuring raw contrast in annuli\n",
      "[spaceKLIP.analysistools:INFO]   Measuring raw contrast for masked data\n",
      "Contrast results and plots saved to /home/maxmb/Library/jwst_hd141569a_lib/data/F300M/jk/231108/for_planet_sensitivity/spaceklip/contrast_curves/rawcon/ADI+RDI_NANNU5_NSUBS1_JWST_NIRCAM_NRCALONG_F300M_MASKRND_MASK335R_SUB320A335R-KLmodes-all_seps.npy, /home/maxmb/Library/jwst_hd141569a_lib/data/F300M/jk/231108/for_planet_sensitivity/spaceklip/contrast_curves/rawcon/ADI+RDI_NANNU5_NSUBS1_JWST_NIRCAM_NRCALONG_F300M_MASKRND_MASK335R_SUB320A335R-KLmodes-all_cons.npy\n",
      "[spaceKLIP.analysistools:INFO] Analyzing file /home/maxmb/Library/jwst_hd141569a_lib/data/F300M/jk/231108/for_planet_sensitivity/spaceklip/klipsub_final_240221/ADI+RDI_NANNU5_NSUBS4_JWST_NIRCAM_NRCALONG_F300M_MASKRND_MASK335R_SUB320A335R-KLmodes-all.fits\n",
      "[spaceKLIP.psf:INFO]   --> Generating WebbPSF model\n",
      "[spaceKLIP.analysistools:INFO]   Measuring raw contrast in annuli\n",
      "[spaceKLIP.analysistools:INFO]   Measuring raw contrast for masked data\n",
      "Contrast results and plots saved to /home/maxmb/Library/jwst_hd141569a_lib/data/F300M/jk/231108/for_planet_sensitivity/spaceklip/contrast_curves/rawcon/ADI+RDI_NANNU5_NSUBS4_JWST_NIRCAM_NRCALONG_F300M_MASKRND_MASK335R_SUB320A335R-KLmodes-all_seps.npy, /home/maxmb/Library/jwst_hd141569a_lib/data/F300M/jk/231108/for_planet_sensitivity/spaceklip/contrast_curves/rawcon/ADI+RDI_NANNU5_NSUBS4_JWST_NIRCAM_NRCALONG_F300M_MASKRND_MASK335R_SUB320A335R-KLmodes-all_cons.npy\n",
      "[spaceKLIP.analysistools:INFO] Analyzing file /home/maxmb/Library/jwst_hd141569a_lib/data/F300M/jk/231108/for_planet_sensitivity/spaceklip/klipsub_final_240221/ADI+RDI_NANNU5_NSUBS6_JWST_NIRCAM_NRCALONG_F300M_MASKRND_MASK335R_SUB320A335R-KLmodes-all.fits\n",
      "[spaceKLIP.psf:INFO]   --> Generating WebbPSF model\n",
      "[spaceKLIP.analysistools:INFO]   Measuring raw contrast in annuli\n",
      "[spaceKLIP.analysistools:INFO]   Measuring raw contrast for masked data\n",
      "Contrast results and plots saved to /home/maxmb/Library/jwst_hd141569a_lib/data/F300M/jk/231108/for_planet_sensitivity/spaceklip/contrast_curves/rawcon/ADI+RDI_NANNU5_NSUBS6_JWST_NIRCAM_NRCALONG_F300M_MASKRND_MASK335R_SUB320A335R-KLmodes-all_seps.npy, /home/maxmb/Library/jwst_hd141569a_lib/data/F300M/jk/231108/for_planet_sensitivity/spaceklip/contrast_curves/rawcon/ADI+RDI_NANNU5_NSUBS6_JWST_NIRCAM_NRCALONG_F300M_MASKRND_MASK335R_SUB320A335R-KLmodes-all_cons.npy\n",
      "[spaceKLIP.analysistools:INFO] Analyzing file /home/maxmb/Library/jwst_hd141569a_lib/data/F300M/jk/231108/for_planet_sensitivity/spaceklip/klipsub_final_240221/ADI_NANNU1_NSUBS1_JWST_NIRCAM_NRCALONG_F300M_MASKRND_MASK335R_SUB320A335R-KLmodes-all.fits\n",
      "[spaceKLIP.psf:INFO]   --> Generating WebbPSF model\n",
      "[spaceKLIP.analysistools:INFO]   Measuring raw contrast in annuli\n",
      "[spaceKLIP.analysistools:INFO]   Measuring raw contrast for masked data\n",
      "Contrast results and plots saved to /home/maxmb/Library/jwst_hd141569a_lib/data/F300M/jk/231108/for_planet_sensitivity/spaceklip/contrast_curves/rawcon/ADI_NANNU1_NSUBS1_JWST_NIRCAM_NRCALONG_F300M_MASKRND_MASK335R_SUB320A335R-KLmodes-all_seps.npy, /home/maxmb/Library/jwst_hd141569a_lib/data/F300M/jk/231108/for_planet_sensitivity/spaceklip/contrast_curves/rawcon/ADI_NANNU1_NSUBS1_JWST_NIRCAM_NRCALONG_F300M_MASKRND_MASK335R_SUB320A335R-KLmodes-all_cons.npy\n",
      "[spaceKLIP.analysistools:INFO] Analyzing file /home/maxmb/Library/jwst_hd141569a_lib/data/F300M/jk/231108/for_planet_sensitivity/spaceklip/klipsub_final_240221/ADI_NANNU1_NSUBS4_JWST_NIRCAM_NRCALONG_F300M_MASKRND_MASK335R_SUB320A335R-KLmodes-all.fits\n",
      "[spaceKLIP.psf:INFO]   --> Generating WebbPSF model\n",
      "[spaceKLIP.analysistools:INFO]   Measuring raw contrast in annuli\n",
      "[spaceKLIP.analysistools:INFO]   Measuring raw contrast for masked data\n",
      "Contrast results and plots saved to /home/maxmb/Library/jwst_hd141569a_lib/data/F300M/jk/231108/for_planet_sensitivity/spaceklip/contrast_curves/rawcon/ADI_NANNU1_NSUBS4_JWST_NIRCAM_NRCALONG_F300M_MASKRND_MASK335R_SUB320A335R-KLmodes-all_seps.npy, /home/maxmb/Library/jwst_hd141569a_lib/data/F300M/jk/231108/for_planet_sensitivity/spaceklip/contrast_curves/rawcon/ADI_NANNU1_NSUBS4_JWST_NIRCAM_NRCALONG_F300M_MASKRND_MASK335R_SUB320A335R-KLmodes-all_cons.npy\n",
      "[spaceKLIP.analysistools:INFO] Analyzing file /home/maxmb/Library/jwst_hd141569a_lib/data/F300M/jk/231108/for_planet_sensitivity/spaceklip/klipsub_final_240221/ADI_NANNU1_NSUBS6_JWST_NIRCAM_NRCALONG_F300M_MASKRND_MASK335R_SUB320A335R-KLmodes-all.fits\n",
      "[spaceKLIP.psf:INFO]   --> Generating WebbPSF model\n",
      "[spaceKLIP.analysistools:INFO]   Measuring raw contrast in annuli\n",
      "[spaceKLIP.analysistools:INFO]   Measuring raw contrast for masked data\n",
      "Contrast results and plots saved to /home/maxmb/Library/jwst_hd141569a_lib/data/F300M/jk/231108/for_planet_sensitivity/spaceklip/contrast_curves/rawcon/ADI_NANNU1_NSUBS6_JWST_NIRCAM_NRCALONG_F300M_MASKRND_MASK335R_SUB320A335R-KLmodes-all_seps.npy, /home/maxmb/Library/jwst_hd141569a_lib/data/F300M/jk/231108/for_planet_sensitivity/spaceklip/contrast_curves/rawcon/ADI_NANNU1_NSUBS6_JWST_NIRCAM_NRCALONG_F300M_MASKRND_MASK335R_SUB320A335R-KLmodes-all_cons.npy\n",
      "[spaceKLIP.analysistools:INFO] Analyzing file /home/maxmb/Library/jwst_hd141569a_lib/data/F300M/jk/231108/for_planet_sensitivity/spaceklip/klipsub_final_240221/ADI_NANNU20_NSUBS1_JWST_NIRCAM_NRCALONG_F300M_MASKRND_MASK335R_SUB320A335R-KLmodes-all.fits\n",
      "[spaceKLIP.psf:INFO]   --> Generating WebbPSF model\n",
      "[spaceKLIP.analysistools:INFO]   Measuring raw contrast in annuli\n",
      "[spaceKLIP.analysistools:INFO]   Measuring raw contrast for masked data\n",
      "Contrast results and plots saved to /home/maxmb/Library/jwst_hd141569a_lib/data/F300M/jk/231108/for_planet_sensitivity/spaceklip/contrast_curves/rawcon/ADI_NANNU20_NSUBS1_JWST_NIRCAM_NRCALONG_F300M_MASKRND_MASK335R_SUB320A335R-KLmodes-all_seps.npy, /home/maxmb/Library/jwst_hd141569a_lib/data/F300M/jk/231108/for_planet_sensitivity/spaceklip/contrast_curves/rawcon/ADI_NANNU20_NSUBS1_JWST_NIRCAM_NRCALONG_F300M_MASKRND_MASK335R_SUB320A335R-KLmodes-all_cons.npy\n",
      "[spaceKLIP.analysistools:INFO] Analyzing file /home/maxmb/Library/jwst_hd141569a_lib/data/F300M/jk/231108/for_planet_sensitivity/spaceklip/klipsub_final_240221/ADI_NANNU20_NSUBS4_JWST_NIRCAM_NRCALONG_F300M_MASKRND_MASK335R_SUB320A335R-KLmodes-all.fits\n",
      "[spaceKLIP.psf:INFO]   --> Generating WebbPSF model\n",
      "[spaceKLIP.analysistools:INFO]   Measuring raw contrast in annuli\n",
      "[spaceKLIP.analysistools:INFO]   Measuring raw contrast for masked data\n",
      "Contrast results and plots saved to /home/maxmb/Library/jwst_hd141569a_lib/data/F300M/jk/231108/for_planet_sensitivity/spaceklip/contrast_curves/rawcon/ADI_NANNU20_NSUBS4_JWST_NIRCAM_NRCALONG_F300M_MASKRND_MASK335R_SUB320A335R-KLmodes-all_seps.npy, /home/maxmb/Library/jwst_hd141569a_lib/data/F300M/jk/231108/for_planet_sensitivity/spaceklip/contrast_curves/rawcon/ADI_NANNU20_NSUBS4_JWST_NIRCAM_NRCALONG_F300M_MASKRND_MASK335R_SUB320A335R-KLmodes-all_cons.npy\n",
      "[spaceKLIP.analysistools:INFO] Analyzing file /home/maxmb/Library/jwst_hd141569a_lib/data/F300M/jk/231108/for_planet_sensitivity/spaceklip/klipsub_final_240221/ADI_NANNU20_NSUBS6_JWST_NIRCAM_NRCALONG_F300M_MASKRND_MASK335R_SUB320A335R-KLmodes-all.fits\n",
      "[spaceKLIP.psf:INFO]   --> Generating WebbPSF model\n",
      "[spaceKLIP.analysistools:INFO]   Measuring raw contrast in annuli\n",
      "[spaceKLIP.analysistools:INFO]   Measuring raw contrast for masked data\n",
      "Contrast results and plots saved to /home/maxmb/Library/jwst_hd141569a_lib/data/F300M/jk/231108/for_planet_sensitivity/spaceklip/contrast_curves/rawcon/ADI_NANNU20_NSUBS6_JWST_NIRCAM_NRCALONG_F300M_MASKRND_MASK335R_SUB320A335R-KLmodes-all_seps.npy, /home/maxmb/Library/jwst_hd141569a_lib/data/F300M/jk/231108/for_planet_sensitivity/spaceklip/contrast_curves/rawcon/ADI_NANNU20_NSUBS6_JWST_NIRCAM_NRCALONG_F300M_MASKRND_MASK335R_SUB320A335R-KLmodes-all_cons.npy\n",
      "[spaceKLIP.analysistools:INFO] Analyzing file /home/maxmb/Library/jwst_hd141569a_lib/data/F300M/jk/231108/for_planet_sensitivity/spaceklip/klipsub_final_240221/ADI_NANNU5_NSUBS1_JWST_NIRCAM_NRCALONG_F300M_MASKRND_MASK335R_SUB320A335R-KLmodes-all.fits\n",
      "[spaceKLIP.psf:INFO]   --> Generating WebbPSF model\n",
      "[spaceKLIP.analysistools:INFO]   Measuring raw contrast in annuli\n",
      "[spaceKLIP.analysistools:INFO]   Measuring raw contrast for masked data\n",
      "Contrast results and plots saved to /home/maxmb/Library/jwst_hd141569a_lib/data/F300M/jk/231108/for_planet_sensitivity/spaceklip/contrast_curves/rawcon/ADI_NANNU5_NSUBS1_JWST_NIRCAM_NRCALONG_F300M_MASKRND_MASK335R_SUB320A335R-KLmodes-all_seps.npy, /home/maxmb/Library/jwst_hd141569a_lib/data/F300M/jk/231108/for_planet_sensitivity/spaceklip/contrast_curves/rawcon/ADI_NANNU5_NSUBS1_JWST_NIRCAM_NRCALONG_F300M_MASKRND_MASK335R_SUB320A335R-KLmodes-all_cons.npy\n",
      "[spaceKLIP.analysistools:INFO] Analyzing file /home/maxmb/Library/jwst_hd141569a_lib/data/F300M/jk/231108/for_planet_sensitivity/spaceklip/klipsub_final_240221/ADI_NANNU5_NSUBS4_JWST_NIRCAM_NRCALONG_F300M_MASKRND_MASK335R_SUB320A335R-KLmodes-all.fits\n",
      "[spaceKLIP.psf:INFO]   --> Generating WebbPSF model\n",
      "[spaceKLIP.analysistools:INFO]   Measuring raw contrast in annuli\n",
      "[spaceKLIP.analysistools:INFO]   Measuring raw contrast for masked data\n",
      "Contrast results and plots saved to /home/maxmb/Library/jwst_hd141569a_lib/data/F300M/jk/231108/for_planet_sensitivity/spaceklip/contrast_curves/rawcon/ADI_NANNU5_NSUBS4_JWST_NIRCAM_NRCALONG_F300M_MASKRND_MASK335R_SUB320A335R-KLmodes-all_seps.npy, /home/maxmb/Library/jwst_hd141569a_lib/data/F300M/jk/231108/for_planet_sensitivity/spaceklip/contrast_curves/rawcon/ADI_NANNU5_NSUBS4_JWST_NIRCAM_NRCALONG_F300M_MASKRND_MASK335R_SUB320A335R-KLmodes-all_cons.npy\n",
      "[spaceKLIP.analysistools:INFO] Analyzing file /home/maxmb/Library/jwst_hd141569a_lib/data/F300M/jk/231108/for_planet_sensitivity/spaceklip/klipsub_final_240221/ADI_NANNU5_NSUBS6_JWST_NIRCAM_NRCALONG_F300M_MASKRND_MASK335R_SUB320A335R-KLmodes-all.fits\n",
      "[spaceKLIP.psf:INFO]   --> Generating WebbPSF model\n",
      "[spaceKLIP.analysistools:INFO]   Measuring raw contrast in annuli\n",
      "[spaceKLIP.analysistools:INFO]   Measuring raw contrast for masked data\n",
      "Contrast results and plots saved to /home/maxmb/Library/jwst_hd141569a_lib/data/F300M/jk/231108/for_planet_sensitivity/spaceklip/contrast_curves/rawcon/ADI_NANNU5_NSUBS6_JWST_NIRCAM_NRCALONG_F300M_MASKRND_MASK335R_SUB320A335R-KLmodes-all_seps.npy, /home/maxmb/Library/jwst_hd141569a_lib/data/F300M/jk/231108/for_planet_sensitivity/spaceklip/contrast_curves/rawcon/ADI_NANNU5_NSUBS6_JWST_NIRCAM_NRCALONG_F300M_MASKRND_MASK335R_SUB320A335R-KLmodes-all_cons.npy\n",
      "[spaceKLIP.analysistools:INFO] Analyzing file /home/maxmb/Library/jwst_hd141569a_lib/data/F300M/jk/231108/for_planet_sensitivity/spaceklip/klipsub_final_240221/RDI_NANNU1_NSUBS1_JWST_NIRCAM_NRCALONG_F300M_MASKRND_MASK335R_SUB320A335R-KLmodes-all.fits\n",
      "[spaceKLIP.psf:INFO]   --> Generating WebbPSF model\n",
      "[spaceKLIP.analysistools:INFO]   Measuring raw contrast in annuli\n",
      "[spaceKLIP.analysistools:INFO]   Measuring raw contrast for masked data\n",
      "Contrast results and plots saved to /home/maxmb/Library/jwst_hd141569a_lib/data/F300M/jk/231108/for_planet_sensitivity/spaceklip/contrast_curves/rawcon/RDI_NANNU1_NSUBS1_JWST_NIRCAM_NRCALONG_F300M_MASKRND_MASK335R_SUB320A335R-KLmodes-all_seps.npy, /home/maxmb/Library/jwst_hd141569a_lib/data/F300M/jk/231108/for_planet_sensitivity/spaceklip/contrast_curves/rawcon/RDI_NANNU1_NSUBS1_JWST_NIRCAM_NRCALONG_F300M_MASKRND_MASK335R_SUB320A335R-KLmodes-all_cons.npy\n",
      "[spaceKLIP.analysistools:INFO] Analyzing file /home/maxmb/Library/jwst_hd141569a_lib/data/F300M/jk/231108/for_planet_sensitivity/spaceklip/klipsub_final_240221/RDI_NANNU1_NSUBS4_JWST_NIRCAM_NRCALONG_F300M_MASKRND_MASK335R_SUB320A335R-KLmodes-all.fits\n",
      "[spaceKLIP.psf:INFO]   --> Generating WebbPSF model\n",
      "[spaceKLIP.analysistools:INFO]   Measuring raw contrast in annuli\n",
      "[spaceKLIP.analysistools:INFO]   Measuring raw contrast for masked data\n",
      "Contrast results and plots saved to /home/maxmb/Library/jwst_hd141569a_lib/data/F300M/jk/231108/for_planet_sensitivity/spaceklip/contrast_curves/rawcon/RDI_NANNU1_NSUBS4_JWST_NIRCAM_NRCALONG_F300M_MASKRND_MASK335R_SUB320A335R-KLmodes-all_seps.npy, /home/maxmb/Library/jwst_hd141569a_lib/data/F300M/jk/231108/for_planet_sensitivity/spaceklip/contrast_curves/rawcon/RDI_NANNU1_NSUBS4_JWST_NIRCAM_NRCALONG_F300M_MASKRND_MASK335R_SUB320A335R-KLmodes-all_cons.npy\n",
      "[spaceKLIP.analysistools:INFO] Analyzing file /home/maxmb/Library/jwst_hd141569a_lib/data/F300M/jk/231108/for_planet_sensitivity/spaceklip/klipsub_final_240221/RDI_NANNU1_NSUBS6_JWST_NIRCAM_NRCALONG_F300M_MASKRND_MASK335R_SUB320A335R-KLmodes-all.fits\n",
      "[spaceKLIP.psf:INFO]   --> Generating WebbPSF model\n",
      "[spaceKLIP.analysistools:INFO]   Measuring raw contrast in annuli\n",
      "[spaceKLIP.analysistools:INFO]   Measuring raw contrast for masked data\n",
      "Contrast results and plots saved to /home/maxmb/Library/jwst_hd141569a_lib/data/F300M/jk/231108/for_planet_sensitivity/spaceklip/contrast_curves/rawcon/RDI_NANNU1_NSUBS6_JWST_NIRCAM_NRCALONG_F300M_MASKRND_MASK335R_SUB320A335R-KLmodes-all_seps.npy, /home/maxmb/Library/jwst_hd141569a_lib/data/F300M/jk/231108/for_planet_sensitivity/spaceklip/contrast_curves/rawcon/RDI_NANNU1_NSUBS6_JWST_NIRCAM_NRCALONG_F300M_MASKRND_MASK335R_SUB320A335R-KLmodes-all_cons.npy\n",
      "[spaceKLIP.analysistools:INFO] Analyzing file /home/maxmb/Library/jwst_hd141569a_lib/data/F300M/jk/231108/for_planet_sensitivity/spaceklip/klipsub_final_240221/RDI_NANNU20_NSUBS1_JWST_NIRCAM_NRCALONG_F300M_MASKRND_MASK335R_SUB320A335R-KLmodes-all.fits\n",
      "[spaceKLIP.psf:INFO]   --> Generating WebbPSF model\n",
      "[spaceKLIP.analysistools:INFO]   Measuring raw contrast in annuli\n",
      "[spaceKLIP.analysistools:INFO]   Measuring raw contrast for masked data\n",
      "Contrast results and plots saved to /home/maxmb/Library/jwst_hd141569a_lib/data/F300M/jk/231108/for_planet_sensitivity/spaceklip/contrast_curves/rawcon/RDI_NANNU20_NSUBS1_JWST_NIRCAM_NRCALONG_F300M_MASKRND_MASK335R_SUB320A335R-KLmodes-all_seps.npy, /home/maxmb/Library/jwst_hd141569a_lib/data/F300M/jk/231108/for_planet_sensitivity/spaceklip/contrast_curves/rawcon/RDI_NANNU20_NSUBS1_JWST_NIRCAM_NRCALONG_F300M_MASKRND_MASK335R_SUB320A335R-KLmodes-all_cons.npy\n",
      "[spaceKLIP.analysistools:INFO] Analyzing file /home/maxmb/Library/jwst_hd141569a_lib/data/F300M/jk/231108/for_planet_sensitivity/spaceklip/klipsub_final_240221/RDI_NANNU20_NSUBS4_JWST_NIRCAM_NRCALONG_F300M_MASKRND_MASK335R_SUB320A335R-KLmodes-all.fits\n",
      "[spaceKLIP.psf:INFO]   --> Generating WebbPSF model\n",
      "[spaceKLIP.analysistools:INFO]   Measuring raw contrast in annuli\n",
      "[spaceKLIP.analysistools:INFO]   Measuring raw contrast for masked data\n",
      "Contrast results and plots saved to /home/maxmb/Library/jwst_hd141569a_lib/data/F300M/jk/231108/for_planet_sensitivity/spaceklip/contrast_curves/rawcon/RDI_NANNU20_NSUBS4_JWST_NIRCAM_NRCALONG_F300M_MASKRND_MASK335R_SUB320A335R-KLmodes-all_seps.npy, /home/maxmb/Library/jwst_hd141569a_lib/data/F300M/jk/231108/for_planet_sensitivity/spaceklip/contrast_curves/rawcon/RDI_NANNU20_NSUBS4_JWST_NIRCAM_NRCALONG_F300M_MASKRND_MASK335R_SUB320A335R-KLmodes-all_cons.npy\n",
      "[spaceKLIP.analysistools:INFO] Analyzing file /home/maxmb/Library/jwst_hd141569a_lib/data/F300M/jk/231108/for_planet_sensitivity/spaceklip/klipsub_final_240221/RDI_NANNU20_NSUBS6_JWST_NIRCAM_NRCALONG_F300M_MASKRND_MASK335R_SUB320A335R-KLmodes-all.fits\n",
      "[spaceKLIP.psf:INFO]   --> Generating WebbPSF model\n",
      "[spaceKLIP.analysistools:INFO]   Measuring raw contrast in annuli\n",
      "[spaceKLIP.analysistools:INFO]   Measuring raw contrast for masked data\n",
      "Contrast results and plots saved to /home/maxmb/Library/jwst_hd141569a_lib/data/F300M/jk/231108/for_planet_sensitivity/spaceklip/contrast_curves/rawcon/RDI_NANNU20_NSUBS6_JWST_NIRCAM_NRCALONG_F300M_MASKRND_MASK335R_SUB320A335R-KLmodes-all_seps.npy, /home/maxmb/Library/jwst_hd141569a_lib/data/F300M/jk/231108/for_planet_sensitivity/spaceklip/contrast_curves/rawcon/RDI_NANNU20_NSUBS6_JWST_NIRCAM_NRCALONG_F300M_MASKRND_MASK335R_SUB320A335R-KLmodes-all_cons.npy\n",
      "[spaceKLIP.analysistools:INFO] Analyzing file /home/maxmb/Library/jwst_hd141569a_lib/data/F300M/jk/231108/for_planet_sensitivity/spaceklip/klipsub_final_240221/RDI_NANNU5_NSUBS1_JWST_NIRCAM_NRCALONG_F300M_MASKRND_MASK335R_SUB320A335R-KLmodes-all.fits\n",
      "[spaceKLIP.psf:INFO]   --> Generating WebbPSF model\n",
      "[spaceKLIP.analysistools:INFO]   Measuring raw contrast in annuli\n",
      "[spaceKLIP.analysistools:INFO]   Measuring raw contrast for masked data\n",
      "Contrast results and plots saved to /home/maxmb/Library/jwst_hd141569a_lib/data/F300M/jk/231108/for_planet_sensitivity/spaceklip/contrast_curves/rawcon/RDI_NANNU5_NSUBS1_JWST_NIRCAM_NRCALONG_F300M_MASKRND_MASK335R_SUB320A335R-KLmodes-all_seps.npy, /home/maxmb/Library/jwst_hd141569a_lib/data/F300M/jk/231108/for_planet_sensitivity/spaceklip/contrast_curves/rawcon/RDI_NANNU5_NSUBS1_JWST_NIRCAM_NRCALONG_F300M_MASKRND_MASK335R_SUB320A335R-KLmodes-all_cons.npy\n",
      "[spaceKLIP.analysistools:INFO] Analyzing file /home/maxmb/Library/jwst_hd141569a_lib/data/F300M/jk/231108/for_planet_sensitivity/spaceklip/klipsub_final_240221/RDI_NANNU5_NSUBS4_JWST_NIRCAM_NRCALONG_F300M_MASKRND_MASK335R_SUB320A335R-KLmodes-all.fits\n",
      "[spaceKLIP.psf:INFO]   --> Generating WebbPSF model\n",
      "[spaceKLIP.analysistools:INFO]   Measuring raw contrast in annuli\n",
      "[spaceKLIP.analysistools:INFO]   Measuring raw contrast for masked data\n",
      "Contrast results and plots saved to /home/maxmb/Library/jwst_hd141569a_lib/data/F300M/jk/231108/for_planet_sensitivity/spaceklip/contrast_curves/rawcon/RDI_NANNU5_NSUBS4_JWST_NIRCAM_NRCALONG_F300M_MASKRND_MASK335R_SUB320A335R-KLmodes-all_seps.npy, /home/maxmb/Library/jwst_hd141569a_lib/data/F300M/jk/231108/for_planet_sensitivity/spaceklip/contrast_curves/rawcon/RDI_NANNU5_NSUBS4_JWST_NIRCAM_NRCALONG_F300M_MASKRND_MASK335R_SUB320A335R-KLmodes-all_cons.npy\n",
      "[spaceKLIP.analysistools:INFO] Analyzing file /home/maxmb/Library/jwst_hd141569a_lib/data/F300M/jk/231108/for_planet_sensitivity/spaceklip/klipsub_final_240221/RDI_NANNU5_NSUBS6_JWST_NIRCAM_NRCALONG_F300M_MASKRND_MASK335R_SUB320A335R-KLmodes-all.fits\n",
      "[spaceKLIP.psf:INFO]   --> Generating WebbPSF model\n",
      "[spaceKLIP.analysistools:INFO]   Measuring raw contrast in annuli\n",
      "[spaceKLIP.analysistools:INFO]   Measuring raw contrast for masked data\n",
      "Contrast results and plots saved to /home/maxmb/Library/jwst_hd141569a_lib/data/F300M/jk/231108/for_planet_sensitivity/spaceklip/contrast_curves/rawcon/RDI_NANNU5_NSUBS6_JWST_NIRCAM_NRCALONG_F300M_MASKRND_MASK335R_SUB320A335R-KLmodes-all_seps.npy, /home/maxmb/Library/jwst_hd141569a_lib/data/F300M/jk/231108/for_planet_sensitivity/spaceklip/contrast_curves/rawcon/RDI_NANNU5_NSUBS6_JWST_NIRCAM_NRCALONG_F300M_MASKRND_MASK335R_SUB320A335R-KLmodes-all_cons.npy\n"
     ]
    }
   ],
   "source": [
    "# Compute raw contrast.\n",
    "contrast_subdir = os.path.join(\"contrast_curves\",\"rawcon\")\n",
    "analysistools.raw_contrast(starfile='hd_141569.vot',\n",
    "                               spectral_type='A2V',\n",
    "                               subdir = contrast_subdir)\n"
   ]
  },
  {
   "cell_type": "markdown",
   "id": "7aeb7190",
   "metadata": {},
   "source": [
    "The output of these is a large set of files within the `rawcon` subdir of the data directory. This includes PDFs showing the reduced images, and plots of contrast, and also saved contrast curves. \n",
    "\n",
    "Previously, raw contrast curves were saved as `.npy` numpy data dump files; now they are saved as astropy ECSV format text files, for easy use with astropy.table. "
   ]
  },
  {
   "cell_type": "code",
   "execution_count": null,
   "id": "d2f274c1",
   "metadata": {},
   "outputs": [],
   "source": [
    "# astropy.table.Table.read(input_dir+'/contrast_curves/rawcon/ADI+RDI_NANNU20_NSUBS6_JWST_NIRCAM_NRCALONG_F360M_MASKRND_MASK335R_SUB320A335R-KLmodes-all_contrast.ecsv')"
   ]
  },
  {
   "cell_type": "code",
   "execution_count": null,
   "id": "f152ccdb",
   "metadata": {},
   "outputs": [
    {
     "name": "stdout",
     "output_type": "stream",
     "text": [
      "[spaceKLIP.database:INFO] --> Identified 1 concatenation(s)\n",
      "[spaceKLIP.database:INFO]   --> Concatenation 1: JWST_NIRCAM_NRCALONG_F300M_MASKRND_MASK335R_SUB320A335R\n",
      " TYPE   EXP_TYPE DATAMODL TELESCOP ... SUBSECTS  KLMODES  BUNIT  BLURFWHM\n",
      "------ --------- -------- -------- ... -------- --------- ------ --------\n",
      "PYKLIP NRC_CORON   STAGE3     JWST ...        1 1,5,10,20 MJy/sr      nan\n",
      "PYKLIP NRC_CORON   STAGE3     JWST ...        4 1,5,10,20 MJy/sr      nan\n",
      "PYKLIP NRC_CORON   STAGE3     JWST ...        6 1,5,10,20 MJy/sr      nan\n",
      "PYKLIP NRC_CORON   STAGE3     JWST ...        1 1,5,10,20 MJy/sr      nan\n",
      "PYKLIP NRC_CORON   STAGE3     JWST ...        4 1,5,10,20 MJy/sr      nan\n",
      "PYKLIP NRC_CORON   STAGE3     JWST ...        6 1,5,10,20 MJy/sr      nan\n",
      "PYKLIP NRC_CORON   STAGE3     JWST ...        1 1,5,10,20 MJy/sr      nan\n",
      "PYKLIP NRC_CORON   STAGE3     JWST ...        4 1,5,10,20 MJy/sr      nan\n",
      "PYKLIP NRC_CORON   STAGE3     JWST ...        6 1,5,10,20 MJy/sr      nan\n",
      "PYKLIP NRC_CORON   STAGE3     JWST ...        1 1,5,10,20 MJy/sr      nan\n",
      "   ...       ...      ...      ... ...      ...       ...    ...      ...\n",
      "PYKLIP NRC_CORON   STAGE3     JWST ...        4 1,5,10,20 MJy/sr      nan\n",
      "PYKLIP NRC_CORON   STAGE3     JWST ...        6 1,5,10,20 MJy/sr      nan\n",
      "PYKLIP NRC_CORON   STAGE3     JWST ...        1 1,5,10,20 MJy/sr      nan\n",
      "PYKLIP NRC_CORON   STAGE3     JWST ...        4 1,5,10,20 MJy/sr      nan\n",
      "PYKLIP NRC_CORON   STAGE3     JWST ...        6 1,5,10,20 MJy/sr      nan\n",
      "PYKLIP NRC_CORON   STAGE3     JWST ...        1 1,5,10,20 MJy/sr      nan\n",
      "PYKLIP NRC_CORON   STAGE3     JWST ...        4 1,5,10,20 MJy/sr      nan\n",
      "PYKLIP NRC_CORON   STAGE3     JWST ...        6 1,5,10,20 MJy/sr      nan\n",
      "PYKLIP NRC_CORON   STAGE3     JWST ...        1 1,5,10,20 MJy/sr      nan\n",
      "PYKLIP NRC_CORON   STAGE3     JWST ...        4 1,5,10,20 MJy/sr      nan\n",
      "PYKLIP NRC_CORON   STAGE3     JWST ...        6 1,5,10,20 MJy/sr      nan\n",
      "Length = 27 rows\n",
      "[spaceKLIP.analysistools:INFO] --> Concatenation JWST_NIRCAM_NRCALONG_F300M_MASKRND_MASK335R_SUB320A335R\n"
     ]
    },
    {
     "name": "stdout",
     "output_type": "stream",
     "text": [
      "[spaceKLIP.psf:INFO]   --> Generating WebbPSF model\n",
      "[spaceKLIP.analysistools:INFO] Analyzing file /home/maxmb/Library/jwst_hd141569a_lib/data/F300M/jk/231108/for_planet_sensitivity/spaceklip/klipsub_final_240221/ADI+RDI_NANNU1_NSUBS1_JWST_NIRCAM_NRCALONG_F300M_MASKRND_MASK335R_SUB320A335R-KLmodes-all.fits\n",
      "--> Rejected 0 of 2 images due to too many bad pixels (threshold = 100%)\n",
      "--> Rejected 0 of 9 images due to too many bad pixels (threshold = 100%)\n",
      "[spaceKLIP.analysistools:INFO] Injecting and recovering synthetic companions. This may take a while...\n",
      "[spaceKLIP.analysistools:INFO] --> All 4 source positions suitable for injection.\n"
     ]
    },
    {
     "data": {
      "application/vnd.jupyter.widget-view+json": {
       "model_id": "046f3aa3ab724769b9d9e4a72b547b52",
       "version_major": 2,
       "version_minor": 0
      },
      "text/plain": [
       "  0%|          | 0/4 [00:00<?, ?it/s]"
      ]
     },
     "metadata": {},
     "output_type": "display_data"
    },
    {
     "name": "stdout",
     "output_type": "stream",
     "text": [
      "[spaceKLIP.analysistools:INFO] Analyzing file /home/maxmb/Library/jwst_hd141569a_lib/data/F300M/jk/231108/for_planet_sensitivity/spaceklip/klipsub_final_240221/ADI+RDI_NANNU1_NSUBS4_JWST_NIRCAM_NRCALONG_F300M_MASKRND_MASK335R_SUB320A335R-KLmodes-all.fits\n",
      "--> Rejected 0 of 2 images due to too many bad pixels (threshold = 100%)\n",
      "--> Rejected 0 of 9 images due to too many bad pixels (threshold = 100%)\n",
      "[spaceKLIP.analysistools:INFO] Injecting and recovering synthetic companions. This may take a while...\n",
      "[spaceKLIP.analysistools:INFO] --> All 4 source positions suitable for injection.\n"
     ]
    },
    {
     "data": {
      "application/vnd.jupyter.widget-view+json": {
       "model_id": "9b085c55a3b04c95ad1926f42a0dfa19",
       "version_major": 2,
       "version_minor": 0
      },
      "text/plain": [
       "  0%|          | 0/4 [00:00<?, ?it/s]"
      ]
     },
     "metadata": {},
     "output_type": "display_data"
    },
    {
     "name": "stdout",
     "output_type": "stream",
     "text": [
      "[spaceKLIP.analysistools:INFO] Analyzing file /home/maxmb/Library/jwst_hd141569a_lib/data/F300M/jk/231108/for_planet_sensitivity/spaceklip/klipsub_final_240221/ADI+RDI_NANNU1_NSUBS6_JWST_NIRCAM_NRCALONG_F300M_MASKRND_MASK335R_SUB320A335R-KLmodes-all.fits\n",
      "--> Rejected 0 of 2 images due to too many bad pixels (threshold = 100%)\n",
      "--> Rejected 0 of 9 images due to too many bad pixels (threshold = 100%)\n",
      "[spaceKLIP.analysistools:INFO] Injecting and recovering synthetic companions. This may take a while...\n",
      "[spaceKLIP.analysistools:INFO] --> All 4 source positions suitable for injection.\n"
     ]
    },
    {
     "data": {
      "application/vnd.jupyter.widget-view+json": {
       "model_id": "30ad3aad8462429ba1b401991ca0b02b",
       "version_major": 2,
       "version_minor": 0
      },
      "text/plain": [
       "  0%|          | 0/4 [00:00<?, ?it/s]"
      ]
     },
     "metadata": {},
     "output_type": "display_data"
    },
    {
     "name": "stdout",
     "output_type": "stream",
     "text": [
      "[spaceKLIP.analysistools:INFO] Analyzing file /home/maxmb/Library/jwst_hd141569a_lib/data/F300M/jk/231108/for_planet_sensitivity/spaceklip/klipsub_final_240221/ADI+RDI_NANNU20_NSUBS1_JWST_NIRCAM_NRCALONG_F300M_MASKRND_MASK335R_SUB320A335R-KLmodes-all.fits\n",
      "--> Rejected 0 of 2 images due to too many bad pixels (threshold = 100%)\n",
      "--> Rejected 0 of 9 images due to too many bad pixels (threshold = 100%)\n",
      "[spaceKLIP.analysistools:INFO] Injecting and recovering synthetic companions. This may take a while...\n",
      "[spaceKLIP.analysistools:INFO] --> All 4 source positions suitable for injection.\n"
     ]
    },
    {
     "data": {
      "application/vnd.jupyter.widget-view+json": {
       "model_id": "80307b87fa4840f9a60c53ba85b0e88f",
       "version_major": 2,
       "version_minor": 0
      },
      "text/plain": [
       "  0%|          | 0/4 [00:00<?, ?it/s]"
      ]
     },
     "metadata": {},
     "output_type": "display_data"
    },
    {
     "name": "stdout",
     "output_type": "stream",
     "text": [
      "[spaceKLIP.analysistools:INFO] Analyzing file /home/maxmb/Library/jwst_hd141569a_lib/data/F300M/jk/231108/for_planet_sensitivity/spaceklip/klipsub_final_240221/ADI+RDI_NANNU20_NSUBS4_JWST_NIRCAM_NRCALONG_F300M_MASKRND_MASK335R_SUB320A335R-KLmodes-all.fits\n",
      "--> Rejected 0 of 2 images due to too many bad pixels (threshold = 100%)\n",
      "--> Rejected 0 of 9 images due to too many bad pixels (threshold = 100%)\n",
      "[spaceKLIP.analysistools:INFO] Injecting and recovering synthetic companions. This may take a while...\n",
      "[spaceKLIP.analysistools:INFO] --> All 4 source positions suitable for injection.\n"
     ]
    },
    {
     "data": {
      "application/vnd.jupyter.widget-view+json": {
       "model_id": "ce08257d42134c8993c95c6098fadc39",
       "version_major": 2,
       "version_minor": 0
      },
      "text/plain": [
       "  0%|          | 0/4 [00:00<?, ?it/s]"
      ]
     },
     "metadata": {},
     "output_type": "display_data"
    },
    {
     "name": "stdout",
     "output_type": "stream",
     "text": [
      "[spaceKLIP.analysistools:INFO] Analyzing file /home/maxmb/Library/jwst_hd141569a_lib/data/F300M/jk/231108/for_planet_sensitivity/spaceklip/klipsub_final_240221/ADI+RDI_NANNU20_NSUBS6_JWST_NIRCAM_NRCALONG_F300M_MASKRND_MASK335R_SUB320A335R-KLmodes-all.fits\n",
      "--> Rejected 0 of 2 images due to too many bad pixels (threshold = 100%)\n",
      "--> Rejected 0 of 9 images due to too many bad pixels (threshold = 100%)\n",
      "[spaceKLIP.analysistools:INFO] Injecting and recovering synthetic companions. This may take a while...\n",
      "[spaceKLIP.analysistools:INFO] --> All 4 source positions suitable for injection.\n"
     ]
    },
    {
     "data": {
      "application/vnd.jupyter.widget-view+json": {
       "model_id": "73dd5ed9a92d43e199576dbc7da2bc05",
       "version_major": 2,
       "version_minor": 0
      },
      "text/plain": [
       "  0%|          | 0/4 [00:00<?, ?it/s]"
      ]
     },
     "metadata": {},
     "output_type": "display_data"
    },
    {
     "name": "stdout",
     "output_type": "stream",
     "text": [
      "[spaceKLIP.analysistools:INFO] Analyzing file /home/maxmb/Library/jwst_hd141569a_lib/data/F300M/jk/231108/for_planet_sensitivity/spaceklip/klipsub_final_240221/ADI+RDI_NANNU5_NSUBS1_JWST_NIRCAM_NRCALONG_F300M_MASKRND_MASK335R_SUB320A335R-KLmodes-all.fits\n",
      "--> Rejected 0 of 2 images due to too many bad pixels (threshold = 100%)\n",
      "--> Rejected 0 of 9 images due to too many bad pixels (threshold = 100%)\n",
      "[spaceKLIP.analysistools:INFO] Injecting and recovering synthetic companions. This may take a while...\n",
      "[spaceKLIP.analysistools:INFO] --> All 4 source positions suitable for injection.\n"
     ]
    },
    {
     "data": {
      "application/vnd.jupyter.widget-view+json": {
       "model_id": "cf89b79f8e914def82a2aa51d52bec69",
       "version_major": 2,
       "version_minor": 0
      },
      "text/plain": [
       "  0%|          | 0/4 [00:00<?, ?it/s]"
      ]
     },
     "metadata": {},
     "output_type": "display_data"
    },
    {
     "name": "stdout",
     "output_type": "stream",
     "text": [
      "[spaceKLIP.analysistools:INFO] Analyzing file /home/maxmb/Library/jwst_hd141569a_lib/data/F300M/jk/231108/for_planet_sensitivity/spaceklip/klipsub_final_240221/ADI+RDI_NANNU5_NSUBS4_JWST_NIRCAM_NRCALONG_F300M_MASKRND_MASK335R_SUB320A335R-KLmodes-all.fits\n",
      "--> Rejected 0 of 2 images due to too many bad pixels (threshold = 100%)\n",
      "--> Rejected 0 of 9 images due to too many bad pixels (threshold = 100%)\n",
      "[spaceKLIP.analysistools:INFO] Injecting and recovering synthetic companions. This may take a while...\n",
      "[spaceKLIP.analysistools:INFO] --> All 4 source positions suitable for injection.\n"
     ]
    },
    {
     "data": {
      "application/vnd.jupyter.widget-view+json": {
       "model_id": "b594f90684054f0ab4c094b85cd23741",
       "version_major": 2,
       "version_minor": 0
      },
      "text/plain": [
       "  0%|          | 0/4 [00:00<?, ?it/s]"
      ]
     },
     "metadata": {},
     "output_type": "display_data"
    },
    {
     "name": "stdout",
     "output_type": "stream",
     "text": [
      "[spaceKLIP.analysistools:INFO] Analyzing file /home/maxmb/Library/jwst_hd141569a_lib/data/F300M/jk/231108/for_planet_sensitivity/spaceklip/klipsub_final_240221/ADI+RDI_NANNU5_NSUBS6_JWST_NIRCAM_NRCALONG_F300M_MASKRND_MASK335R_SUB320A335R-KLmodes-all.fits\n",
      "--> Rejected 0 of 2 images due to too many bad pixels (threshold = 100%)\n",
      "--> Rejected 0 of 9 images due to too many bad pixels (threshold = 100%)\n",
      "[spaceKLIP.analysistools:INFO] Injecting and recovering synthetic companions. This may take a while...\n",
      "[spaceKLIP.analysistools:INFO] --> All 4 source positions suitable for injection.\n"
     ]
    },
    {
     "data": {
      "application/vnd.jupyter.widget-view+json": {
       "model_id": "10a5a342d98840a0b34708f15d62b5f0",
       "version_major": 2,
       "version_minor": 0
      },
      "text/plain": [
       "  0%|          | 0/4 [00:00<?, ?it/s]"
      ]
     },
     "metadata": {},
     "output_type": "display_data"
    },
    {
     "name": "stdout",
     "output_type": "stream",
     "text": [
      "[spaceKLIP.analysistools:INFO] Analyzing file /home/maxmb/Library/jwst_hd141569a_lib/data/F300M/jk/231108/for_planet_sensitivity/spaceklip/klipsub_final_240221/ADI_NANNU1_NSUBS1_JWST_NIRCAM_NRCALONG_F300M_MASKRND_MASK335R_SUB320A335R-KLmodes-all.fits\n",
      "--> Rejected 0 of 2 images due to too many bad pixels (threshold = 100%)\n",
      "--> Rejected 0 of 9 images due to too many bad pixels (threshold = 100%)\n",
      "[spaceKLIP.analysistools:INFO] Injecting and recovering synthetic companions. This may take a while...\n",
      "[spaceKLIP.analysistools:INFO] --> All 4 source positions suitable for injection.\n"
     ]
    },
    {
     "data": {
      "application/vnd.jupyter.widget-view+json": {
       "model_id": "226be8616f1d4476a9e13da66d6d6260",
       "version_major": 2,
       "version_minor": 0
      },
      "text/plain": [
       "  0%|          | 0/4 [00:00<?, ?it/s]"
      ]
     },
     "metadata": {},
     "output_type": "display_data"
    },
    {
     "name": "stdout",
     "output_type": "stream",
     "text": [
      "[spaceKLIP.analysistools:INFO] Analyzing file /home/maxmb/Library/jwst_hd141569a_lib/data/F300M/jk/231108/for_planet_sensitivity/spaceklip/klipsub_final_240221/ADI_NANNU1_NSUBS4_JWST_NIRCAM_NRCALONG_F300M_MASKRND_MASK335R_SUB320A335R-KLmodes-all.fits\n",
      "--> Rejected 0 of 2 images due to too many bad pixels (threshold = 100%)\n",
      "--> Rejected 0 of 9 images due to too many bad pixels (threshold = 100%)\n",
      "[spaceKLIP.analysistools:INFO] Injecting and recovering synthetic companions. This may take a while...\n",
      "[spaceKLIP.analysistools:INFO] --> All 4 source positions suitable for injection.\n"
     ]
    },
    {
     "data": {
      "application/vnd.jupyter.widget-view+json": {
       "model_id": "3dfbc83942eb4894a911d61b91a54d4e",
       "version_major": 2,
       "version_minor": 0
      },
      "text/plain": [
       "  0%|          | 0/4 [00:00<?, ?it/s]"
      ]
     },
     "metadata": {},
     "output_type": "display_data"
    },
    {
     "name": "stdout",
     "output_type": "stream",
     "text": [
      "[spaceKLIP.analysistools:INFO] Analyzing file /home/maxmb/Library/jwst_hd141569a_lib/data/F300M/jk/231108/for_planet_sensitivity/spaceklip/klipsub_final_240221/ADI_NANNU1_NSUBS6_JWST_NIRCAM_NRCALONG_F300M_MASKRND_MASK335R_SUB320A335R-KLmodes-all.fits\n",
      "--> Rejected 0 of 2 images due to too many bad pixels (threshold = 100%)\n",
      "--> Rejected 0 of 9 images due to too many bad pixels (threshold = 100%)\n",
      "[spaceKLIP.analysistools:INFO] Injecting and recovering synthetic companions. This may take a while...\n",
      "[spaceKLIP.analysistools:INFO] --> All 4 source positions suitable for injection.\n"
     ]
    },
    {
     "data": {
      "application/vnd.jupyter.widget-view+json": {
       "model_id": "78fc87c0b6ea438f8095b2c77f5aca8e",
       "version_major": 2,
       "version_minor": 0
      },
      "text/plain": [
       "  0%|          | 0/4 [00:00<?, ?it/s]"
      ]
     },
     "metadata": {},
     "output_type": "display_data"
    },
    {
     "name": "stdout",
     "output_type": "stream",
     "text": [
      "[spaceKLIP.analysistools:INFO] Analyzing file /home/maxmb/Library/jwst_hd141569a_lib/data/F300M/jk/231108/for_planet_sensitivity/spaceklip/klipsub_final_240221/ADI_NANNU20_NSUBS1_JWST_NIRCAM_NRCALONG_F300M_MASKRND_MASK335R_SUB320A335R-KLmodes-all.fits\n",
      "--> Rejected 0 of 2 images due to too many bad pixels (threshold = 100%)\n",
      "--> Rejected 0 of 9 images due to too many bad pixels (threshold = 100%)\n",
      "[spaceKLIP.analysistools:INFO] Injecting and recovering synthetic companions. This may take a while...\n",
      "[spaceKLIP.analysistools:INFO] --> All 4 source positions suitable for injection.\n"
     ]
    },
    {
     "data": {
      "application/vnd.jupyter.widget-view+json": {
       "model_id": "bcffad37807c44448f70627e49720751",
       "version_major": 2,
       "version_minor": 0
      },
      "text/plain": [
       "  0%|          | 0/4 [00:00<?, ?it/s]"
      ]
     },
     "metadata": {},
     "output_type": "display_data"
    },
    {
     "name": "stdout",
     "output_type": "stream",
     "text": [
      "[spaceKLIP.analysistools:INFO] Analyzing file /home/maxmb/Library/jwst_hd141569a_lib/data/F300M/jk/231108/for_planet_sensitivity/spaceklip/klipsub_final_240221/ADI_NANNU20_NSUBS4_JWST_NIRCAM_NRCALONG_F300M_MASKRND_MASK335R_SUB320A335R-KLmodes-all.fits\n",
      "--> Rejected 0 of 2 images due to too many bad pixels (threshold = 100%)\n",
      "--> Rejected 0 of 9 images due to too many bad pixels (threshold = 100%)\n",
      "[spaceKLIP.analysistools:INFO] Injecting and recovering synthetic companions. This may take a while...\n",
      "[spaceKLIP.analysistools:INFO] --> All 4 source positions suitable for injection.\n"
     ]
    },
    {
     "data": {
      "application/vnd.jupyter.widget-view+json": {
       "model_id": "818d9001d24449faa7a1a363b3c775e5",
       "version_major": 2,
       "version_minor": 0
      },
      "text/plain": [
       "  0%|          | 0/4 [00:00<?, ?it/s]"
      ]
     },
     "metadata": {},
     "output_type": "display_data"
    },
    {
     "name": "stdout",
     "output_type": "stream",
     "text": [
      "[spaceKLIP.analysistools:INFO] Analyzing file /home/maxmb/Library/jwst_hd141569a_lib/data/F300M/jk/231108/for_planet_sensitivity/spaceklip/klipsub_final_240221/ADI_NANNU20_NSUBS6_JWST_NIRCAM_NRCALONG_F300M_MASKRND_MASK335R_SUB320A335R-KLmodes-all.fits\n",
      "--> Rejected 0 of 2 images due to too many bad pixels (threshold = 100%)\n",
      "--> Rejected 0 of 9 images due to too many bad pixels (threshold = 100%)\n",
      "[spaceKLIP.analysistools:INFO] Injecting and recovering synthetic companions. This may take a while...\n",
      "[spaceKLIP.analysistools:INFO] --> All 4 source positions suitable for injection.\n"
     ]
    },
    {
     "data": {
      "application/vnd.jupyter.widget-view+json": {
       "model_id": "1e5796aa1b7b4062b4e8e7c09d7e0a9a",
       "version_major": 2,
       "version_minor": 0
      },
      "text/plain": [
       "  0%|          | 0/4 [00:00<?, ?it/s]"
      ]
     },
     "metadata": {},
     "output_type": "display_data"
    },
    {
     "name": "stdout",
     "output_type": "stream",
     "text": [
      "[spaceKLIP.analysistools:INFO] Analyzing file /home/maxmb/Library/jwst_hd141569a_lib/data/F300M/jk/231108/for_planet_sensitivity/spaceklip/klipsub_final_240221/ADI_NANNU5_NSUBS1_JWST_NIRCAM_NRCALONG_F300M_MASKRND_MASK335R_SUB320A335R-KLmodes-all.fits\n",
      "--> Rejected 0 of 2 images due to too many bad pixels (threshold = 100%)\n",
      "--> Rejected 0 of 9 images due to too many bad pixels (threshold = 100%)\n",
      "[spaceKLIP.analysistools:INFO] Injecting and recovering synthetic companions. This may take a while...\n",
      "[spaceKLIP.analysistools:INFO] --> All 4 source positions suitable for injection.\n"
     ]
    },
    {
     "data": {
      "application/vnd.jupyter.widget-view+json": {
       "model_id": "5e37a18a77d043faa7ba9858431b6dad",
       "version_major": 2,
       "version_minor": 0
      },
      "text/plain": [
       "  0%|          | 0/4 [00:00<?, ?it/s]"
      ]
     },
     "metadata": {},
     "output_type": "display_data"
    },
    {
     "name": "stdout",
     "output_type": "stream",
     "text": [
      "[spaceKLIP.analysistools:INFO] Analyzing file /home/maxmb/Library/jwst_hd141569a_lib/data/F300M/jk/231108/for_planet_sensitivity/spaceklip/klipsub_final_240221/ADI_NANNU5_NSUBS4_JWST_NIRCAM_NRCALONG_F300M_MASKRND_MASK335R_SUB320A335R-KLmodes-all.fits\n",
      "--> Rejected 0 of 2 images due to too many bad pixels (threshold = 100%)\n",
      "--> Rejected 0 of 9 images due to too many bad pixels (threshold = 100%)\n",
      "[spaceKLIP.analysistools:INFO] Injecting and recovering synthetic companions. This may take a while...\n",
      "[spaceKLIP.analysistools:INFO] --> All 4 source positions suitable for injection.\n"
     ]
    },
    {
     "data": {
      "application/vnd.jupyter.widget-view+json": {
       "model_id": "3fd958f20a284c5fa1b7e574e76ba504",
       "version_major": 2,
       "version_minor": 0
      },
      "text/plain": [
       "  0%|          | 0/4 [00:00<?, ?it/s]"
      ]
     },
     "metadata": {},
     "output_type": "display_data"
    },
    {
     "name": "stdout",
     "output_type": "stream",
     "text": [
      "[spaceKLIP.analysistools:INFO] Analyzing file /home/maxmb/Library/jwst_hd141569a_lib/data/F300M/jk/231108/for_planet_sensitivity/spaceklip/klipsub_final_240221/ADI_NANNU5_NSUBS6_JWST_NIRCAM_NRCALONG_F300M_MASKRND_MASK335R_SUB320A335R-KLmodes-all.fits\n",
      "--> Rejected 0 of 2 images due to too many bad pixels (threshold = 100%)\n",
      "--> Rejected 0 of 9 images due to too many bad pixels (threshold = 100%)\n",
      "[spaceKLIP.analysistools:INFO] Injecting and recovering synthetic companions. This may take a while...\n",
      "[spaceKLIP.analysistools:INFO] --> All 4 source positions suitable for injection.\n"
     ]
    },
    {
     "data": {
      "application/vnd.jupyter.widget-view+json": {
       "model_id": "aa49aad76b0648ef82c58ccd4534a07b",
       "version_major": 2,
       "version_minor": 0
      },
      "text/plain": [
       "  0%|          | 0/4 [00:00<?, ?it/s]"
      ]
     },
     "metadata": {},
     "output_type": "display_data"
    },
    {
     "name": "stdout",
     "output_type": "stream",
     "text": [
      "[spaceKLIP.analysistools:INFO] Analyzing file /home/maxmb/Library/jwst_hd141569a_lib/data/F300M/jk/231108/for_planet_sensitivity/spaceklip/klipsub_final_240221/RDI_NANNU1_NSUBS1_JWST_NIRCAM_NRCALONG_F300M_MASKRND_MASK335R_SUB320A335R-KLmodes-all.fits\n",
      "--> Rejected 0 of 2 images due to too many bad pixels (threshold = 100%)\n",
      "--> Rejected 0 of 9 images due to too many bad pixels (threshold = 100%)\n",
      "[spaceKLIP.analysistools:INFO] Injecting and recovering synthetic companions. This may take a while...\n",
      "[spaceKLIP.analysistools:INFO] --> All 4 source positions suitable for injection.\n"
     ]
    },
    {
     "data": {
      "application/vnd.jupyter.widget-view+json": {
       "model_id": "6bc4d9fa75514ee4a4a991c672cda3fe",
       "version_major": 2,
       "version_minor": 0
      },
      "text/plain": [
       "  0%|          | 0/4 [00:00<?, ?it/s]"
      ]
     },
     "metadata": {},
     "output_type": "display_data"
    },
    {
     "name": "stdout",
     "output_type": "stream",
     "text": [
      "[spaceKLIP.analysistools:INFO] Analyzing file /home/maxmb/Library/jwst_hd141569a_lib/data/F300M/jk/231108/for_planet_sensitivity/spaceklip/klipsub_final_240221/RDI_NANNU1_NSUBS4_JWST_NIRCAM_NRCALONG_F300M_MASKRND_MASK335R_SUB320A335R-KLmodes-all.fits\n",
      "--> Rejected 0 of 2 images due to too many bad pixels (threshold = 100%)\n",
      "--> Rejected 0 of 9 images due to too many bad pixels (threshold = 100%)\n",
      "[spaceKLIP.analysistools:INFO] Injecting and recovering synthetic companions. This may take a while...\n",
      "[spaceKLIP.analysistools:INFO] --> All 4 source positions suitable for injection.\n"
     ]
    },
    {
     "data": {
      "application/vnd.jupyter.widget-view+json": {
       "model_id": "63640df4d84041b9a8fd973f80b00f90",
       "version_major": 2,
       "version_minor": 0
      },
      "text/plain": [
       "  0%|          | 0/4 [00:00<?, ?it/s]"
      ]
     },
     "metadata": {},
     "output_type": "display_data"
    },
    {
     "name": "stdout",
     "output_type": "stream",
     "text": [
      "[spaceKLIP.analysistools:INFO] Analyzing file /home/maxmb/Library/jwst_hd141569a_lib/data/F300M/jk/231108/for_planet_sensitivity/spaceklip/klipsub_final_240221/RDI_NANNU1_NSUBS6_JWST_NIRCAM_NRCALONG_F300M_MASKRND_MASK335R_SUB320A335R-KLmodes-all.fits\n",
      "--> Rejected 0 of 2 images due to too many bad pixels (threshold = 100%)\n",
      "--> Rejected 0 of 9 images due to too many bad pixels (threshold = 100%)\n",
      "[spaceKLIP.analysistools:INFO] Injecting and recovering synthetic companions. This may take a while...\n",
      "[spaceKLIP.analysistools:INFO] --> All 4 source positions suitable for injection.\n"
     ]
    },
    {
     "data": {
      "application/vnd.jupyter.widget-view+json": {
       "model_id": "a84065749a034ee496fed10b5f30e569",
       "version_major": 2,
       "version_minor": 0
      },
      "text/plain": [
       "  0%|          | 0/4 [00:00<?, ?it/s]"
      ]
     },
     "metadata": {},
     "output_type": "display_data"
    },
    {
     "name": "stdout",
     "output_type": "stream",
     "text": [
      "[spaceKLIP.analysistools:INFO] Analyzing file /home/maxmb/Library/jwst_hd141569a_lib/data/F300M/jk/231108/for_planet_sensitivity/spaceklip/klipsub_final_240221/RDI_NANNU20_NSUBS1_JWST_NIRCAM_NRCALONG_F300M_MASKRND_MASK335R_SUB320A335R-KLmodes-all.fits\n",
      "--> Rejected 0 of 2 images due to too many bad pixels (threshold = 100%)\n",
      "--> Rejected 0 of 9 images due to too many bad pixels (threshold = 100%)\n",
      "[spaceKLIP.analysistools:INFO] Injecting and recovering synthetic companions. This may take a while...\n",
      "[spaceKLIP.analysistools:INFO] --> All 4 source positions suitable for injection.\n"
     ]
    },
    {
     "data": {
      "application/vnd.jupyter.widget-view+json": {
       "model_id": "60c185b51a054c97b6a59c2f69588a51",
       "version_major": 2,
       "version_minor": 0
      },
      "text/plain": [
       "  0%|          | 0/4 [00:00<?, ?it/s]"
      ]
     },
     "metadata": {},
     "output_type": "display_data"
    },
    {
     "name": "stdout",
     "output_type": "stream",
     "text": [
      "[spaceKLIP.analysistools:INFO] Analyzing file /home/maxmb/Library/jwst_hd141569a_lib/data/F300M/jk/231108/for_planet_sensitivity/spaceklip/klipsub_final_240221/RDI_NANNU20_NSUBS4_JWST_NIRCAM_NRCALONG_F300M_MASKRND_MASK335R_SUB320A335R-KLmodes-all.fits\n",
      "--> Rejected 0 of 2 images due to too many bad pixels (threshold = 100%)\n",
      "--> Rejected 0 of 9 images due to too many bad pixels (threshold = 100%)\n",
      "[spaceKLIP.analysistools:INFO] Injecting and recovering synthetic companions. This may take a while...\n",
      "[spaceKLIP.analysistools:INFO] --> All 4 source positions suitable for injection.\n"
     ]
    },
    {
     "data": {
      "application/vnd.jupyter.widget-view+json": {
       "model_id": "072235f8d3bb49939fd3b98048b0ba96",
       "version_major": 2,
       "version_minor": 0
      },
      "text/plain": [
       "  0%|          | 0/4 [00:00<?, ?it/s]"
      ]
     },
     "metadata": {},
     "output_type": "display_data"
    },
    {
     "name": "stdout",
     "output_type": "stream",
     "text": [
      "[spaceKLIP.analysistools:INFO] Analyzing file /home/maxmb/Library/jwst_hd141569a_lib/data/F300M/jk/231108/for_planet_sensitivity/spaceklip/klipsub_final_240221/RDI_NANNU20_NSUBS6_JWST_NIRCAM_NRCALONG_F300M_MASKRND_MASK335R_SUB320A335R-KLmodes-all.fits\n",
      "--> Rejected 0 of 2 images due to too many bad pixels (threshold = 100%)\n",
      "--> Rejected 0 of 9 images due to too many bad pixels (threshold = 100%)\n",
      "[spaceKLIP.analysistools:INFO] Injecting and recovering synthetic companions. This may take a while...\n",
      "[spaceKLIP.analysistools:INFO] --> All 4 source positions suitable for injection.\n"
     ]
    },
    {
     "data": {
      "application/vnd.jupyter.widget-view+json": {
       "model_id": "a492b5cb303544c9bd55a5f5a32d64c5",
       "version_major": 2,
       "version_minor": 0
      },
      "text/plain": [
       "  0%|          | 0/4 [00:00<?, ?it/s]"
      ]
     },
     "metadata": {},
     "output_type": "display_data"
    },
    {
     "name": "stdout",
     "output_type": "stream",
     "text": [
      "[spaceKLIP.analysistools:INFO] Analyzing file /home/maxmb/Library/jwst_hd141569a_lib/data/F300M/jk/231108/for_planet_sensitivity/spaceklip/klipsub_final_240221/RDI_NANNU5_NSUBS1_JWST_NIRCAM_NRCALONG_F300M_MASKRND_MASK335R_SUB320A335R-KLmodes-all.fits\n",
      "--> Rejected 0 of 2 images due to too many bad pixels (threshold = 100%)\n",
      "--> Rejected 0 of 9 images due to too many bad pixels (threshold = 100%)\n",
      "[spaceKLIP.analysistools:INFO] Injecting and recovering synthetic companions. This may take a while...\n",
      "[spaceKLIP.analysistools:INFO] --> All 4 source positions suitable for injection.\n"
     ]
    },
    {
     "data": {
      "application/vnd.jupyter.widget-view+json": {
       "model_id": "e1a8a599b5034e3d8aa5742e9eeaa04f",
       "version_major": 2,
       "version_minor": 0
      },
      "text/plain": [
       "  0%|          | 0/4 [00:00<?, ?it/s]"
      ]
     },
     "metadata": {},
     "output_type": "display_data"
    },
    {
     "name": "stdout",
     "output_type": "stream",
     "text": [
      "[spaceKLIP.analysistools:INFO] Analyzing file /home/maxmb/Library/jwst_hd141569a_lib/data/F300M/jk/231108/for_planet_sensitivity/spaceklip/klipsub_final_240221/RDI_NANNU5_NSUBS4_JWST_NIRCAM_NRCALONG_F300M_MASKRND_MASK335R_SUB320A335R-KLmodes-all.fits\n",
      "--> Rejected 0 of 2 images due to too many bad pixels (threshold = 100%)\n",
      "--> Rejected 0 of 9 images due to too many bad pixels (threshold = 100%)\n",
      "[spaceKLIP.analysistools:INFO] Injecting and recovering synthetic companions. This may take a while...\n",
      "[spaceKLIP.analysistools:INFO] --> All 4 source positions suitable for injection.\n"
     ]
    },
    {
     "data": {
      "application/vnd.jupyter.widget-view+json": {
       "model_id": "0888f08dea1e4be085acbbde904b7a07",
       "version_major": 2,
       "version_minor": 0
      },
      "text/plain": [
       "  0%|          | 0/4 [00:00<?, ?it/s]"
      ]
     },
     "metadata": {},
     "output_type": "display_data"
    },
    {
     "name": "stdout",
     "output_type": "stream",
     "text": [
      "[spaceKLIP.analysistools:INFO] Analyzing file /home/maxmb/Library/jwst_hd141569a_lib/data/F300M/jk/231108/for_planet_sensitivity/spaceklip/klipsub_final_240221/RDI_NANNU5_NSUBS6_JWST_NIRCAM_NRCALONG_F300M_MASKRND_MASK335R_SUB320A335R-KLmodes-all.fits\n",
      "--> Rejected 0 of 2 images due to too many bad pixels (threshold = 100%)\n",
      "--> Rejected 0 of 9 images due to too many bad pixels (threshold = 100%)\n",
      "[spaceKLIP.analysistools:INFO] Injecting and recovering synthetic companions. This may take a while...\n",
      "[spaceKLIP.analysistools:INFO] --> All 4 source positions suitable for injection.\n"
     ]
    },
    {
     "data": {
      "application/vnd.jupyter.widget-view+json": {
       "model_id": "817c453c4d314242a23702a7a52b2552",
       "version_major": 2,
       "version_minor": 0
      },
      "text/plain": [
       "  0%|          | 0/4 [00:00<?, ?it/s]"
      ]
     },
     "metadata": {},
     "output_type": "display_data"
    }
   ],
   "source": [
    "fitsfiles = sorted(glob.glob(os.path.join(odir, klip_dir,\"*KLmodes-all.fits\")))\n",
    "\n",
    "database = spaceKLIP.database.Database(output_dir=odir)\n",
    "database.read_jwst_s3_data(fitsfiles)\n",
    "analysistools = spaceKLIP.analysistools.AnalysisTools(database)\n",
    "\n",
    "#Compute calibrated contrast.\n",
    "analysistools.calibrate_contrast(rawcon_subdir=os.path.join(odir+contrast_subdir), #Directory raw contrast was saved to\n",
    "                                #  companions=[[comp_dra, comp_ddec, 2.]],  #[RA offset (arcsec), Dec offset (arcsec), mask radius (lambda/D)] for companions to avoid injecting too close\n",
    "                                 injection_seps=[0.5, 1, 2, 3], # Separations to inject and recover companions (arcsec), can also be 'default'\n",
    "                                 injection_pas=[45], # PAs to inject and recover companions (degrees), can also be 'default'\n",
    "                                 injection_flux_sigma=20, #N sigma flux of injected companion relative to contrast of median KL mode subtraction (default 20)\n",
    "                                 multi_injection_spacing=None, #Spacing between injected companion, None = 1 companion per injection+recovery.\n",
    "                                 use_saved=False,\n",
    "                                 highpass=kwargs['highpass']) # whether to run the companion injection, or load saved files.\n"
   ]
  },
  {
   "cell_type": "code",
   "execution_count": null,
   "id": "63f4365b",
   "metadata": {},
   "outputs": [],
   "source": []
  },
  {
   "cell_type": "code",
   "execution_count": null,
   "id": "620f7de2",
   "metadata": {},
   "outputs": [],
   "source": []
  }
 ],
 "metadata": {
  "kernelspec": {
   "display_name": "Python 3 (ipykernel)",
   "language": "python",
   "name": "python3"
  },
  "language_info": {
   "codemirror_mode": {
    "name": "ipython",
    "version": 3
   },
   "file_extension": ".py",
   "mimetype": "text/x-python",
   "name": "python",
   "nbconvert_exporter": "python",
   "pygments_lexer": "ipython3",
   "version": "3.11.4"
  }
 },
 "nbformat": 4,
 "nbformat_minor": 5
}
