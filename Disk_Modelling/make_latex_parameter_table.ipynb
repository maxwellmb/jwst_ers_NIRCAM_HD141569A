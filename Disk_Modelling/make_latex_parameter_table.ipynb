{
 "cells": [
  {
   "cell_type": "markdown",
   "metadata": {},
   "source": [
    "Here I'm going to attempt make a table for the paper based on the parameter files. "
   ]
  },
  {
   "cell_type": "code",
   "execution_count": 2,
   "metadata": {},
   "outputs": [],
   "source": [
    "import os\n",
    "os.environ['XLA_PYTHON_CLIENT_MEM_FRACTION'] = '0.30'\n",
    "\n",
    "import numpy as np\n",
    "\n"
   ]
  },
  {
   "cell_type": "code",
   "execution_count": 3,
   "metadata": {},
   "outputs": [],
   "source": [
    "x0_f300m = np.load(\"hg3fit_F300M_m_stars_bounded_quad_new.npz.npy\")\n",
    "x0_f360m = np.load(\"hg3fit_F360M_full_params.npy\")\n",
    "n_nodes = 6 #Number of parameters associated with the scattering phase function. "
   ]
  },
  {
   "cell_type": "code",
   "execution_count": 4,
   "metadata": {},
   "outputs": [],
   "source": [
    "cent = [173.4,149.1]\n",
    "\n",
    "### PSF Center Parameters: \n",
    "f300m_roll1_centers = [x0_f300m[18+4*n_nodes]+cent[0],x0_f300m[19+4*n_nodes]+cent[1]] #[x,y] \n",
    "f300m_roll2_centers = [x0_f300m[20+4*n_nodes]+cent[0],x0_f300m[21+4*n_nodes]+cent[1]] #[x,y]\n",
    "\n",
    "f360m_roll1_centers = [x0_f360m[18+4*n_nodes]+cent[0],x0_f360m[19+4*n_nodes]+cent[1]] #[x,y]\n",
    "f360m_roll2_centers = [x0_f360m[20+4*n_nodes]+cent[0],x0_f360m[21+4*n_nodes]+cent[1]] #[x,y]\n",
    "\n",
    "### Commonon Parameters: \n",
    "inc = np.degrees(x0_f300m[0])\n",
    "pa = np.degrees(x0_f300m[1])"
   ]
  },
  {
   "cell_type": "code",
   "execution_count": 5,
   "metadata": {},
   "outputs": [],
   "source": [
    "############# SMA ##############\n",
    "#Parameters from October\n",
    "a0s= [40.0,220.0,510.0,330.0] #r_c same for both disks\n",
    "f0_f300m = [3e4,7.5e3,140,410] #n0_scale\n",
    "f0_f360m = [1.5e5,2.5e3,140,410] #n0_scale\n",
    "\n",
    "#Rescale x0_f300m by these values, where appropriate\n",
    "for i in range(len(a0s)):\n",
    "    x0_f300m[2+10*i] *= f0_f300m[i]\n",
    "    x0_f300m[3+10*i] *= a0s[i]\n",
    "    x0_f360m[2+10*i] *= f0_f360m[i]\n",
    "    x0_f360m[3+10*i] *= a0s[i]\n"
   ]
  },
  {
   "cell_type": "code",
   "execution_count": 6,
   "metadata": {},
   "outputs": [],
   "source": [
    "#Normalize the weights\n",
    "x0_f300m[9:12] /= np.sum(x0_f300m[9:12])\n",
    "x0_f300m[13+n_nodes:16+n_nodes] /= np.sum(x0_f300m[13+n_nodes:16+n_nodes])\n",
    "x0_f300m[17+2*n_nodes:20+2*n_nodes] /= np.sum(x0_f300m[17+2*n_nodes:20+2*n_nodes])\n",
    "x0_f300m[21+3*n_nodes:24+3*n_nodes] /= np.sum(x0_f300m[21+3*n_nodes:24+3*n_nodes])\n",
    "\n",
    "x0_f360m[9:12] /= np.sum(x0_f360m[9:12])\n",
    "x0_f360m[13+n_nodes:16+n_nodes] /= np.sum(x0_f360m[13+n_nodes:16+n_nodes])\n",
    "x0_f360m[17+2*n_nodes:20+2*n_nodes] /= np.sum(x0_f360m[17+2*n_nodes:20+2*n_nodes])\n",
    "x0_f360m[21+3*n_nodes:24+3*n_nodes] /= np.sum(x0_f360m[21+3*n_nodes:24+3*n_nodes])\n",
    "\n"
   ]
  },
  {
   "cell_type": "code",
   "execution_count": 7,
   "metadata": {},
   "outputs": [],
   "source": [
    "#Swap the entries of disk 3 and 4 in the x0_f300m and x0_f360m arrays\n",
    "x0_f300m[2:12],x0_f300m[12:22] = x0_f300m[12:22],x0_f300m[2:12].copy()\n",
    "x0_f360m[2:12],x0_f360m[12:22] = x0_f360m[12:22],x0_f360m[2:12].copy()"
   ]
  },
  {
   "cell_type": "code",
   "execution_count": 8,
   "metadata": {},
   "outputs": [],
   "source": [
    "#Reformat common_parameters as a dictionary explicitly written out so that I could delete the above lines of code: \n",
    "common_parameters = {\"Inclination\": [r\"$i$\",[inc]],\n",
    "                     \"Position Angle\":[r\"$PA$\", [pa]], \n",
    "                     \"Roll 1 Center F300M\": [r\"[$x_{r1}$, $y_{r1}$]\",[f300m_roll1_centers[1],f300m_roll1_centers[0]]],\n",
    "                     \"Roll 2 Center F300M\": [r\"[$x_{r2}$, $y_{r2}$]\",[f300m_roll2_centers[1],f300m_roll2_centers[0]]],\n",
    "                     \"Roll 1 Center F360M\": [r\"[$x_{r1}$, $y_{r1}$]\",[f360m_roll1_centers[1],f360m_roll1_centers[0]]],\n",
    "                     \"Roll 2 Center F360M\": [r\"[$x_{r2}$, $y_{r2}$]\",[f360m_roll2_centers[1],f360m_roll2_centers[0]]],\n",
    "                     }\n",
    "\n",
    "#Disk Parameters names and symbols: \n",
    "disk_parameters = [[\"Flux Scaling\", r\"$n_0$\"],\n",
    "                   [\"Disk Central Radius\", r\"$r_c$\"],\n",
    "                   [\"Inner Power Law Index\", r\"$\\alpha_{in}$\"],\n",
    "                   [\"Outer Power Law Index\", r\"$\\alpha_{out}$\"],         \n",
    "                   ]\n",
    "\n",
    "disk_multi_parameters = [\n",
    "                [\"Scattering parameters\", \"[$g_1$, $g_2$, $g_3$]\"],\n",
    "                [\"Scattering parameter weights\", \"[$w_1$, $w_2$, $w_3$]\"],\n",
    "]\n",
    "\n"
   ]
  },
  {
   "cell_type": "code",
   "execution_count": 9,
   "metadata": {},
   "outputs": [
    {
     "name": "stdout",
     "output_type": "stream",
     "text": [
      "\n",
      "\\begin{table*}[htbp]\n",
      "\\centering\n",
      "\\scriptsize\n",
      "\\caption{Deluxe Parameter Table}\n",
      "\\begin{tabular}{@{}lccccc@{}}\n",
      "\\toprule\n",
      "Parameter Name & Symbol(s) & Disk 1 & Disk 2 & Disk 3 & Disk 4 \\\\ \\midrule\n",
      "\\multicolumn{6}{c}{\\textbf{Common Parameters}} \\\\\n",
      "\\midrule\n",
      "Inclination & $i$ & \\multicolumn{4}{c}{58.37} \\\\\n",
      "Position Angle & $PA$ & \\multicolumn{4}{c}{-103.60} \\\\\n",
      "Roll 1 Center F300M & [$x_{r1}$, $y_{r1}$] & \\multicolumn{4}{c}{[146.94, 172.92]} \\\\\n",
      "Roll 2 Center F300M & [$x_{r2}$, $y_{r2}$] & \\multicolumn{4}{c}{[147.25, 172.71]} \\\\\n",
      "Roll 1 Center F360M & [$x_{r1}$, $y_{r1}$] & \\multicolumn{4}{c}{[147.25, 173.01]} \\\\\n",
      "Roll 2 Center F360M & [$x_{r2}$, $y_{r2}$] & \\multicolumn{4}{c}{[147.53, 172.82]} \\\\\n",
      "\\multicolumn{6}{c}{\\textbf{Individual Disk Parameters}} \\\\\n",
      "\\midrule\n",
      "Flux Scaling & $n_0$ & 170.73 & 48003.33 & 193.82 & 448.32 \\\\\n",
      "Disk Central Radius & $r_c$ & 31.71 & 31.04 & 297.71 & 223.01 \\\\\n",
      "Inner Power Law Index & $\\alpha_{in}$ & 6.50 & 2.57 & 4.41 & 6.68 \\\\\n",
      "Outer Power Law Index & $\\alpha_{out}$ & -0.41 & -1.29 & -0.77 & -3.41 \\\\\n",
      "Scattering parameters & [$g_1$, $g_2$, $g_3$] & [0.47, -0.70,0.44] & [0.84, 0.64,-0.90] & [0.02, -0.19,0.80] & [0.61, -0.63,0.06] \\\\\n",
      "Scattering parameter weights & [$w_1$, $w_2$, $w_3$] & [0.47, 0.38,0.14] & [0.00, 0.00,1.00] & [0.47, 0.11,0.42] & [0.60, 0.40,0.00] \\\\\n",
      "\n",
      "\\bottomrule\n",
      "\\end{tabular}\n",
      "\\end{table*}\n",
      "\n"
     ]
    }
   ],
   "source": [
    "# Start the LaTeX table\n",
    "latex_table = \"\"\"\n",
    "\\\\begin{table*}[htbp]\n",
    "\\\\centering\n",
    "\\\\scriptsize\n",
    "\\\\caption{Deluxe Parameter Table}\n",
    "\\\\begin{tabular}{@{}lccccc@{}}\n",
    "\\\\toprule\n",
    "Parameter Name & Symbol(s) & Disk 1 & Disk 2 & Disk 3 & Disk 4 \\\\\\\\ \\\\midrule\n",
    "\"\"\"\n",
    "## In the middle of the table \n",
    "latex_table += f\"\\\\multicolumn{{6}}{{c}}{{\\\\textbf{{Common Parameters}}}} \\\\\\\\\\n\"\n",
    "latex_table += f\"\\\\midrule\\n\"\n",
    "\n",
    "for param in common_parameters:\n",
    "    # Check if common_parameters[param][1] has two elements\n",
    "    if  len(common_parameters[param][1]) == 2:\n",
    "        # Format with square brackets and separated by a comma\n",
    "        values_formatted = f\"[{common_parameters[param][1][0]:.2f}, {common_parameters[param][1][1]:.2f}]\"\n",
    "    else:\n",
    "        # It's a single value, format as before\n",
    "        values_formatted = f\"{common_parameters[param][1][0]:.2f}\"\n",
    "    \n",
    "    # Add to the LaTeX table, centered\n",
    "    latex_table += f\"{param} & {common_parameters[param][0]} & \\\\multicolumn{{4}}{{c}}{{{values_formatted}}} \\\\\\\\\\n\"\n",
    "\n",
    "#Now for the disk parameters: \n",
    "\n",
    "## In the middle of the table \n",
    "latex_table += f\"\\\\multicolumn{{6}}{{c}}{{\\\\textbf{{Individual Disk Parameters}}}} \\\\\\\\\\n\"\n",
    "latex_table += f\"\\\\midrule\\n\"\n",
    "\n",
    "\n",
    "for i,param in enumerate(disk_parameters):\n",
    "    # Add the parameter name and symbol\n",
    "    latex_table += f\"{param[0]} & {param[1]} & \"\n",
    "    # Add the disk 1 values\n",
    "    latex_table += f\"{x0_f300m[2:6+n_nodes][i]:.2f} & \"\n",
    "    # Add the disk 2 values\n",
    "    latex_table += f\"{x0_f300m[6+n_nodes:10+2*n_nodes][i]:.2f} & \"\n",
    "    # Add the disk 3 values\n",
    "    latex_table += f\"{x0_f300m[10+2*n_nodes:14+3*n_nodes][i]:.2f} & \"\n",
    "    # Add the disk 4 values\n",
    "    latex_table += f\"{x0_f300m[14+3*n_nodes:18+4*n_nodes][i]:.2f} \\\\\\\\\\n\"\n",
    "    \n",
    "#Now for the disk multi parameters:\n",
    "for i, param in enumerate(disk_multi_parameters):\n",
    "    # Add the parameter name and symbol\n",
    "    latex_table += f\"{param[0]} & {param[1]} & \"\n",
    "    #Add the disk1 parameters\n",
    "    values_formatted = f\"[{x0_f300m[2:6+n_nodes][4+i*3]:.2f}, {x0_f300m[2:6+n_nodes][5+i*3]:.2f},{x0_f300m[2:6+n_nodes][6+i*3]:.2f}] & \"\n",
    "    #Add the disk2 parameters\n",
    "    values_formatted += f\"[{x0_f300m[6+n_nodes:10+2*n_nodes][4+i*3]:.2f}, {x0_f300m[6+n_nodes:10+2*n_nodes][5+i*3]:.2f},{x0_f300m[6+n_nodes:10+2*n_nodes][6+i*3]:.2f}] & \"\n",
    "    #Add the disk3 parameters\n",
    "    values_formatted += f\"[{x0_f300m[10+2*n_nodes:14+3*n_nodes][4+i*3]:.2f}, {x0_f300m[10+2*n_nodes:14+3*n_nodes][5+i*3]:.2f},{x0_f300m[10+2*n_nodes:14+3*n_nodes][6+i*3]:.2f}] & \"\n",
    "    #Add the disk4 parameters\n",
    "    values_formatted += f\"[{x0_f300m[14+3*n_nodes:18+4*n_nodes][4+i*3]:.2f}, {x0_f300m[14+3*n_nodes:18+4*n_nodes][5+i*3]:.2f},{x0_f300m[14+3*n_nodes:18+4*n_nodes][6+i*3]:.2f}] \\\\\\\\\\n\"\n",
    "    latex_table += values_formatted\n",
    "\n",
    "    \n",
    "\n",
    "\n",
    "    \n",
    "    \n",
    "\n",
    "# Close the LaTeX table\n",
    "latex_table += \"\"\"\n",
    "\\\\bottomrule\n",
    "\\\\end{tabular}\n",
    "\\\\end{table*}\n",
    "\"\"\"\n",
    "\n",
    "# Print or save the LaTeX code\n",
    "print(latex_table)"
   ]
  },
  {
   "cell_type": "markdown",
   "metadata": {},
   "source": [
    "The way the model fitting converged, ring 3 has a larger radius than ring 4, so I'm going to manually swap the table entries"
   ]
  },
  {
   "cell_type": "markdown",
   "metadata": {},
   "source": [
    "\\begin{table*}[htbp]\n",
    "\\centering\n",
    "\\scriptsize\n",
    "\\caption{Deluxe Parameter Table}\n",
    "\\begin{tabular}{@{}lccccc@{}}\n",
    "\\toprule\n",
    "Parameter Name & Symbol(s) & Disk 1 & Disk 2 & Disk 3 & Disk 4 \\\\ \\midrule\n",
    "\\multicolumn{6}{c}{\\textbf{Common Parameters}} \\\\\n",
    "\\midrule\n",
    "Inclination & $i$ & \\multicolumn{4}{c}{58.37} \\\\\n",
    "Position Angle & $PA$ & \\multicolumn{4}{c}{-103.60} \\\\\n",
    "Roll 1 Center F300M & [$x_{r1}$, $y_{r1}$] & \\multicolumn{4}{c}{[146.94, 172.92]} \\\\\n",
    "Roll 2 Center F300M & [$x_{r2}$, $y_{r2}$] & \\multicolumn{4}{c}{[147.25, 172.71]} \\\\\n",
    "Roll 1 Center F360M & [$x_{r1}$, $y_{r1}$] & \\multicolumn{4}{c}{[147.25, 173.01]} \\\\\n",
    "Roll 2 Center F360M & [$x_{r2}$, $y_{r2}$] & \\multicolumn{4}{c}{[147.53, 172.82]} \\\\\n",
    "\\multicolumn{6}{c}{\\textbf{Individual Disk Parameters}} \\\\\n",
    "\\midrule\n",
    "Flux Scaling & $n_0$ & 170.73 & 48003.33 & 448.32 & 193.82  \\\\\n",
    "Disk Central Radius & $r_c$ & 31.71 & 31.04 & 223.01 & 297.71  \\\\\n",
    "Inner Power Law Index & $\\alpha_{in}$ & 6.50 & 2.57 & 6.68 & 4.41  \\\\\n",
    "Outer Power Law Index & $\\alpha_{out}$ & -0.41 & -1.29 & -3.41 & -0.77  \\\\\n",
    "Scattering parameters & [$g_1$, $g_2$, $g_3$] & [0.47, -0.70,0.44] & [0.84, 0.64,-0.90] & [0.61, -0.63,0.06] & [0.02, -0.19,0.80]  \\\\\n",
    "Scattering parameter weights & [$w_1$, $w_2$, $w_3$] & [0.47, 0.38,0.14] & [0.00, 0.00,1.00] & [0.60, 0.40,0.00] & [0.47, 0.11,0.42] \\\\\n",
    "\n",
    "\\bottomrule\n",
    "\\end{tabular}\n",
    "\\end{table*}"
   ]
  },
  {
   "cell_type": "code",
   "execution_count": null,
   "metadata": {},
   "outputs": [],
   "source": []
  }
 ],
 "metadata": {
  "kernelspec": {
   "display_name": "new_jax_env",
   "language": "python",
   "name": "python3"
  },
  "language_info": {
   "codemirror_mode": {
    "name": "ipython",
    "version": 3
   },
   "file_extension": ".py",
   "mimetype": "text/x-python",
   "name": "python",
   "nbconvert_exporter": "python",
   "pygments_lexer": "ipython3",
   "version": "3.9.18"
  }
 },
 "nbformat": 4,
 "nbformat_minor": 2
}
